{
 "cells": [
  {
   "cell_type": "markdown",
   "metadata": {},
   "source": [
    "## Introduction\n",
    "\n",
    "The Titanic is now infamous as a shipwreck at the beginning of the 20th century. Many passengers lost their lives when the ship went down, cementing this as a tragic piece of history. We can attempt to understand what it was like in those final moments from the stories of those who survived, our exploration of the wreckage, and through our use of the records available to us. \n",
    "\n",
    "In this report, we will be focusing on an analysis of the passenger manifest to get a picture of who survived the wreck. The guiding question is \"Who had a better chance of surviving the wreck?\"\n",
    "\n",
    "While our focus will be on the numbers, we should be aware that what we're building is a big picture understanding of what happened. We'll be accessing a story of tragedy through modern data-driven means. "
   ]
  },
  {
   "cell_type": "markdown",
   "metadata": {},
   "source": [
    "### Tools\n",
    "\n",
    "Our tools will be the language Python and it's data analysis libraries. We'll make use of pandas, numpy, matplotlib (with seaborn), and some statistical tests from scipy and statsmodels."
   ]
  },
  {
   "cell_type": "code",
   "execution_count": 2,
   "metadata": {
    "collapsed": false
   },
   "outputs": [
    {
     "name": "stdout",
     "output_type": "stream",
     "text": [
      "Populating the interactive namespace from numpy and matplotlib\n"
     ]
    }
   ],
   "source": [
    "import pandas as pd\n",
    "import numpy as np\n",
    "import matplotlib.pyplot as plt\n",
    "import seaborn as sns\n",
    "from scipy.stats import ttest_ind\n",
    "from scipy.stats import ttest_1samp\n",
    "from scipy.stats import f_oneway\n",
    "from statsmodels.stats.multicomp import MultiComparison\n",
    "\n",
    "%pylab inline\n",
    "\n",
    "titanic = pd.read_csv('titanic_data.csv')"
   ]
  },
  {
   "cell_type": "markdown",
   "metadata": {},
   "source": [
    "Our alpha level for our statistical tests will be 0.05."
   ]
  },
  {
   "cell_type": "markdown",
   "metadata": {},
   "source": [
    "### The Dataset\n",
    "\n",
    "The dataset originates from a learning competition on Kaggle, [*Titanic: Machine Learning from Disaster*](https://www.kaggle.com/c/titanic). Since this analysis is mainly exploratory, our focus is on the provided train.csv file and doesn't include test.csv. This dataset is already well-organized and formatted, and doesn't require much cleaning. "
   ]
  },
  {
   "cell_type": "markdown",
   "metadata": {},
   "source": [
    "Here's what the dataset looks like."
   ]
  },
  {
   "cell_type": "code",
   "execution_count": 9,
   "metadata": {
    "collapsed": false
   },
   "outputs": [
    {
     "data": {
      "text/html": [
       "<div>\n",
       "<table border=\"1\" class=\"dataframe\">\n",
       "  <thead>\n",
       "    <tr style=\"text-align: right;\">\n",
       "      <th></th>\n",
       "      <th>PassengerId</th>\n",
       "      <th>Survived</th>\n",
       "      <th>Pclass</th>\n",
       "      <th>Name</th>\n",
       "      <th>Sex</th>\n",
       "      <th>Age</th>\n",
       "      <th>SibSp</th>\n",
       "      <th>Parch</th>\n",
       "      <th>Ticket</th>\n",
       "      <th>Fare</th>\n",
       "      <th>Cabin</th>\n",
       "      <th>Embarked</th>\n",
       "    </tr>\n",
       "  </thead>\n",
       "  <tbody>\n",
       "    <tr>\n",
       "      <th>0</th>\n",
       "      <td>1</td>\n",
       "      <td>0</td>\n",
       "      <td>3</td>\n",
       "      <td>Braund, Mr. Owen Harris</td>\n",
       "      <td>male</td>\n",
       "      <td>22.0</td>\n",
       "      <td>1</td>\n",
       "      <td>0</td>\n",
       "      <td>A/5 21171</td>\n",
       "      <td>7.2500</td>\n",
       "      <td>NaN</td>\n",
       "      <td>S</td>\n",
       "    </tr>\n",
       "    <tr>\n",
       "      <th>1</th>\n",
       "      <td>2</td>\n",
       "      <td>1</td>\n",
       "      <td>1</td>\n",
       "      <td>Cumings, Mrs. John Bradley (Florence Briggs Th...</td>\n",
       "      <td>female</td>\n",
       "      <td>38.0</td>\n",
       "      <td>1</td>\n",
       "      <td>0</td>\n",
       "      <td>PC 17599</td>\n",
       "      <td>71.2833</td>\n",
       "      <td>C85</td>\n",
       "      <td>C</td>\n",
       "    </tr>\n",
       "    <tr>\n",
       "      <th>2</th>\n",
       "      <td>3</td>\n",
       "      <td>1</td>\n",
       "      <td>3</td>\n",
       "      <td>Heikkinen, Miss. Laina</td>\n",
       "      <td>female</td>\n",
       "      <td>26.0</td>\n",
       "      <td>0</td>\n",
       "      <td>0</td>\n",
       "      <td>STON/O2. 3101282</td>\n",
       "      <td>7.9250</td>\n",
       "      <td>NaN</td>\n",
       "      <td>S</td>\n",
       "    </tr>\n",
       "    <tr>\n",
       "      <th>3</th>\n",
       "      <td>4</td>\n",
       "      <td>1</td>\n",
       "      <td>1</td>\n",
       "      <td>Futrelle, Mrs. Jacques Heath (Lily May Peel)</td>\n",
       "      <td>female</td>\n",
       "      <td>35.0</td>\n",
       "      <td>1</td>\n",
       "      <td>0</td>\n",
       "      <td>113803</td>\n",
       "      <td>53.1000</td>\n",
       "      <td>C123</td>\n",
       "      <td>S</td>\n",
       "    </tr>\n",
       "    <tr>\n",
       "      <th>4</th>\n",
       "      <td>5</td>\n",
       "      <td>0</td>\n",
       "      <td>3</td>\n",
       "      <td>Allen, Mr. William Henry</td>\n",
       "      <td>male</td>\n",
       "      <td>35.0</td>\n",
       "      <td>0</td>\n",
       "      <td>0</td>\n",
       "      <td>373450</td>\n",
       "      <td>8.0500</td>\n",
       "      <td>NaN</td>\n",
       "      <td>S</td>\n",
       "    </tr>\n",
       "  </tbody>\n",
       "</table>\n",
       "</div>"
      ],
      "text/plain": [
       "   PassengerId  Survived  Pclass  \\\n",
       "0            1         0       3   \n",
       "1            2         1       1   \n",
       "2            3         1       3   \n",
       "3            4         1       1   \n",
       "4            5         0       3   \n",
       "\n",
       "                                                Name     Sex   Age  SibSp  \\\n",
       "0                            Braund, Mr. Owen Harris    male  22.0      1   \n",
       "1  Cumings, Mrs. John Bradley (Florence Briggs Th...  female  38.0      1   \n",
       "2                             Heikkinen, Miss. Laina  female  26.0      0   \n",
       "3       Futrelle, Mrs. Jacques Heath (Lily May Peel)  female  35.0      1   \n",
       "4                           Allen, Mr. William Henry    male  35.0      0   \n",
       "\n",
       "   Parch            Ticket     Fare Cabin Embarked  \n",
       "0      0         A/5 21171   7.2500   NaN        S  \n",
       "1      0          PC 17599  71.2833   C85        C  \n",
       "2      0  STON/O2. 3101282   7.9250   NaN        S  \n",
       "3      0            113803  53.1000  C123        S  \n",
       "4      0            373450   8.0500   NaN        S  "
      ]
     },
     "execution_count": 9,
     "metadata": {},
     "output_type": "execute_result"
    }
   ],
   "source": [
    "titanic.head()"
   ]
  },
  {
   "cell_type": "code",
   "execution_count": 8,
   "metadata": {
    "collapsed": false
   },
   "outputs": [
    {
     "name": "stdout",
     "output_type": "stream",
     "text": [
      "The number of rows in the dataset: 891 .\n"
     ]
    }
   ],
   "source": [
    "print(\"The number of rows in the dataset:\",len(titanic),\".\")"
   ]
  },
  {
   "cell_type": "markdown",
   "metadata": {},
   "source": [
    "The variables of interest will be Survived, Pclass, Sex, Age, Parch, Fare. The values of some of these variables aren't entirely obvious. Survived is a binary entry denoting whether the passenger survived the ship wreck with 1 denoting survival. Pclass is the passenger class, which can be used as a proxy for the wealth of the passenger, with 1st as the highest and 3rd as the lowest. Fare can also serve that purpose. Parch is the number of parents/children aboard. Of the variables of interest for analysis, only Age has missing values. "
   ]
  },
  {
   "cell_type": "code",
   "execution_count": 4,
   "metadata": {
    "collapsed": false,
    "scrolled": true
   },
   "outputs": [
    {
     "data": {
      "text/plain": [
       "Age         177\n",
       "Cabin       687\n",
       "Embarked      2\n",
       "dtype: int64"
      ]
     },
     "execution_count": 4,
     "metadata": {},
     "output_type": "execute_result"
    }
   ],
   "source": [
    "titanic.isnull().sum()[titanic.isnull().sum() > 0]"
   ]
  },
  {
   "cell_type": "markdown",
   "metadata": {},
   "source": [
    "Age is missing 177 values, which is a significant proportion of the 891 rows in the dataset. Given the other variables in the dataset, there doesn't seem to be any reliable way to estimate the age for passengers where it is missing, and so when Age is used in calculations, the missing values will be omitted. This is handled either implicitly by filtering with a numerical comparison, which returns False for NaN's regardless of the comparison, or explicitly by setting parameters in function calls."
   ]
  },
  {
   "cell_type": "markdown",
   "metadata": {},
   "source": [
    "Throughout our analysis we will occasionally add columns to the dataset, where each value in the column is a result of aggregating data on that row. These alterations will be detailed as they come up."
   ]
  },
  {
   "cell_type": "markdown",
   "metadata": {},
   "source": [
    "## Analysis"
   ]
  },
  {
   "cell_type": "markdown",
   "metadata": {},
   "source": [
    "### Initial Exploration"
   ]
  },
  {
   "cell_type": "markdown",
   "metadata": {},
   "source": [
    "To start our calculations, we'll compute the baseline survival rate."
   ]
  },
  {
   "cell_type": "code",
   "execution_count": 5,
   "metadata": {
    "collapsed": false
   },
   "outputs": [
    {
     "data": {
      "text/plain": [
       "0.3838383838383838"
      ]
     },
     "execution_count": 5,
     "metadata": {},
     "output_type": "execute_result"
    }
   ],
   "source": [
    "baseline_survival = titanic['Survived'].mean()\n",
    "baseline_survival"
   ]
  },
  {
   "cell_type": "markdown",
   "metadata": {},
   "source": [
    "Our goal is to find factors that influenced survival. To start, we can compute correlation coefficients with the Survived varibles and other numerical variables Survived to get an idea of basic hypotheses we can test."
   ]
  },
  {
   "cell_type": "code",
   "execution_count": 6,
   "metadata": {
    "collapsed": false,
    "scrolled": true
   },
   "outputs": [
    {
     "data": {
      "text/plain": [
       "PassengerId   -0.005007\n",
       "Survived       1.000000\n",
       "Pclass        -0.338481\n",
       "Age           -0.077221\n",
       "SibSp         -0.035322\n",
       "Parch          0.081629\n",
       "Fare           0.257307\n",
       "Name: Survived, dtype: float64"
      ]
     },
     "execution_count": 6,
     "metadata": {},
     "output_type": "execute_result"
    }
   ],
   "source": [
    "titanic.corr()['Survived']"
   ]
  },
  {
   "cell_type": "markdown",
   "metadata": {},
   "source": [
    "The correlations that stand out in this list are Pclass and Fare. These both serve as relative measures of the wealth of the passenger."
   ]
  },
  {
   "cell_type": "markdown",
   "metadata": {},
   "source": [
    "We can also look at differences in means of various variables if we first group by Survived."
   ]
  },
  {
   "cell_type": "code",
   "execution_count": 7,
   "metadata": {
    "collapsed": false
   },
   "outputs": [
    {
     "data": {
      "text/html": [
       "<div>\n",
       "<table border=\"1\" class=\"dataframe\">\n",
       "  <thead>\n",
       "    <tr style=\"text-align: right;\">\n",
       "      <th></th>\n",
       "      <th>PassengerId</th>\n",
       "      <th>Pclass</th>\n",
       "      <th>Age</th>\n",
       "      <th>SibSp</th>\n",
       "      <th>Parch</th>\n",
       "      <th>Fare</th>\n",
       "    </tr>\n",
       "    <tr>\n",
       "      <th>Survived</th>\n",
       "      <th></th>\n",
       "      <th></th>\n",
       "      <th></th>\n",
       "      <th></th>\n",
       "      <th></th>\n",
       "      <th></th>\n",
       "    </tr>\n",
       "  </thead>\n",
       "  <tbody>\n",
       "    <tr>\n",
       "      <th>0</th>\n",
       "      <td>447.016393</td>\n",
       "      <td>2.531876</td>\n",
       "      <td>30.626179</td>\n",
       "      <td>0.553734</td>\n",
       "      <td>0.329690</td>\n",
       "      <td>22.117887</td>\n",
       "    </tr>\n",
       "    <tr>\n",
       "      <th>1</th>\n",
       "      <td>444.368421</td>\n",
       "      <td>1.950292</td>\n",
       "      <td>28.343690</td>\n",
       "      <td>0.473684</td>\n",
       "      <td>0.464912</td>\n",
       "      <td>48.395408</td>\n",
       "    </tr>\n",
       "  </tbody>\n",
       "</table>\n",
       "</div>"
      ],
      "text/plain": [
       "          PassengerId    Pclass        Age     SibSp     Parch       Fare\n",
       "Survived                                                                 \n",
       "0          447.016393  2.531876  30.626179  0.553734  0.329690  22.117887\n",
       "1          444.368421  1.950292  28.343690  0.473684  0.464912  48.395408"
      ]
     },
     "execution_count": 7,
     "metadata": {},
     "output_type": "execute_result"
    }
   ],
   "source": [
    "titanic.groupby('Survived').mean()"
   ]
  },
  {
   "cell_type": "markdown",
   "metadata": {},
   "source": [
    "We see again what looks like differences in survival for Pclass and Fare, and maybe Age and Parch. Since Pclass and Fare are both proxies for the wealth of the passenger, but Pclass is discrete, our analysis will focus on this variable rather than Fare. Also, the analysis will not look at Parch, assuming that it's possible relationship to survival is mostly due to being somewhat conflated with Age and possibly Sex. "
   ]
  },
  {
   "cell_type": "markdown",
   "metadata": {},
   "source": [
    "Finally as part of the initial analysis we would like to look at possible differences in survival between genders. We can get an idea of the difference by grouping by genders and looking at the mean survival rate."
   ]
  },
  {
   "cell_type": "code",
   "execution_count": 8,
   "metadata": {
    "collapsed": false
   },
   "outputs": [
    {
     "data": {
      "text/plain": [
       "Sex\n",
       "female    0.742038\n",
       "male      0.188908\n",
       "Name: Survived, dtype: float64"
      ]
     },
     "execution_count": 8,
     "metadata": {},
     "output_type": "execute_result"
    }
   ],
   "source": [
    "titanic.groupby('Sex').mean()['Survived']"
   ]
  },
  {
   "cell_type": "markdown",
   "metadata": {},
   "source": [
    "There looks to be a very stark difference between male and female survival rates and so we'll also look at this closer."
   ]
  },
  {
   "cell_type": "markdown",
   "metadata": {},
   "source": [
    "### Passenger Class"
   ]
  },
  {
   "cell_type": "markdown",
   "metadata": {},
   "source": [
    "We'll first focus on Pclass. If we group by Pclass and plot the means:"
   ]
  },
  {
   "cell_type": "code",
   "execution_count": 9,
   "metadata": {
    "collapsed": false,
    "scrolled": false
   },
   "outputs": [
    {
     "name": "stdout",
     "output_type": "stream",
     "text": [
      "Pclass\n",
      "1    0.629630\n",
      "2    0.472826\n",
      "3    0.242363\n",
      "Name: Survived, dtype: float64\n"
     ]
    },
    {
     "data": {
      "image/png": "[encoded data removed]",
      "text/plain": [
       "<matplotlib.figure.Figure at 0xa807860>"
      ]
     },
     "metadata": {},
     "output_type": "display_data"
    }
   ],
   "source": [
    "means_by_pclass = titanic.groupby('Pclass').mean()['Survived']\n",
    "print(means_by_pclass)\n",
    "\n",
    "# Append the baseline_survival rate to the means list for plotting\n",
    "means_by_pclass = means_by_pclass.append(pd.Series([baseline_survival]))\n",
    "\n",
    "# Prepare parameters for plotting\n",
    "N = len(means_by_pclass) \n",
    "fig, ax = plt.subplots()\n",
    "\n",
    "bar_width = 0.75\n",
    "left_locs = np.arange(N)\n",
    "\n",
    "ax.bar(left_locs, means_by_pclass, bar_width)\n",
    "\n",
    "ax.set_ylabel('Survival Proportion')\n",
    "ax.set_xlabel('Passenger Class')\n",
    "ax.set_title('Survival Proportion by Passenger Class')\n",
    "ax.set_xticks(left_locs + bar_width/2)\n",
    "ax.set_xticklabels(('1st', '2nd', '3rd', 'Baseline'))\n",
    "silent = plt.ylim([0,1])"
   ]
  },
  {
   "cell_type": "markdown",
   "metadata": {},
   "source": [
    "These means all seem to differ from the baseline survival rate. An interesting question is whether these deviations are statistically significant. We'll perform a t-test on each subset to see if the deviations from the baseline are significant. "
   ]
  },
  {
   "cell_type": "code",
   "execution_count": 19,
   "metadata": {
    "collapsed": false
   },
   "outputs": [
    {
     "name": "stdout",
     "output_type": "stream",
     "text": [
      "The P value for the 1 sample t-test comparing the mean survival rate for the 1st passenger class and the baseline is: 2.06960388843e-12 .\n",
      "The P value for the 1 sample t-test comparing the mean survival rate for the 2nd passenger class and the baseline is: 0.0168903819463 .\n",
      "The P value for the 1 sample t-test comparing the mean survival rate for the 3rd passenger class and the baseline is: 1.10691724393e-12 .\n"
     ]
    }
   ],
   "source": [
    "survival_by_pclass = titanic.groupby('Pclass')['Survived']\n",
    "\n",
    "# Perform one sample t-tests of each Pclass against baseline_survival as the population mean.\n",
    "ttest_1_pclass = ttest_1samp(survival_by_pclass.get_group(1), baseline_survival, nan_policy='omit')\n",
    "ttest_2_pclass = ttest_1samp(survival_by_pclass.get_group(2), baseline_survival, nan_policy='omit')\n",
    "ttest_3_pclass = ttest_1samp(survival_by_pclass.get_group(3), baseline_survival, nan_policy='omit')\n",
    "\n",
    "print(\"The P value for the 1 sample t-test comparing the mean survival rate for the 1st passenger class and the baseline is:\",ttest_1_pclass.pvalue,\".\")\n",
    "print(\"The P value for the 1 sample t-test comparing the mean survival rate for the 2nd passenger class and the baseline is:\",ttest_2_pclass.pvalue,\".\")\n",
    "print(\"The P value for the 1 sample t-test comparing the mean survival rate for the 3rd passenger class and the baseline is:\",ttest_3_pclass.pvalue,\".\")"
   ]
  },
  {
   "cell_type": "markdown",
   "metadata": {},
   "source": [
    "Thus we see that each difference from the baseline is statistically significant, even for the 2nd passenger class, which lies relatively closely to the baseline. Another important question is whether these groups differ from each other significantly. Let's perform a F-test."
   ]
  },
  {
   "cell_type": "code",
   "execution_count": 20,
   "metadata": {
    "collapsed": false
   },
   "outputs": [
    {
     "name": "stdout",
     "output_type": "stream",
     "text": [
      "The P value for the F-test comparing the mean survival rate each passenger class is 2.18324741512e-24 .\n"
     ]
    }
   ],
   "source": [
    "# Perform an F-test on the mean survival rates of each Pclass.\n",
    "ftest_pclass = f_oneway(survival_by_pclass.get_group(1), survival_by_pclass.get_group(2), survival_by_pclass.get_group(3))\n",
    "print(\"The P value for the F-test comparing the mean survival rate each passenger class is\",ftest_pclass.pvalue,\".\")"
   ]
  },
  {
   "cell_type": "markdown",
   "metadata": {},
   "source": [
    "The F-test reveals that at least two of the groups differ significantly. We can perform a Tukey's test to see which differ."
   ]
  },
  {
   "cell_type": "code",
   "execution_count": 9,
   "metadata": {
    "collapsed": false
   },
   "outputs": [
    {
     "name": "stdout",
     "output_type": "stream",
     "text": [
      "Multiple Comparison of Means - Tukey HSD,FWER=0.05\n",
      "=============================================\n",
      "group1 group2 meandiff  lower   upper  reject\n",
      "---------------------------------------------\n",
      "  1      2    -0.1568  -0.2647 -0.0489  True \n",
      "  1      3    -0.3873  -0.4751 -0.2994  True \n",
      "  2      3    -0.2305  -0.3234 -0.1375  True \n",
      "---------------------------------------------\n"
     ]
    }
   ],
   "source": [
    "# Use multicomparison from statsmodels to perform Tukey's test for Pclass groups\n",
    "multicomp_pclass = MultiComparison(titanic['Survived'], titanic['Pclass'])\n",
    "print(mod.tukeyhsd())"
   ]
  },
  {
   "cell_type": "markdown",
   "metadata": {},
   "source": [
    "As it turns out, each group is significantly different from each other. We can conclude that each passenger classes had different survival rates."
   ]
  },
  {
   "cell_type": "markdown",
   "metadata": {},
   "source": [
    "This suggests that being in a higher class offered a better chance of survival. What story does this tell? Perhaps the better passenger classes were given priority on the limited lifeboats, or perhaps the way rooms were distributed around the boat put the more expensive rooms closer to lifeboats."
   ]
  },
  {
   "cell_type": "markdown",
   "metadata": {},
   "source": [
    "### Gender and Age"
   ]
  },
  {
   "cell_type": "markdown",
   "metadata": {},
   "source": [
    "Similar to what we did with passenger class, we'll first look at the differences in survival rate by gender. "
   ]
  },
  {
   "cell_type": "code",
   "execution_count": 27,
   "metadata": {
    "collapsed": false,
    "scrolled": true
   },
   "outputs": [
    {
     "name": "stdout",
     "output_type": "stream",
     "text": [
      "The P value for the independent t-test comparing the mean survival rate for each gender is: 2.2836009226e-61 .\n"
     ]
    }
   ],
   "source": [
    "# Perform an independent t-test comparing the gender groups\n",
    "gender_groups = titanic.groupby('Sex')['Survived']\n",
    "results_gender = ttest_ind(gender_groups.get_group('female'), gender_groups.get_group('male'), \\\n",
    "                           equal_var=False, nan_policy='omit')\n",
    "print(\"The P value for the independent t-test comparing the mean survival rate for each gender is:\",results_gender.pvalue,\".\")"
   ]
  },
  {
   "cell_type": "markdown",
   "metadata": {},
   "source": [
    "We see a highly significant difference in the survival rate of males and females, with the female mean greater than males."
   ]
  },
  {
   "cell_type": "markdown",
   "metadata": {},
   "source": [
    "As for age, any difference in survival might be easier to see if we split by children and adults, or those under 18 and those over 18."
   ]
  },
  {
   "cell_type": "code",
   "execution_count": 38,
   "metadata": {
    "collapsed": false,
    "scrolled": true
   },
   "outputs": [
    {
     "data": {
      "text/plain": [
       "Over_18     0.361183\n",
       "Under_18    0.539823\n",
       "Name: Survived, dtype: float64"
      ]
     },
     "execution_count": 38,
     "metadata": {},
     "output_type": "execute_result"
    }
   ],
   "source": [
    "# Group in titanic by using a mapping function on age which assigns people to either the under 18 or over 18 group\n",
    "def assign_age_group(x):\n",
    "    return \"Under_18\" if titanic['Age'].loc[x] < 18 else \"Over_18\"\n",
    "\n",
    "age_groups = titanic.groupby(assign_age_group)['Survived']\n",
    "age_groups.mean()"
   ]
  },
  {
   "cell_type": "markdown",
   "metadata": {},
   "source": [
    "Thus, we see a difference in the survival rates of those under 18 and those over 18. Is this difference statistically significant?"
   ]
  },
  {
   "cell_type": "code",
   "execution_count": 28,
   "metadata": {
    "collapsed": false
   },
   "outputs": [
    {
     "name": "stdout",
     "output_type": "stream",
     "text": [
      "The P value for the independent t-test comparing the mean survival rates of children and adults is: 0.000499467062727 .\n"
     ]
    }
   ],
   "source": [
    "results_age = ttest_ind(age_groups.get_group('Under_18'), age_groups.get_group('Over_18'), \\\n",
    "                        equal_var=False, nan_policy='omit')\n",
    "print(\"The P value for the independent t-test comparing the mean survival rates of children and adults is:\",results_age.pvalue,\".\")"
   ]
  },
  {
   "cell_type": "markdown",
   "metadata": {},
   "source": [
    "Thus the difference is significant. The significantly higher survival rate of females vs males suggests that women and girls were given priority in boarding lifeboats. And similarly, the higher survival rates of the under 18 group suggests that children were given priority in boarding lifeboats."
   ]
  },
  {
   "cell_type": "markdown",
   "metadata": {},
   "source": [
    "What if we look a little bit closer at gender and age together? Were girls more likely to survive than boys and women more likely than men?"
   ]
  },
  {
   "cell_type": "code",
   "execution_count": 39,
   "metadata": {
    "collapsed": false
   },
   "outputs": [
    {
     "name": "stdout",
     "output_type": "stream",
     "text": [
      "          Sex   \n",
      "Over_18   female    0.752896\n",
      "          male      0.165703\n",
      "Under_18  female    0.690909\n",
      "          male      0.396552\n",
      "Name: Survived, dtype: float64\n"
     ]
    },
    {
     "data": {
      "image/png": "[encoded data removed]",
      "text/plain": [
       "<matplotlib.figure.Figure at 0x5dd4e48>"
      ]
     },
     "metadata": {},
     "output_type": "display_data"
    }
   ],
   "source": [
    "# Group by the previous mapping function and also by the Sex column\n",
    "gender_age_groups = titanic.groupby([assign_age_group, 'Sex'])['Survived']\n",
    "print(gender_age_groups.mean())\n",
    "\n",
    "# Prepare plotting parameters\n",
    "means_by_gender_age = gender_age_groups.mean()\n",
    "\n",
    "N = len(means_by_gender_age) \n",
    "fig, ax = plt.subplots()\n",
    "\n",
    "bar_width = 0.75\n",
    "left_locs = np.arange(N)\n",
    "\n",
    "ax.bar(left_locs, means_by_gender_age, bar_width, label='Survived', color='blue')\n",
    "\n",
    "ax.set_ylabel('Survival Proportion')\n",
    "ax.set_xlabel('Gender and Age Group')\n",
    "ax.set_title('Survival Proportion by Gender and Age Group')\n",
    "ax.set_xticks(left_locs + bar_width/2)\n",
    "silent = ax.set_xticklabels(('Over 18 Female', 'Over 18 Male', 'Under 18 Female', 'Under 18 Male'))\n",
    "silent = plt.ylim([0,1])"
   ]
  },
  {
   "cell_type": "markdown",
   "metadata": {},
   "source": [
    "Tentatively it looks like women and girls had about the same survival rate, which were both better than boys and men, while boys had better survival rates than men."
   ]
  },
  {
   "cell_type": "markdown",
   "metadata": {},
   "source": [
    "Let's make this more precise. First, we'll add another column to our dataframe to make grouping a little easier."
   ]
  },
  {
   "cell_type": "code",
   "execution_count": 32,
   "metadata": {
    "collapsed": false
   },
   "outputs": [],
   "source": [
    "# Takes a row from the data frame and returns a string representing it's sex and age group pair\n",
    "def sex_age_pair(row):\n",
    "    if row['Sex'] == 'male' and row['Age'] < 18:\n",
    "        return \"M-C\"\n",
    "    elif row['Sex'] == 'male' and row['Age'] >= 18:\n",
    "        return \"M-A\"\n",
    "    elif row['Sex'] == 'female' and row['Age'] < 18:\n",
    "        return \"F-C\"\n",
    "    else:\n",
    "        return \"F-A\"\n",
    "\n",
    "# Apply the function to each row and assign the result to a new column in titanic\n",
    "titanic['sex_age_pair'] = titanic.apply(lambda x: sex_age_pair(x), axis=1)"
   ]
  },
  {
   "cell_type": "markdown",
   "metadata": {},
   "source": [
    "Now we can perform an F-test to see if there is any significant difference between the groups."
   ]
  },
  {
   "cell_type": "code",
   "execution_count": 34,
   "metadata": {
    "collapsed": false
   },
   "outputs": [
    {
     "name": "stdout",
     "output_type": "stream",
     "text": [
      "The P value for the F-test comparing the means of the sex and age pairs is: 2.75899055295e-32 .\n"
     ]
    }
   ],
   "source": [
    "# Perform an F-test on the mean survival rates of each sex and age pair \n",
    "gender_age_groups = titanic.groupby('sex_age_pair')['Survived']\n",
    "ftest_gender_age = f_oneway(gender_age_groups.get_group('M-C'), gender_age_groups.get_group('M-A'), \n",
    "                        gender_age_groups.get_group('F-C'), gender_age_groups.get_group('F-A'))\n",
    "print(\"The P value for the F-test comparing the means of the sex and age pairs is:\",ftest_gender_age.pvalue,\".\")"
   ]
  },
  {
   "cell_type": "markdown",
   "metadata": {},
   "source": [
    "The F-test suggests that at least two of the groupings are different, and so we can use Tukey's test."
   ]
  },
  {
   "cell_type": "code",
   "execution_count": 24,
   "metadata": {
    "collapsed": false
   },
   "outputs": [
    {
     "name": "stdout",
     "output_type": "stream",
     "text": [
      "Multiple Comparison of Means - Tukey HSD,FWER=0.05\n",
      "=============================================\n",
      "group1 group2 meandiff  lower   upper  reject\n",
      "---------------------------------------------\n",
      " F-A    F-C     0.14   -0.0263  0.3062 False \n",
      " F-A    M-A   -0.3737  -0.4564  -0.291  True \n",
      " F-A    M-C   -0.1544  -0.3168  0.0081 False \n",
      " F-C    M-A   -0.5137  -0.6796 -0.3478  True \n",
      " F-C    M-C   -0.2944  -0.5114 -0.0774  True \n",
      " M-A    M-C    0.2193   0.0572  0.3815  True \n",
      "---------------------------------------------\n"
     ]
    }
   ],
   "source": [
    "# Perform a Tukey's test on the mean survival rates of each sex and age pair\n",
    "multicomp_sex_age = MultiComparison(titanic['Survived'], titanic['sex_age_pair'])\n",
    "print(mod.tukeyhsd())"
   ]
  },
  {
   "cell_type": "markdown",
   "metadata": {},
   "source": [
    "These results suggest that indeed women, girls, and boys survived at different rates from men, and further that girls had better survival rates than boys. This suggests that women and girls were given the highest priority, followed by boys and then finally by men."
   ]
  },
  {
   "cell_type": "markdown",
   "metadata": {},
   "source": [
    "### Gender, Age, and Passenger Class"
   ]
  },
  {
   "cell_type": "markdown",
   "metadata": {},
   "source": [
    "Finally, let's see if we can find any significant differences if we group the data by all three variables. This will help get us a more nuanced picture. Perhaps we only saw the difference in survival for different passenger classes because of different demographics."
   ]
  },
  {
   "cell_type": "markdown",
   "metadata": {},
   "source": [
    "We'll plot a bar graph of the different survival rates, grouped first by the passenger class, then ordered within those groups as Over 18 Females, Over 18 Males, Under 18 Females, and Under 18 Males. The results in this section are more tentative since the complexity of the grouping results in some small sample sizes, particularly in the under 18 group in the 1st passenger class."
   ]
  },
  {
   "cell_type": "code",
   "execution_count": 40,
   "metadata": {
    "collapsed": false
   },
   "outputs": [
    {
     "name": "stdout",
     "output_type": "stream",
     "text": [
      "Pclass            Sex   \n",
      "1       Over_18   female    0.976744\n",
      "                  male      0.347458\n",
      "        Under_18  female    0.875000\n",
      "                  male      1.000000\n",
      "2       Over_18   female    0.906250\n",
      "                  male      0.082474\n",
      "        Under_18  female    1.000000\n",
      "                  male      0.818182\n",
      "3       Over_18   female    0.486239\n",
      "                  male      0.121711\n",
      "        Under_18  female    0.542857\n",
      "                  male      0.232558\n",
      "Name: Survived, dtype: float64\n",
      "Pclass            Sex   \n",
      "1       Over_18   female     86\n",
      "                  male      118\n",
      "        Under_18  female      8\n",
      "                  male        4\n",
      "2       Over_18   female     64\n",
      "                  male       97\n",
      "        Under_18  female     12\n",
      "                  male       11\n",
      "3       Over_18   female    109\n",
      "                  male      304\n",
      "        Under_18  female     35\n",
      "                  male       43\n",
      "Name: Survived, dtype: int64\n"
     ]
    },
    {
     "data": {
      "image/png": "[encoded data removed]",
      "text/plain": [
       "<matplotlib.figure.Figure at 0x5e49a58>"
      ]
     },
     "metadata": {},
     "output_type": "display_data"
    }
   ],
   "source": [
    "# Group by apply the mapping function for age as before, along with Pclass and Sex\n",
    "gender_age_pclass_group = titanic.groupby(['Pclass', assign_age_group, 'Sex'])['Survived']\n",
    "print(gender_age_pclass_group.mean())\n",
    "print(gender_age_pclass_group.count())\n",
    "\n",
    "# Prepare parameters for plotting\n",
    "means_by_gender_age_pclass = gender_age_pclass_group.mean()\n",
    "\n",
    "N = len(means_by_gender_age_pclass) \n",
    "fig, ax = plt.subplots()\n",
    "\n",
    "bar_width = 0.2\n",
    "left_locs = np.arange(N/3) # divide by 3 to set up 3 different plotting groups\n",
    "\n",
    "# Plot each passenger class together and shift left_locations so as not to overlap\n",
    "ax.bar(left_locs*bar_width, means_by_gender_age_pclass.loc[1], bar_width)\n",
    "ax.bar(left_locs*bar_width + 1, means_by_gender_age_pclass.loc[2], bar_width)\n",
    "ax.bar(left_locs*bar_width + 2, means_by_gender_age_pclass.loc[3], bar_width)\n",
    "\n",
    "ax.set_ylabel('Survival Proportion')\n",
    "ax.set_xlabel('Passenger Class Groups')\n",
    "ax.set_title('Survival Proportion by Gender, Age, and Passenger Class')\n",
    "ax.set_xticks([bar_width*2,bar_width*2 + 1,bar_width*2 + 2])\n",
    "silent = ax.set_xticklabels(('1st', '2nd', '3rd'))"
   ]
  },
  {
   "cell_type": "markdown",
   "metadata": {},
   "source": [
    "Both 1st and 2nd passenger class look very similar, but 3rd stands out as being lower across each sex and age pair, except possibly for over 18 males."
   ]
  },
  {
   "cell_type": "markdown",
   "metadata": {},
   "source": [
    "We'll define another function which will be used to map the rows of the dataframe to a value representing its sex, age group and passenger class triple."
   ]
  },
  {
   "cell_type": "code",
   "execution_count": 42,
   "metadata": {
    "collapsed": false
   },
   "outputs": [],
   "source": [
    "# Take a row from the data frame, pass it to sex_age_pair from before and then append passenger class to the string\n",
    "def sex_age_pclass_triple(row):\n",
    "    if row['Pclass'] == 1:\n",
    "        return sex_age_pair(row) + '-1st'\n",
    "    elif row['Pclass'] == 2:\n",
    "        return sex_age_pair(row) + '-2nd'\n",
    "    else:\n",
    "        return sex_age_pair(row) + '-3rd'\n",
    "\n",
    "# Use sex_age_pclass_triple to define a new column in titanic    \n",
    "titanic['sex_age_pclass_triple'] = titanic.apply(lambda x: sex_age_pclass_triple(x), axis=1)"
   ]
  },
  {
   "cell_type": "markdown",
   "metadata": {},
   "source": [
    "We can now use the new column to perform an F-test."
   ]
  },
  {
   "cell_type": "code",
   "execution_count": 44,
   "metadata": {
    "collapsed": false
   },
   "outputs": [
    {
     "name": "stdout",
     "output_type": "stream",
     "text": [
      "The P value for the F-test comparing the means of the sex, age group and passenger class triples is: 1.34577471331e-70 .\n"
     ]
    }
   ],
   "source": [
    "# Perform an F-test on the mean survival rate of the data grouped by the triples\n",
    "gender_age_pclass_groups = titanic.groupby('sex_age_pclass_triple')['Survived']\n",
    "ftest_gender_age_pclass = f_oneway( gender_age_pclass_groups.get_group('M-C-1st'), gender_age_pclass_groups.get_group('M-A-1st'), \\\n",
    "                                    gender_age_pclass_groups.get_group('F-C-1st'), gender_age_pclass_groups.get_group('F-A-1st'), \\\n",
    "                                    gender_age_pclass_groups.get_group('M-C-2nd'), gender_age_pclass_groups.get_group('M-A-2nd'), \\\n",
    "                                    gender_age_pclass_groups.get_group('F-C-2nd'), gender_age_pclass_groups.get_group('F-A-2nd'), \\\n",
    "                                    gender_age_pclass_groups.get_group('M-C-3rd'), gender_age_pclass_groups.get_group('M-A-3rd'), \\\n",
    "                                    gender_age_pclass_groups.get_group('F-C-3rd'), gender_age_pclass_groups.get_group('F-A-3rd') )\n",
    "print(\"The P value for the F-test comparing the means of the sex, age group and passenger class triples is:\",ftest_gender_age_pclass.pvalue,\".\")"
   ]
  },
  {
   "cell_type": "markdown",
   "metadata": {},
   "source": [
    "At least two of the groups are different. We'll conclude by running a Tukey's test to determine which passenger classes are different after grouping by sex and age groups. (The full results and code are reproduced in the appendix, since this test produces a 132 row table.)"
   ]
  },
  {
   "cell_type": "raw",
   "metadata": {},
   "source": [
    "Multiple Comparison of Means - Tukey HSD,FWER=0.05\n",
    "===============================================\n",
    " group1  group2 meandiff  lower   upper  reject\n",
    "-----------------------------------------------\n",
    "F-A-1st F-A-2nd -0.0099  -0.2085  0.1887 False \n",
    "F-A-1st F-A-3rd -0.5264  -0.6826 -0.3701  True \n",
    "F-A-2nd F-A-3rd -0.5165   -0.695  -0.338  True \n",
    "\n",
    "F-C-1st F-C-2nd  0.125   -0.4721  0.7221 False \n",
    "F-C-1st F-C-3rd -0.3321  -0.8448  0.1805 False \n",
    "F-C-2nd F-C-3rd -0.4571  -0.8948 -0.0195  True \n",
    "\n",
    "M-A-1st M-A-2nd  -0.303  -0.4955 -0.1104  True \n",
    "M-A-1st M-A-3rd -0.2378  -0.3984 -0.0772  True \n",
    "M-A-2nd M-A-3rd  0.0652   -0.101  0.2313 False \n",
    "\n",
    "M-C-1st M-C-2nd -0.1818  -0.9457  0.582  False \n",
    "M-C-1st M-C-3rd -0.7674  -1.4513 -0.0836  True \n",
    "M-C-2nd M-C-3rd -0.5856  -1.0276 -0.1436  True \n",
    "-----------------------------------------------"
   ]
  },
  {
   "cell_type": "markdown",
   "metadata": {},
   "source": [
    "This final Tukey test reveals some interesting differences. We see that the survival rate for the 3rd passenger class was significantly worse across every sex and age group pair. Perhaps the room placement for the 3rd passenger class put them at a significant disadvantage during the shipwreck. The only exceptions might be under 18 females in 1st class versus 3rd class and over 18 males in 2nd class vs 3rd class. The former could be due to the small sample size of under 18 females in 1st class decreasing the power of the test. \n",
    "\n",
    "The latter elucidates an interesting difference. Over 18 males in 1st and 2nd class is the only group which shows a significant difference between other sex and age group pair 1st and 2nd classes. This suggests that over 18 males in 1st class had some advantage in surviving the ship wreck."
   ]
  },
  {
   "cell_type": "markdown",
   "metadata": {},
   "source": [
    "## Conclusion"
   ]
  },
  {
   "cell_type": "markdown",
   "metadata": {},
   "source": [
    "The data seems to corroborate the story of the Titanic shipwreck that we've heard in popular culture. Women and children seem like they were given preference over males. However, it has also revealed where that story is more nuanced. Even comparing young girls and boys, it looks like girls had a higher chance to survive. Being in 3rd class meant a worse chance for survival. And for some reason adults males in 1st class had significantly better survival chances than other adult males."
   ]
  },
  {
   "cell_type": "markdown",
   "metadata": {},
   "source": [
    "## Appendix: Full Tukey's Test Results for Gender/Age/Passenger Class"
   ]
  },
  {
   "cell_type": "code",
   "execution_count": 45,
   "metadata": {
    "collapsed": false,
    "scrolled": true
   },
   "outputs": [
    {
     "name": "stdout",
     "output_type": "stream",
     "text": [
      "Multiple Comparison of Means - Tukey HSD,FWER=0.05\n",
      "===============================================\n",
      " group1  group2 meandiff  lower   upper  reject\n",
      "-----------------------------------------------\n",
      "F-A-1st F-A-2nd -0.0099  -0.2085  0.1887 False \n",
      "F-A-1st F-A-3rd -0.5264  -0.6826 -0.3701  True \n",
      "F-A-1st F-C-1st  0.0432  -0.4363  0.5227 False \n",
      "F-A-1st F-C-2nd  0.1682   -0.23   0.5665 False \n",
      "F-A-1st F-C-3rd -0.2889  -0.5437 -0.0342  True \n",
      "F-A-1st M-A-1st -0.4606   -0.644 -0.2772  True \n",
      "F-A-1st M-A-2nd -0.7636  -0.9519 -0.5753  True \n",
      "F-A-1st M-A-3rd -0.6984  -0.8538 -0.5431  True \n",
      "F-A-1st M-C-1st  0.1682   -0.498  0.8344 False \n",
      "F-A-1st M-C-2nd -0.0136  -0.4278  0.4006 False \n",
      "F-A-1st M-C-3rd -0.5992  -0.8354  -0.363  True \n",
      "F-A-2nd F-A-3rd -0.5165   -0.695  -0.338  True \n",
      "F-A-2nd F-C-1st  0.0531  -0.4341  0.5403 False \n",
      "F-A-2nd F-C-2nd  0.1781  -0.2294  0.5856 False \n",
      "F-A-2nd F-C-3rd -0.2791   -0.548 -0.0101  True \n",
      "F-A-2nd M-A-1st -0.4508  -0.6535 -0.2481  True \n",
      "F-A-2nd M-A-2nd -0.7537  -0.9608 -0.5466  True \n",
      "F-A-2nd M-A-3rd -0.6886  -0.8663 -0.5108  True \n",
      "F-A-2nd M-C-1st  0.1781  -0.4937  0.8499 False \n",
      "F-A-2nd M-C-2nd -0.0037  -0.4269  0.4194 False \n",
      "F-A-2nd M-C-3rd -0.5894  -0.8408 -0.3379  True \n",
      "F-A-3rd F-C-1st  0.5696   0.098   1.0411  True \n",
      "F-A-3rd F-C-2nd  0.6946   0.3059  1.0832  True \n",
      "F-A-3rd F-C-3rd  0.2374   -0.002  0.4769 False \n",
      "F-A-3rd M-A-1st  0.0657  -0.0958  0.2272 False \n",
      "F-A-3rd M-A-2nd -0.2372  -0.4042 -0.0703  True \n",
      "F-A-3rd M-A-3rd -0.1721  -0.3009 -0.0433  True \n",
      "F-A-3rd M-C-1st  0.6946   0.0341  1.3551  True \n",
      "F-A-3rd M-C-2nd  0.5128   0.1078  0.9178  True \n",
      "F-A-3rd M-C-3rd -0.0729  -0.2925  0.1468 False \n",
      "F-C-1st F-C-2nd  0.125   -0.4721  0.7221 False \n",
      "F-C-1st F-C-3rd -0.3321  -0.8448  0.1805 False \n",
      "F-C-1st M-A-1st -0.5039  -0.9851 -0.0226  True \n",
      "F-C-1st M-A-2nd -0.8068  -1.2899 -0.3237  True \n",
      "F-C-1st M-A-3rd -0.7417  -1.2129 -0.2704  True \n",
      "F-C-1st M-C-1st  0.125   -0.6761  0.9261 False \n",
      "F-C-1st M-C-2nd -0.0568  -0.6647  0.5511 False \n",
      "F-C-1st M-C-3rd -0.6424  -1.1462 -0.1387  True \n",
      "F-C-2nd F-C-3rd -0.4571  -0.8948 -0.0195  True \n",
      "F-C-2nd M-A-1st -0.6289  -1.0292 -0.2285  True \n",
      "F-C-2nd M-A-2nd -0.9318  -1.3344 -0.5292  True \n",
      "F-C-2nd M-A-3rd -0.8667   -1.255 -0.4784  True \n",
      "F-C-2nd M-C-1st   0.0    -0.7553  0.7553 False \n",
      "F-C-2nd M-C-2nd -0.1818  -0.7279  0.3643 False \n",
      "F-C-2nd M-C-3rd -0.7674  -1.1945 -0.3403  True \n",
      "F-C-3rd M-A-1st -0.1717  -0.4297  0.0862 False \n",
      "F-C-3rd M-A-2nd -0.4747  -0.7361 -0.2132  True \n",
      "F-C-3rd M-A-3rd -0.4095  -0.6484 -0.1707  True \n",
      "F-C-3rd M-C-1st  0.4571  -0.2333  1.1476 False \n",
      "F-C-3rd M-C-2nd  0.2753  -0.1769  0.7275 False \n",
      "F-C-3rd M-C-3rd -0.3103  -0.6081 -0.0125  True \n",
      "M-A-1st M-A-2nd  -0.303  -0.4955 -0.1104  True \n",
      "M-A-1st M-A-3rd -0.2378  -0.3984 -0.0772  True \n",
      "M-A-1st M-C-1st  0.6289  -0.0386  1.2963 False \n",
      "M-A-1st M-C-2nd  0.447    0.0308  0.8633  True \n",
      "M-A-1st M-C-3rd -0.1386  -0.3783  0.1011 False \n",
      "M-A-2nd M-A-3rd  0.0652   -0.101  0.2313 False \n",
      "M-A-2nd M-C-1st  0.9318   0.263   1.6006  True \n",
      "M-A-2nd M-C-2nd   0.75    0.3316  1.1684  True \n",
      "M-A-2nd M-C-3rd  0.1644   -0.079  0.4078 False \n",
      "M-A-3rd M-C-1st  0.8667   0.2064  1.527   True \n",
      "M-A-3rd M-C-2nd  0.6848   0.2802  1.0895  True \n",
      "M-A-3rd M-C-3rd  0.0992  -0.1198  0.3182 False \n",
      "M-C-1st M-C-2nd -0.1818  -0.9457  0.582  False \n",
      "M-C-1st M-C-3rd -0.7674  -1.4513 -0.0836  True \n",
      "M-C-2nd M-C-3rd -0.5856  -1.0276 -0.1436  True \n",
      "-----------------------------------------------\n"
     ]
    }
   ],
   "source": [
    "multicomp_sex_age_pclass = MultiComparison(titanic['Survived'], titanic['sex_age_pclass_triple'])\n",
    "print(multicomp_sex_age_pclass.tukeyhsd())"
   ]
  }
 ],
 "metadata": {
  "kernelspec": {
   "display_name": "Python 3",
   "language": "python",
   "name": "python3"
  },
  "language_info": {
   "codemirror_mode": {
    "name": "ipython",
    "version": 3
   },
   "file_extension": ".py",
   "mimetype": "text/x-python",
   "name": "python",
   "nbconvert_exporter": "python",
   "pygments_lexer": "ipython3",
   "version": "3.4.4"
  }
 },
 "nbformat": 4,
 "nbformat_minor": 0
}

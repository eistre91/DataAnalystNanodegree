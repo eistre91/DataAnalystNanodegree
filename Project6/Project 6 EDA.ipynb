{
 "cells": [
  {
   "cell_type": "code",
   "execution_count": 1,
   "metadata": {
    "collapsed": false,
    "deletable": true,
    "editable": true
   },
   "outputs": [
    {
     "name": "stdout",
     "output_type": "stream",
     "text": [
      "Populating the interactive namespace from numpy and matplotlib\n"
     ]
    }
   ],
   "source": [
    "import pandas as pd\n",
    "import numpy as np\n",
    "import matplotlib.pyplot as plt\n",
    "import seaborn as sns\n",
    "import scipy.stats as stats\n",
    "%pylab inline\n",
    "\n",
    "loan_data = pd.read_csv('prosperLoanData.csv')"
   ]
  },
  {
   "cell_type": "code",
   "execution_count": 3,
   "metadata": {
    "collapsed": false,
    "deletable": true,
    "editable": true
   },
   "outputs": [
    {
     "data": {
      "text/html": [
       "<div>\n",
       "<table border=\"1\" class=\"dataframe\">\n",
       "  <thead>\n",
       "    <tr style=\"text-align: right;\">\n",
       "      <th></th>\n",
       "      <th>ListingKey</th>\n",
       "      <th>ListingNumber</th>\n",
       "      <th>ListingCreationDate</th>\n",
       "      <th>CreditGrade</th>\n",
       "      <th>Term</th>\n",
       "      <th>LoanStatus</th>\n",
       "      <th>ClosedDate</th>\n",
       "      <th>BorrowerAPR</th>\n",
       "      <th>BorrowerRate</th>\n",
       "      <th>LenderYield</th>\n",
       "      <th>...</th>\n",
       "      <th>LP_ServiceFees</th>\n",
       "      <th>LP_CollectionFees</th>\n",
       "      <th>LP_GrossPrincipalLoss</th>\n",
       "      <th>LP_NetPrincipalLoss</th>\n",
       "      <th>LP_NonPrincipalRecoverypayments</th>\n",
       "      <th>PercentFunded</th>\n",
       "      <th>Recommendations</th>\n",
       "      <th>InvestmentFromFriendsCount</th>\n",
       "      <th>InvestmentFromFriendsAmount</th>\n",
       "      <th>Investors</th>\n",
       "    </tr>\n",
       "  </thead>\n",
       "  <tbody>\n",
       "    <tr>\n",
       "      <th>0</th>\n",
       "      <td>1021339766868145413AB3B</td>\n",
       "      <td>193129</td>\n",
       "      <td>2007-08-26 19:09:29.263000000</td>\n",
       "      <td>C</td>\n",
       "      <td>36</td>\n",
       "      <td>Completed</td>\n",
       "      <td>2009-08-14 00:00:00</td>\n",
       "      <td>0.16516</td>\n",
       "      <td>0.1580</td>\n",
       "      <td>0.1380</td>\n",
       "      <td>...</td>\n",
       "      <td>-133.18</td>\n",
       "      <td>0.0</td>\n",
       "      <td>0.0</td>\n",
       "      <td>0.0</td>\n",
       "      <td>0.0</td>\n",
       "      <td>1.0</td>\n",
       "      <td>0</td>\n",
       "      <td>0</td>\n",
       "      <td>0.0</td>\n",
       "      <td>258</td>\n",
       "    </tr>\n",
       "    <tr>\n",
       "      <th>1</th>\n",
       "      <td>10273602499503308B223C1</td>\n",
       "      <td>1209647</td>\n",
       "      <td>2014-02-27 08:28:07.900000000</td>\n",
       "      <td>NaN</td>\n",
       "      <td>36</td>\n",
       "      <td>Current</td>\n",
       "      <td>NaN</td>\n",
       "      <td>0.12016</td>\n",
       "      <td>0.0920</td>\n",
       "      <td>0.0820</td>\n",
       "      <td>...</td>\n",
       "      <td>0.00</td>\n",
       "      <td>0.0</td>\n",
       "      <td>0.0</td>\n",
       "      <td>0.0</td>\n",
       "      <td>0.0</td>\n",
       "      <td>1.0</td>\n",
       "      <td>0</td>\n",
       "      <td>0</td>\n",
       "      <td>0.0</td>\n",
       "      <td>1</td>\n",
       "    </tr>\n",
       "    <tr>\n",
       "      <th>2</th>\n",
       "      <td>0EE9337825851032864889A</td>\n",
       "      <td>81716</td>\n",
       "      <td>2007-01-05 15:00:47.090000000</td>\n",
       "      <td>HR</td>\n",
       "      <td>36</td>\n",
       "      <td>Completed</td>\n",
       "      <td>2009-12-17 00:00:00</td>\n",
       "      <td>0.28269</td>\n",
       "      <td>0.2750</td>\n",
       "      <td>0.2400</td>\n",
       "      <td>...</td>\n",
       "      <td>-24.20</td>\n",
       "      <td>0.0</td>\n",
       "      <td>0.0</td>\n",
       "      <td>0.0</td>\n",
       "      <td>0.0</td>\n",
       "      <td>1.0</td>\n",
       "      <td>0</td>\n",
       "      <td>0</td>\n",
       "      <td>0.0</td>\n",
       "      <td>41</td>\n",
       "    </tr>\n",
       "    <tr>\n",
       "      <th>3</th>\n",
       "      <td>0EF5356002482715299901A</td>\n",
       "      <td>658116</td>\n",
       "      <td>2012-10-22 11:02:35.010000000</td>\n",
       "      <td>NaN</td>\n",
       "      <td>36</td>\n",
       "      <td>Current</td>\n",
       "      <td>NaN</td>\n",
       "      <td>0.12528</td>\n",
       "      <td>0.0974</td>\n",
       "      <td>0.0874</td>\n",
       "      <td>...</td>\n",
       "      <td>-108.01</td>\n",
       "      <td>0.0</td>\n",
       "      <td>0.0</td>\n",
       "      <td>0.0</td>\n",
       "      <td>0.0</td>\n",
       "      <td>1.0</td>\n",
       "      <td>0</td>\n",
       "      <td>0</td>\n",
       "      <td>0.0</td>\n",
       "      <td>158</td>\n",
       "    </tr>\n",
       "    <tr>\n",
       "      <th>4</th>\n",
       "      <td>0F023589499656230C5E3E2</td>\n",
       "      <td>909464</td>\n",
       "      <td>2013-09-14 18:38:39.097000000</td>\n",
       "      <td>NaN</td>\n",
       "      <td>36</td>\n",
       "      <td>Current</td>\n",
       "      <td>NaN</td>\n",
       "      <td>0.24614</td>\n",
       "      <td>0.2085</td>\n",
       "      <td>0.1985</td>\n",
       "      <td>...</td>\n",
       "      <td>-60.27</td>\n",
       "      <td>0.0</td>\n",
       "      <td>0.0</td>\n",
       "      <td>0.0</td>\n",
       "      <td>0.0</td>\n",
       "      <td>1.0</td>\n",
       "      <td>0</td>\n",
       "      <td>0</td>\n",
       "      <td>0.0</td>\n",
       "      <td>20</td>\n",
       "    </tr>\n",
       "  </tbody>\n",
       "</table>\n",
       "<p>5 rows × 81 columns</p>\n",
       "</div>"
      ],
      "text/plain": [
       "                ListingKey  ListingNumber            ListingCreationDate  \\\n",
       "0  1021339766868145413AB3B         193129  2007-08-26 19:09:29.263000000   \n",
       "1  10273602499503308B223C1        1209647  2014-02-27 08:28:07.900000000   \n",
       "2  0EE9337825851032864889A          81716  2007-01-05 15:00:47.090000000   \n",
       "3  0EF5356002482715299901A         658116  2012-10-22 11:02:35.010000000   \n",
       "4  0F023589499656230C5E3E2         909464  2013-09-14 18:38:39.097000000   \n",
       "\n",
       "  CreditGrade  Term LoanStatus           ClosedDate  BorrowerAPR  \\\n",
       "0           C    36  Completed  2009-08-14 00:00:00      0.16516   \n",
       "1         NaN    36    Current                  NaN      0.12016   \n",
       "2          HR    36  Completed  2009-12-17 00:00:00      0.28269   \n",
       "3         NaN    36    Current                  NaN      0.12528   \n",
       "4         NaN    36    Current                  NaN      0.24614   \n",
       "\n",
       "   BorrowerRate  LenderYield    ...     LP_ServiceFees  LP_CollectionFees  \\\n",
       "0        0.1580       0.1380    ...            -133.18                0.0   \n",
       "1        0.0920       0.0820    ...               0.00                0.0   \n",
       "2        0.2750       0.2400    ...             -24.20                0.0   \n",
       "3        0.0974       0.0874    ...            -108.01                0.0   \n",
       "4        0.2085       0.1985    ...             -60.27                0.0   \n",
       "\n",
       "   LP_GrossPrincipalLoss  LP_NetPrincipalLoss LP_NonPrincipalRecoverypayments  \\\n",
       "0                    0.0                  0.0                             0.0   \n",
       "1                    0.0                  0.0                             0.0   \n",
       "2                    0.0                  0.0                             0.0   \n",
       "3                    0.0                  0.0                             0.0   \n",
       "4                    0.0                  0.0                             0.0   \n",
       "\n",
       "   PercentFunded  Recommendations InvestmentFromFriendsCount  \\\n",
       "0            1.0                0                          0   \n",
       "1            1.0                0                          0   \n",
       "2            1.0                0                          0   \n",
       "3            1.0                0                          0   \n",
       "4            1.0                0                          0   \n",
       "\n",
       "  InvestmentFromFriendsAmount Investors  \n",
       "0                         0.0       258  \n",
       "1                         0.0         1  \n",
       "2                         0.0        41  \n",
       "3                         0.0       158  \n",
       "4                         0.0        20  \n",
       "\n",
       "[5 rows x 81 columns]"
      ]
     },
     "execution_count": 3,
     "metadata": {},
     "output_type": "execute_result"
    }
   ],
   "source": [
    "loan_data.head()"
   ]
  },
  {
   "cell_type": "code",
   "execution_count": 4,
   "metadata": {
    "collapsed": false,
    "deletable": true,
    "editable": true
   },
   "outputs": [
    {
     "data": {
      "text/plain": [
       "113937"
      ]
     },
     "execution_count": 4,
     "metadata": {},
     "output_type": "execute_result"
    }
   ],
   "source": [
    "len(loan_data)"
   ]
  },
  {
   "cell_type": "code",
   "execution_count": 5,
   "metadata": {
    "collapsed": false,
    "deletable": true,
    "editable": true
   },
   "outputs": [
    {
     "data": {
      "text/plain": [
       "Index([u'ListingKey', u'ListingNumber', u'ListingCreationDate', u'CreditGrade',\n",
       "       u'Term', u'LoanStatus', u'ClosedDate', u'BorrowerAPR', u'BorrowerRate',\n",
       "       u'LenderYield', u'EstimatedEffectiveYield', u'EstimatedLoss',\n",
       "       u'EstimatedReturn', u'ProsperRating (numeric)',\n",
       "       u'ProsperRating (Alpha)', u'ProsperScore', u'ListingCategory (numeric)',\n",
       "       u'BorrowerState', u'Occupation', u'EmploymentStatus',\n",
       "       u'EmploymentStatusDuration', u'IsBorrowerHomeowner',\n",
       "       u'CurrentlyInGroup', u'GroupKey', u'DateCreditPulled',\n",
       "       u'CreditScoreRangeLower', u'CreditScoreRangeUpper',\n",
       "       u'FirstRecordedCreditLine', u'CurrentCreditLines', u'OpenCreditLines',\n",
       "       u'TotalCreditLinespast7years', u'OpenRevolvingAccounts',\n",
       "       u'OpenRevolvingMonthlyPayment', u'InquiriesLast6Months',\n",
       "       u'TotalInquiries', u'CurrentDelinquencies', u'AmountDelinquent',\n",
       "       u'DelinquenciesLast7Years', u'PublicRecordsLast10Years',\n",
       "       u'PublicRecordsLast12Months', u'RevolvingCreditBalance',\n",
       "       u'BankcardUtilization', u'AvailableBankcardCredit', u'TotalTrades',\n",
       "       u'TradesNeverDelinquent (percentage)', u'TradesOpenedLast6Months',\n",
       "       u'DebtToIncomeRatio', u'IncomeRange', u'IncomeVerifiable',\n",
       "       u'StatedMonthlyIncome', u'LoanKey', u'TotalProsperLoans',\n",
       "       u'TotalProsperPaymentsBilled', u'OnTimeProsperPayments',\n",
       "       u'ProsperPaymentsLessThanOneMonthLate',\n",
       "       u'ProsperPaymentsOneMonthPlusLate', u'ProsperPrincipalBorrowed',\n",
       "       u'ProsperPrincipalOutstanding', u'ScorexChangeAtTimeOfListing',\n",
       "       u'LoanCurrentDaysDelinquent', u'LoanFirstDefaultedCycleNumber',\n",
       "       u'LoanMonthsSinceOrigination', u'LoanNumber', u'LoanOriginalAmount',\n",
       "       u'LoanOriginationDate', u'LoanOriginationQuarter', u'MemberKey',\n",
       "       u'MonthlyLoanPayment', u'LP_CustomerPayments',\n",
       "       u'LP_CustomerPrincipalPayments', u'LP_InterestandFees',\n",
       "       u'LP_ServiceFees', u'LP_CollectionFees', u'LP_GrossPrincipalLoss',\n",
       "       u'LP_NetPrincipalLoss', u'LP_NonPrincipalRecoverypayments',\n",
       "       u'PercentFunded', u'Recommendations', u'InvestmentFromFriendsCount',\n",
       "       u'InvestmentFromFriendsAmount', u'Investors'],\n",
       "      dtype='object')"
      ]
     },
     "execution_count": 5,
     "metadata": {},
     "output_type": "execute_result"
    }
   ],
   "source": [
    "loan_data.columns"
   ]
  },
  {
   "cell_type": "code",
   "execution_count": 6,
   "metadata": {
    "collapsed": false,
    "deletable": true,
    "editable": true
   },
   "outputs": [
    {
     "data": {
      "text/plain": [
       "0"
      ]
     },
     "execution_count": 6,
     "metadata": {},
     "output_type": "execute_result"
    }
   ],
   "source": [
    "loan_data['InvestmentFromFriendsCount'].isnull().sum()"
   ]
  },
  {
   "cell_type": "code",
   "execution_count": 7,
   "metadata": {
    "collapsed": false,
    "deletable": true,
    "editable": true
   },
   "outputs": [
    {
     "data": {
      "text/plain": [
       "2131"
      ]
     },
     "execution_count": 7,
     "metadata": {},
     "output_type": "execute_result"
    }
   ],
   "source": [
    "(loan_data['InvestmentFromFriendsCount'] > 0).sum()"
   ]
  },
  {
   "cell_type": "code",
   "execution_count": 8,
   "metadata": {
    "collapsed": false,
    "deletable": true,
    "editable": true
   },
   "outputs": [
    {
     "data": {
      "text/plain": [
       "1885742.8900000001"
      ]
     },
     "execution_count": 8,
     "metadata": {},
     "output_type": "execute_result"
    }
   ],
   "source": [
    "loan_data['InvestmentFromFriendsAmount'].sum()"
   ]
  },
  {
   "cell_type": "code",
   "execution_count": 9,
   "metadata": {
    "collapsed": false,
    "deletable": true,
    "editable": true
   },
   "outputs": [
    {
     "data": {
      "text/plain": [
       "113937"
      ]
     },
     "execution_count": 9,
     "metadata": {},
     "output_type": "execute_result"
    }
   ],
   "source": [
    "(loan_data['Investors'] > 0).sum()"
   ]
  },
  {
   "cell_type": "code",
   "execution_count": 10,
   "metadata": {
    "collapsed": false,
    "deletable": true,
    "editable": true
   },
   "outputs": [],
   "source": [
    "loan_data = loan_data[[\n",
    "'ListingKey'\n",
    ",'ListingCreationDate'\n",
    ",'Term'\n",
    ",'LoanStatus'\n",
    ",'ClosedDate'\n",
    ",'BorrowerAPR'\n",
    ",'BorrowerRate'\n",
    ",'ListingCategory (numeric)'\n",
    ",'BorrowerState'\n",
    ",'Occupation'\n",
    ",'EmploymentStatus'\n",
    ",'EmploymentStatusDuration'\n",
    ",'IsBorrowerHomeowner'\n",
    ",'DateCreditPulled'\n",
    ",'CreditScoreRangeLower'\n",
    ",'CreditScoreRangeUpper'\n",
    ",'CurrentDelinquencies'\n",
    ",'AmountDelinquent'\n",
    ",'TradesNeverDelinquent (percentage)'\n",
    ",'TradesOpenedLast6Months'\n",
    ",'DebtToIncomeRatio'\n",
    ",'IncomeRange'\n",
    ",'TotalProsperLoans'\n",
    ",'TotalProsperPaymentsBilled'\n",
    ",'OnTimeProsperPayments'\n",
    ",'ProsperPaymentsLessThanOneMonthLate'\n",
    ",'ProsperPaymentsOneMonthPlusLate'\n",
    ",'ProsperPrincipalBorrowed'\n",
    ",'ProsperPrincipalOutstanding'\n",
    ",'LoanCurrentDaysDelinquent'\n",
    ",'LoanFirstDefaultedCycleNumber'\n",
    ",'LoanMonthsSinceOrigination'\n",
    ",'LoanOriginalAmount'\n",
    ",'LoanOriginationDate'\n",
    ",'LoanOriginationQuarter'\n",
    ",'MonthlyLoanPayment'\n",
    ",'LP_ServiceFees'\n",
    ",'LP_CollectionFees'\n",
    ",'PercentFunded'\n",
    ",'InvestmentFromFriendsCount'\n",
    ",'InvestmentFromFriendsAmount'\n",
    ",'Investors']]"
   ]
  },
  {
   "cell_type": "code",
   "execution_count": 11,
   "metadata": {
    "collapsed": false,
    "deletable": true,
    "editable": true
   },
   "outputs": [],
   "source": [
    "loan_data['pct_friends'] = loan_data['InvestmentFromFriendsCount'] / loan_data['Investors']"
   ]
  },
  {
   "cell_type": "code",
   "execution_count": 12,
   "metadata": {
    "collapsed": false,
    "deletable": true,
    "editable": true
   },
   "outputs": [
    {
     "data": {
      "text/plain": [
       "2131"
      ]
     },
     "execution_count": 12,
     "metadata": {},
     "output_type": "execute_result"
    }
   ],
   "source": [
    "(loan_data['pct_friends'] > 0).sum()"
   ]
  },
  {
   "cell_type": "code",
   "execution_count": 13,
   "metadata": {
    "collapsed": false,
    "deletable": true,
    "editable": true
   },
   "outputs": [
    {
     "data": {
      "text/plain": [
       "42970     1.0\n",
       "59855     1.0\n",
       "69689     1.0\n",
       "88022     1.0\n",
       "10278     1.0\n",
       "81390     1.0\n",
       "40808     1.0\n",
       "5380      1.0\n",
       "65259     1.0\n",
       "15993     1.0\n",
       "98696     1.0\n",
       "113704    1.0\n",
       "39248     1.0\n",
       "97691     1.0\n",
       "97748     1.0\n",
       "112717    1.0\n",
       "96548     1.0\n",
       "102008    1.0\n",
       "61594     1.0\n",
       "92881     1.0\n",
       "105731    1.0\n",
       "5241      1.0\n",
       "63514     1.0\n",
       "100390    1.0\n",
       "3455      1.0\n",
       "60200     1.0\n",
       "13204     1.0\n",
       "44141     1.0\n",
       "93707     1.0\n",
       "9475      1.0\n",
       "         ... \n",
       "75628     0.0\n",
       "75629     0.0\n",
       "75605     0.0\n",
       "75604     0.0\n",
       "75603     0.0\n",
       "75602     0.0\n",
       "75579     0.0\n",
       "75580     0.0\n",
       "75581     0.0\n",
       "75582     0.0\n",
       "75583     0.0\n",
       "75584     0.0\n",
       "75585     0.0\n",
       "75586     0.0\n",
       "75587     0.0\n",
       "75588     0.0\n",
       "75589     0.0\n",
       "75590     0.0\n",
       "75591     0.0\n",
       "75592     0.0\n",
       "75593     0.0\n",
       "75594     0.0\n",
       "75595     0.0\n",
       "75596     0.0\n",
       "75597     0.0\n",
       "75598     0.0\n",
       "75599     0.0\n",
       "75600     0.0\n",
       "75601     0.0\n",
       "0         0.0\n",
       "Name: pct_friends, dtype: float64"
      ]
     },
     "execution_count": 13,
     "metadata": {},
     "output_type": "execute_result"
    }
   ],
   "source": [
    "loan_data['pct_friends'].sort_values(ascending=False)"
   ]
  },
  {
   "cell_type": "code",
   "execution_count": 14,
   "metadata": {
    "collapsed": false,
    "deletable": true,
    "editable": true
   },
   "outputs": [
    {
     "data": {
      "text/plain": [
       "0.3333333333333333"
      ]
     },
     "execution_count": 14,
     "metadata": {},
     "output_type": "execute_result"
    }
   ],
   "source": [
    "loan_data['pct_friends'].quantile(.999)"
   ]
  },
  {
   "cell_type": "code",
   "execution_count": 15,
   "metadata": {
    "collapsed": false,
    "deletable": true,
    "editable": true
   },
   "outputs": [
    {
     "data": {
      "text/plain": [
       "5"
      ]
     },
     "execution_count": 15,
     "metadata": {},
     "output_type": "execute_result"
    }
   ],
   "source": [
    "(loan_data['LoanStatus'] == 'Cancelled').sum()"
   ]
  },
  {
   "cell_type": "code",
   "execution_count": 16,
   "metadata": {
    "collapsed": false,
    "deletable": true,
    "editable": true
   },
   "outputs": [
    {
     "data": {
      "text/plain": [
       "array(['Completed', 'Current', 'Past Due (1-15 days)', 'Defaulted',\n",
       "       'Chargedoff', 'Past Due (16-30 days)', 'Cancelled',\n",
       "       'Past Due (61-90 days)', 'Past Due (31-60 days)',\n",
       "       'Past Due (91-120 days)', 'FinalPaymentInProgress',\n",
       "       'Past Due (>120 days)'], dtype=object)"
      ]
     },
     "execution_count": 16,
     "metadata": {},
     "output_type": "execute_result"
    }
   ],
   "source": [
    "loan_data['LoanStatus'].unique()"
   ]
  },
  {
   "cell_type": "code",
   "execution_count": 17,
   "metadata": {
    "collapsed": false,
    "deletable": true,
    "editable": true
   },
   "outputs": [],
   "source": [
    "loan_data = loan_data[loan_data['LoanStatus'] != 'Cancelled']"
   ]
  },
  {
   "cell_type": "code",
   "execution_count": 18,
   "metadata": {
    "collapsed": false,
    "deletable": true,
    "editable": true
   },
   "outputs": [
    {
     "data": {
      "text/plain": [
       "113932"
      ]
     },
     "execution_count": 18,
     "metadata": {},
     "output_type": "execute_result"
    }
   ],
   "source": [
    "len(loan_data)"
   ]
  },
  {
   "cell_type": "code",
   "execution_count": 19,
   "metadata": {
    "collapsed": false,
    "deletable": true,
    "editable": true
   },
   "outputs": [],
   "source": [
    "# can combine completed and finalpaymentinprogress as completed\n",
    "# can combine chargedoff and defaulted as default\n",
    "# all past dues into a late category\n",
    "# current into a current category\n",
    "map_status = {'FinalPaymentInProgress': 'Completed', 'Chargedoff': 'Defaulted', 'Past Due (1-15 days)': 'Late',\n",
    "              'Past Due (16-30 days)': 'Late',\n",
    "              'Past Due (61-90 days)': 'Late', 'Past Due (31-60 days)': 'Late', \n",
    "              'Past Due (91-120 days)': 'Late', 'Past Due (>120 days)': 'Late'}\n",
    "\n",
    "loan_data['LoanStatus'] = loan_data['LoanStatus'].apply(lambda x: map_status.get(x, x))"
   ]
  },
  {
   "cell_type": "code",
   "execution_count": 20,
   "metadata": {
    "collapsed": false,
    "deletable": true,
    "editable": true
   },
   "outputs": [
    {
     "data": {
      "text/plain": [
       "Term                                  -0.043509\n",
       "BorrowerAPR                           -0.046758\n",
       "BorrowerRate                          -0.037313\n",
       "ListingCategory (numeric)             -0.018971\n",
       "EmploymentStatusDuration              -0.031432\n",
       "IsBorrowerHomeowner                   -0.010383\n",
       "CreditScoreRangeLower                 -0.013168\n",
       "CreditScoreRangeUpper                 -0.013168\n",
       "CurrentDelinquencies                   0.013344\n",
       "AmountDelinquent                       0.007140\n",
       "TradesNeverDelinquent (percentage)    -0.032959\n",
       "TradesOpenedLast6Months                0.007739\n",
       "DebtToIncomeRatio                      0.034169\n",
       "TotalProsperLoans                     -0.000098\n",
       "TotalProsperPaymentsBilled            -0.014361\n",
       "OnTimeProsperPayments                 -0.012824\n",
       "ProsperPaymentsLessThanOneMonthLate   -0.012119\n",
       "ProsperPaymentsOneMonthPlusLate       -0.009479\n",
       "ProsperPrincipalBorrowed              -0.009109\n",
       "ProsperPrincipalOutstanding           -0.018161\n",
       "LoanCurrentDaysDelinquent              0.030842\n",
       "LoanFirstDefaultedCycleNumber          0.034885\n",
       "LoanMonthsSinceOrigination             0.110131\n",
       "LoanOriginalAmount                    -0.007514\n",
       "MonthlyLoanPayment                    -0.002862\n",
       "LP_ServiceFees                        -0.035000\n",
       "LP_CollectionFees                     -0.008318\n",
       "PercentFunded                          0.001622\n",
       "InvestmentFromFriendsCount             1.000000\n",
       "InvestmentFromFriendsAmount            0.483506\n",
       "Investors                              0.058771\n",
       "pct_friends                            0.247137\n",
       "Name: InvestmentFromFriendsCount, dtype: float64"
      ]
     },
     "execution_count": 20,
     "metadata": {},
     "output_type": "execute_result"
    }
   ],
   "source": [
    "loan_data.corr()['InvestmentFromFriendsCount']"
   ]
  },
  {
   "cell_type": "code",
   "execution_count": 21,
   "metadata": {
    "collapsed": false,
    "deletable": true,
    "editable": true
   },
   "outputs": [
    {
     "data": {
      "text/plain": [
       "F_onewayResult(statistic=362.28943528607329, pvalue=3.3617904864660548e-234)"
      ]
     },
     "execution_count": 21,
     "metadata": {},
     "output_type": "execute_result"
    }
   ],
   "source": [
    "stats.f_oneway(loan_data[loan_data.LoanStatus == 'Completed']['InvestmentFromFriendsCount'], \n",
    "               loan_data[loan_data.LoanStatus == 'Defaulted']['InvestmentFromFriendsCount'], \n",
    "               loan_data[loan_data.LoanStatus == 'Late']['InvestmentFromFriendsCount'], \n",
    "               loan_data[loan_data.LoanStatus == 'Current']['InvestmentFromFriendsCount'])"
   ]
  },
  {
   "cell_type": "code",
   "execution_count": 22,
   "metadata": {
    "collapsed": false,
    "deletable": true,
    "editable": true
   },
   "outputs": [],
   "source": [
    "from statsmodels.stats.multicomp import pairwise_tukeyhsd"
   ]
  },
  {
   "cell_type": "code",
   "execution_count": 23,
   "metadata": {
    "collapsed": false,
    "deletable": true,
    "editable": true
   },
   "outputs": [
    {
     "name": "stdout",
     "output_type": "stream",
     "text": [
      " Multiple Comparison of Means - Tukey HSD,FWER=0.05\n",
      "===================================================\n",
      "  group1    group2  meandiff  lower   upper  reject\n",
      "---------------------------------------------------\n",
      "Completed  Current  -0.0492  -0.0531 -0.0452  True \n",
      "Completed Defaulted -0.0175   -0.023  -0.012  True \n",
      "Completed    Late    -0.049  -0.0624 -0.0355  True \n",
      " Current  Defaulted  0.0317   0.0265  0.0368  True \n",
      " Current     Late    0.0002  -0.0131  0.0135 False \n",
      "Defaulted    Late   -0.0314  -0.0453 -0.0176  True \n",
      "---------------------------------------------------\n"
     ]
    }
   ],
   "source": [
    "print pairwise_tukeyhsd(loan_data['InvestmentFromFriendsCount'], loan_data['LoanStatus'])"
   ]
  },
  {
   "cell_type": "code",
   "execution_count": 24,
   "metadata": {
    "collapsed": false,
    "deletable": true,
    "editable": true
   },
   "outputs": [
    {
     "data": {
      "text/plain": [
       "<matplotlib.axes._subplots.AxesSubplot at 0x4e53c50>"
      ]
     },
     "execution_count": 24,
     "metadata": {},
     "output_type": "execute_result"
    },
    {
     "data": {
      "image/png": "[encoded data removed]",
      "text/plain": [
       "<matplotlib.figure.Figure at 0x15e0fcc0>"
      ]
     },
     "metadata": {},
     "output_type": "display_data"
    }
   ],
   "source": [
    "sns.barplot(loan_data['LoanStatus'], loan_data['InvestmentFromFriendsCount'])"
   ]
  },
  {
   "cell_type": "code",
   "execution_count": 25,
   "metadata": {
    "collapsed": false,
    "deletable": true,
    "editable": true
   },
   "outputs": [
    {
     "data": {
      "text/plain": [
       "<matplotlib.axes._subplots.AxesSubplot at 0x15e1b588>"
      ]
     },
     "execution_count": 25,
     "metadata": {},
     "output_type": "execute_result"
    },
    {
     "data": {
      "image/png": "[encoded data removed]",
      "text/plain": [
       "<matplotlib.figure.Figure at 0x88dfc18>"
      ]
     },
     "metadata": {},
     "output_type": "display_data"
    }
   ],
   "source": [
    "sns.countplot(loan_data['LoanStatus'])"
   ]
  },
  {
   "cell_type": "code",
   "execution_count": 26,
   "metadata": {
    "collapsed": true,
    "deletable": true,
    "editable": true
   },
   "outputs": [],
   "source": [
    "loan_data_friends = loan_data[loan_data['InvestmentFromFriendsCount'] > 0]"
   ]
  },
  {
   "cell_type": "code",
   "execution_count": 27,
   "metadata": {
    "collapsed": false,
    "deletable": true,
    "editable": true
   },
   "outputs": [
    {
     "data": {
      "text/plain": [
       "<matplotlib.axes._subplots.AxesSubplot at 0x14cf74a8>"
      ]
     },
     "execution_count": 27,
     "metadata": {},
     "output_type": "execute_result"
    },
    {
     "data": {
      "image/png": "[encoded data removed]",
      "text/plain": [
       "<matplotlib.figure.Figure at 0x15e1bfd0>"
      ]
     },
     "metadata": {},
     "output_type": "display_data"
    }
   ],
   "source": [
    "sns.barplot(loan_data_friends['LoanStatus'], loan_data_friends['InvestmentFromFriendsCount'])"
   ]
  },
  {
   "cell_type": "code",
   "execution_count": 28,
   "metadata": {
    "collapsed": false,
    "deletable": true,
    "editable": true
   },
   "outputs": [
    {
     "data": {
      "text/plain": [
       "LoanStatus\n",
       "Completed    0.721727\n",
       "Current      0.051619\n",
       "Defaulted    0.224308\n",
       "Late         0.002346\n",
       "Name: ListingKey, dtype: float64"
      ]
     },
     "execution_count": 28,
     "metadata": {},
     "output_type": "execute_result"
    }
   ],
   "source": [
    "(loan_data_friends.groupby(['LoanStatus']).count()/len(loan_data_friends))['ListingKey']"
   ]
  },
  {
   "cell_type": "code",
   "execution_count": 29,
   "metadata": {
    "collapsed": false,
    "deletable": true,
    "editable": true
   },
   "outputs": [
    {
     "data": {
      "text/plain": [
       "LoanStatus\n",
       "Completed    0.335981\n",
       "Current      0.496577\n",
       "Defaulted    0.149300\n",
       "Late         0.018142\n",
       "Name: ListingKey, dtype: float64"
      ]
     },
     "execution_count": 29,
     "metadata": {},
     "output_type": "execute_result"
    }
   ],
   "source": [
    "(loan_data.groupby(['LoanStatus']).count()/len(loan_data))['ListingKey']"
   ]
  },
  {
   "cell_type": "code",
   "execution_count": 30,
   "metadata": {
    "collapsed": true,
    "deletable": true,
    "editable": true
   },
   "outputs": [],
   "source": [
    "loan_data_no_friends = loan_data[loan_data['InvestmentFromFriendsCount'] == 0]"
   ]
  },
  {
   "cell_type": "code",
   "execution_count": 31,
   "metadata": {
    "collapsed": false,
    "deletable": true,
    "editable": true
   },
   "outputs": [
    {
     "data": {
      "text/plain": [
       "LoanStatus\n",
       "Completed    0.328629\n",
       "Current      0.505058\n",
       "Defaulted    0.147870\n",
       "Late         0.018443\n",
       "Name: ListingKey, dtype: float64"
      ]
     },
     "execution_count": 31,
     "metadata": {},
     "output_type": "execute_result"
    }
   ],
   "source": [
    "(loan_data_no_friends.groupby(['LoanStatus']).count()/len(loan_data_no_friends))['ListingKey']"
   ]
  },
  {
   "cell_type": "code",
   "execution_count": 32,
   "metadata": {
    "collapsed": false,
    "deletable": true,
    "editable": true
   },
   "outputs": [],
   "source": [
    "loan_data['ListingCreationDate'] = pd.to_datetime(loan_data['ListingCreationDate'])"
   ]
  },
  {
   "cell_type": "code",
   "execution_count": 33,
   "metadata": {
    "collapsed": false,
    "deletable": true,
    "editable": true
   },
   "outputs": [
    {
     "data": {
      "text/plain": [
       "106599    2007-02-05 12:19:11.883000000\n",
       "36059     2007-02-07 10:22:46.997000000\n",
       "22979     2007-02-07 12:03:49.340000000\n",
       "13873     2007-02-07 13:59:54.463000000\n",
       "62165     2007-02-09 16:38:16.453000000\n",
       "71505     2007-02-11 18:24:48.180000000\n",
       "83910     2007-02-12 06:35:11.373000000\n",
       "73524     2007-02-12 18:42:38.877000000\n",
       "97471     2007-02-15 19:21:19.743000000\n",
       "52504     2007-02-15 20:24:34.703000000\n",
       "55891     2007-02-16 07:30:53.640000000\n",
       "89037     2007-02-16 12:26:52.127000000\n",
       "94522     2007-02-16 12:30:51.810000000\n",
       "37859     2007-02-18 13:12:23.720000000\n",
       "1316      2007-02-18 17:17:43.283000000\n",
       "67966     2007-02-18 19:29:20.727000000\n",
       "79364     2007-02-19 13:43:05.810000000\n",
       "48679     2007-02-20 09:13:51.920000000\n",
       "3858      2007-02-20 13:42:54.477000000\n",
       "83675     2007-02-20 16:03:29.673000000\n",
       "109128    2007-02-20 18:06:26.577000000\n",
       "69435     2007-02-20 18:14:44.927000000\n",
       "16803     2007-02-20 20:22:36.820000000\n",
       "82660     2007-02-21 08:56:08.313000000\n",
       "106269    2007-02-21 16:40:45.343000000\n",
       "68012     2007-02-21 19:35:08.093000000\n",
       "17624     2007-02-22 02:07:54.410000000\n",
       "93615     2007-02-22 11:46:57.547000000\n",
       "79079     2007-02-22 12:27:55.280000000\n",
       "82450     2007-02-22 14:39:30.957000000\n",
       "                      ...              \n",
       "15295     2013-02-20 09:31:46.473000000\n",
       "49298     2013-02-20 13:06:55.040000000\n",
       "62957     2013-03-04 17:48:46.183000000\n",
       "55138     2013-03-18 15:21:54.233000000\n",
       "72722     2013-04-01 09:51:01.973000000\n",
       "15558     2013-04-04 09:07:47.057000000\n",
       "76512     2013-04-04 16:10:00.880000000\n",
       "104386    2013-04-05 19:07:21.113000000\n",
       "76625     2013-04-06 16:29:37.880000000\n",
       "56141     2013-04-22 13:16:34.063000000\n",
       "113005    2013-04-30 13:17:27.427000000\n",
       "94485     2013-05-20 14:54:55.080000000\n",
       "109937    2013-06-06 16:14:21.260000000\n",
       "15086     2013-06-17 11:33:47.423000000\n",
       "57873     2013-07-16 06:49:54.160000000\n",
       "80874     2013-07-19 15:23:02.817000000\n",
       "69774     2013-07-21 19:58:49.447000000\n",
       "7085      2013-07-28 15:51:00.880000000\n",
       "69177     2013-08-25 21:53:41.953000000\n",
       "4963      2013-08-27 15:13:13.077000000\n",
       "71366     2013-08-30 18:57:00.637000000\n",
       "21254     2013-09-30 18:58:11.987000000\n",
       "96334     2013-11-06 16:07:17.347000000\n",
       "54656     2013-11-11 10:12:43.737000000\n",
       "11523     2013-12-04 14:40:06.360000000\n",
       "85885     2013-12-09 19:13:21.833000000\n",
       "41141     2013-12-15 14:00:58.623000000\n",
       "46213     2013-12-24 17:46:39.237000000\n",
       "74352     2014-01-13 03:32:18.657000000\n",
       "2644      2014-01-28 08:44:48.517000000\n",
       "Name: ListingCreationDate, dtype: object"
      ]
     },
     "execution_count": 33,
     "metadata": {},
     "output_type": "execute_result"
    }
   ],
   "source": [
    "loan_data_friends['ListingCreationDate'].sort_values()"
   ]
  },
  {
   "cell_type": "code",
   "execution_count": 34,
   "metadata": {
    "collapsed": false,
    "deletable": true,
    "editable": true
   },
   "outputs": [],
   "source": [
    "loan_data['ListingCreationDate'] = loan_data['ListingCreationDate'].apply(lambda x: x.year)"
   ]
  },
  {
   "cell_type": "code",
   "execution_count": 35,
   "metadata": {
    "collapsed": false,
    "deletable": true,
    "editable": true
   },
   "outputs": [
    {
     "data": {
      "text/plain": [
       "2005                            NaN\n",
       "2006                            NaN\n",
       "2007                            NaN\n",
       "2008                            NaN\n",
       "2009                            NaN\n",
       "2010                            NaN\n",
       "2011                            NaN\n",
       "2012                            NaN\n",
       "2013                            NaN\n",
       "2014                            NaN\n",
       "2007-02-05 12:19:11.883000000   NaN\n",
       "2007-02-07 10:22:46.997000000   NaN\n",
       "2007-02-07 12:03:49.340000000   NaN\n",
       "2007-02-07 13:59:54.463000000   NaN\n",
       "2007-02-09 16:38:16.453000000   NaN\n",
       "2007-02-11 18:24:48.180000000   NaN\n",
       "2007-02-12 06:35:11.373000000   NaN\n",
       "2007-02-12 18:42:38.877000000   NaN\n",
       "2007-02-15 19:21:19.743000000   NaN\n",
       "2007-02-15 20:24:34.703000000   NaN\n",
       "2007-02-16 07:30:53.640000000   NaN\n",
       "2007-02-16 12:26:52.127000000   NaN\n",
       "2007-02-16 12:30:51.810000000   NaN\n",
       "2007-02-18 13:12:23.720000000   NaN\n",
       "2007-02-18 17:17:43.283000000   NaN\n",
       "2007-02-18 19:29:20.727000000   NaN\n",
       "2007-02-19 13:43:05.810000000   NaN\n",
       "2007-02-20 09:13:51.920000000   NaN\n",
       "2007-02-20 13:42:54.477000000   NaN\n",
       "2007-02-20 16:03:29.673000000   NaN\n",
       "                                 ..\n",
       "2013-02-20 09:31:46.473000000   NaN\n",
       "2013-02-20 13:06:55.040000000   NaN\n",
       "2013-03-04 17:48:46.183000000   NaN\n",
       "2013-03-18 15:21:54.233000000   NaN\n",
       "2013-04-01 09:51:01.973000000   NaN\n",
       "2013-04-04 09:07:47.057000000   NaN\n",
       "2013-04-04 16:10:00.880000000   NaN\n",
       "2013-04-05 19:07:21.113000000   NaN\n",
       "2013-04-06 16:29:37.880000000   NaN\n",
       "2013-04-22 13:16:34.063000000   NaN\n",
       "2013-04-30 13:17:27.427000000   NaN\n",
       "2013-05-20 14:54:55.080000000   NaN\n",
       "2013-06-06 16:14:21.260000000   NaN\n",
       "2013-06-17 11:33:47.423000000   NaN\n",
       "2013-07-16 06:49:54.160000000   NaN\n",
       "2013-07-19 15:23:02.817000000   NaN\n",
       "2013-07-21 19:58:49.447000000   NaN\n",
       "2013-07-28 15:51:00.880000000   NaN\n",
       "2013-08-25 21:53:41.953000000   NaN\n",
       "2013-08-27 15:13:13.077000000   NaN\n",
       "2013-08-30 18:57:00.637000000   NaN\n",
       "2013-09-30 18:58:11.987000000   NaN\n",
       "2013-11-06 16:07:17.347000000   NaN\n",
       "2013-11-11 10:12:43.737000000   NaN\n",
       "2013-12-04 14:40:06.360000000   NaN\n",
       "2013-12-09 19:13:21.833000000   NaN\n",
       "2013-12-15 14:00:58.623000000   NaN\n",
       "2013-12-24 17:46:39.237000000   NaN\n",
       "2014-01-13 03:32:18.657000000   NaN\n",
       "2014-01-28 08:44:48.517000000   NaN\n",
       "Name: ListingCreationDate, dtype: float64"
      ]
     },
     "execution_count": 35,
     "metadata": {},
     "output_type": "execute_result"
    }
   ],
   "source": [
    "loan_data_friends['ListingCreationDate'].value_counts(sort=False).sort_index()/ loan_data['ListingCreationDate'].value_counts(sort=False).sort_index()"
   ]
  },
  {
   "cell_type": "code",
   "execution_count": 36,
   "metadata": {
    "collapsed": false,
    "deletable": true,
    "editable": true
   },
   "outputs": [
    {
     "data": {
      "text/plain": [
       "2005                            NaN\n",
       "2006                            NaN\n",
       "2007                            NaN\n",
       "2008                            NaN\n",
       "2009                            NaN\n",
       "2010                            NaN\n",
       "2011                            NaN\n",
       "2012                            NaN\n",
       "2013                            NaN\n",
       "2014                            NaN\n",
       "2005-11-09 20:44:28.847000000   NaN\n",
       "2005-11-11 08:46:17.303000000   NaN\n",
       "2005-11-15 16:06:47.457000000   NaN\n",
       "2005-11-15 18:25:56.107000000   NaN\n",
       "2005-11-18 13:39:03.263000000   NaN\n",
       "2005-11-18 14:10:50.470000000   NaN\n",
       "2005-11-18 14:16:59.093000000   NaN\n",
       "2005-11-18 14:22:34.763000000   NaN\n",
       "2005-11-18 14:48:19.753000000   NaN\n",
       "2005-11-18 16:35:48.210000000   NaN\n",
       "2005-11-20 13:21:31.993000000   NaN\n",
       "2005-11-20 14:45:55.193000000   NaN\n",
       "2005-11-20 20:15:47.240000000   NaN\n",
       "2005-11-21 19:35:46.890000000   NaN\n",
       "2005-11-28 16:16:35.077000000   NaN\n",
       "2005-11-28 17:25:43.160000000   NaN\n",
       "2005-11-28 22:42:42.557000000   NaN\n",
       "2005-11-29 13:29:16.810000000   NaN\n",
       "2005-11-29 20:23:22.770000000   NaN\n",
       "2005-12-03 14:03:22.207000000   NaN\n",
       "                                 ..\n",
       "2014-03-09 00:57:48.250000000   NaN\n",
       "2014-03-09 06:36:49.833000000   NaN\n",
       "2014-03-09 07:24:01.017000000   NaN\n",
       "2014-03-09 08:02:24.587000000   NaN\n",
       "2014-03-09 08:07:13.007000000   NaN\n",
       "2014-03-09 08:29:29.077000000   NaN\n",
       "2014-03-09 08:53:58.347000000   NaN\n",
       "2014-03-09 09:06:56.027000000   NaN\n",
       "2014-03-09 09:37:16.023000000   NaN\n",
       "2014-03-09 09:51:22.850000000   NaN\n",
       "2014-03-09 12:20:44.247000000   NaN\n",
       "2014-03-09 12:44:26.883000000   NaN\n",
       "2014-03-09 13:30:02.840000000   NaN\n",
       "2014-03-09 14:50:19.013000000   NaN\n",
       "2014-03-09 14:57:43.660000000   NaN\n",
       "2014-03-09 15:07:20.407000000   NaN\n",
       "2014-03-09 15:25:04.197000000   NaN\n",
       "2014-03-09 17:09:35.463000000   NaN\n",
       "2014-03-09 17:52:39.800000000   NaN\n",
       "2014-03-09 23:54:35.513000000   NaN\n",
       "2014-03-10 05:10:30.913000000   NaN\n",
       "2014-03-10 05:46:30.467000000   NaN\n",
       "2014-03-10 05:51:02.593000000   NaN\n",
       "2014-03-10 06:24:10.680000000   NaN\n",
       "2014-03-10 06:26:33.343000000   NaN\n",
       "2014-03-10 06:47:15.370000000   NaN\n",
       "2014-03-10 07:33:30.033000000   NaN\n",
       "2014-03-10 10:25:51.877000000   NaN\n",
       "2014-03-10 11:28:06.920000000   NaN\n",
       "2014-03-10 12:20:53.760000000   NaN\n",
       "Name: ListingCreationDate, dtype: float64"
      ]
     },
     "execution_count": 36,
     "metadata": {},
     "output_type": "execute_result"
    }
   ],
   "source": [
    "loan_data_no_friends['ListingCreationDate'].value_counts(sort=False).sort_index()/loan_data['ListingCreationDate'].value_counts(sort=False).sort_index()"
   ]
  },
  {
   "cell_type": "code",
   "execution_count": 37,
   "metadata": {
    "collapsed": false,
    "deletable": true,
    "editable": true
   },
   "outputs": [
    {
     "data": {
      "text/plain": [
       "array([2007, 2014, 2012, 2013, 2006, 2010, 2011, 2008, 2009, 2005], dtype=int64)"
      ]
     },
     "execution_count": 37,
     "metadata": {},
     "output_type": "execute_result"
    }
   ],
   "source": [
    "#2007, 2008, 2009, 2010 had some levels of friends loaning\n",
    "loan_data['ListingCreationDate'].unique()"
   ]
  },
  {
   "cell_type": "code",
   "execution_count": 38,
   "metadata": {
    "collapsed": false,
    "deletable": true,
    "editable": true
   },
   "outputs": [],
   "source": [
    "loan_data = loan_data[loan_data['ListingCreationDate'].isin([2008])]"
   ]
  },
  {
   "cell_type": "code",
   "execution_count": 39,
   "metadata": {
    "collapsed": true,
    "deletable": true,
    "editable": true
   },
   "outputs": [],
   "source": [
    "loan_data = loan_data[loan_data['LoanStatus'].isin(['Completed', 'Defaulted'])]"
   ]
  },
  {
   "cell_type": "code",
   "execution_count": 40,
   "metadata": {
    "collapsed": false,
    "deletable": true,
    "editable": true
   },
   "outputs": [
    {
     "data": {
      "text/plain": [
       "11262"
      ]
     },
     "execution_count": 40,
     "metadata": {},
     "output_type": "execute_result"
    }
   ],
   "source": [
    "len(loan_data)"
   ]
  },
  {
   "cell_type": "code",
   "execution_count": 41,
   "metadata": {
    "collapsed": true,
    "deletable": true,
    "editable": true
   },
   "outputs": [],
   "source": [
    "loan_data_no_friends = loan_data[loan_data['InvestmentFromFriendsCount'] == 0]\n",
    "loan_data_friends = loan_data[loan_data['InvestmentFromFriendsCount'] > 0]"
   ]
  },
  {
   "cell_type": "code",
   "execution_count": 42,
   "metadata": {
    "collapsed": false,
    "deletable": true,
    "editable": true
   },
   "outputs": [
    {
     "data": {
      "text/plain": [
       "10439"
      ]
     },
     "execution_count": 42,
     "metadata": {},
     "output_type": "execute_result"
    }
   ],
   "source": [
    "len(loan_data_no_friends)"
   ]
  },
  {
   "cell_type": "code",
   "execution_count": 43,
   "metadata": {
    "collapsed": false,
    "deletable": true,
    "editable": true
   },
   "outputs": [
    {
     "data": {
      "text/plain": [
       "823"
      ]
     },
     "execution_count": 43,
     "metadata": {},
     "output_type": "execute_result"
    }
   ],
   "source": [
    "len(loan_data_friends)"
   ]
  },
  {
   "cell_type": "code",
   "execution_count": 44,
   "metadata": {
    "collapsed": false,
    "deletable": true,
    "editable": true
   },
   "outputs": [
    {
     "data": {
      "text/plain": [
       "LoanStatus\n",
       "Completed    0.672172\n",
       "Defaulted    0.327828\n",
       "Name: ListingKey, dtype: float64"
      ]
     },
     "execution_count": 44,
     "metadata": {},
     "output_type": "execute_result"
    }
   ],
   "source": [
    "(loan_data.groupby(['LoanStatus']).count()/len(loan_data))['ListingKey']"
   ]
  },
  {
   "cell_type": "code",
   "execution_count": 45,
   "metadata": {
    "collapsed": false,
    "deletable": true,
    "editable": true
   },
   "outputs": [
    {
     "data": {
      "text/plain": [
       "LoanStatus\n",
       "Completed    0.7339\n",
       "Defaulted    0.2661\n",
       "Name: ListingKey, dtype: float64"
      ]
     },
     "execution_count": 45,
     "metadata": {},
     "output_type": "execute_result"
    }
   ],
   "source": [
    "(loan_data_friends.groupby(['LoanStatus']).count()/len(loan_data_friends))['ListingKey']"
   ]
  },
  {
   "cell_type": "code",
   "execution_count": 46,
   "metadata": {
    "collapsed": false,
    "deletable": true,
    "editable": true
   },
   "outputs": [
    {
     "data": {
      "text/plain": [
       "LoanStatus\n",
       "Completed    0.667305\n",
       "Defaulted    0.332695\n",
       "Name: ListingKey, dtype: float64"
      ]
     },
     "execution_count": 46,
     "metadata": {},
     "output_type": "execute_result"
    }
   ],
   "source": [
    "(loan_data_no_friends.groupby(['LoanStatus']).count()/len(loan_data_no_friends))['ListingKey']"
   ]
  },
  {
   "cell_type": "code",
   "execution_count": 47,
   "metadata": {
    "collapsed": false,
    "deletable": true,
    "editable": true
   },
   "outputs": [
    {
     "data": {
      "text/plain": [
       "<matplotlib.axes._subplots.AxesSubplot at 0x19013cf8>"
      ]
     },
     "execution_count": 47,
     "metadata": {},
     "output_type": "execute_result"
    },
    {
     "data": {
      "image/png": "[encoded data removed]",
      "text/plain": [
       "<matplotlib.figure.Figure at 0x14cf7240>"
      ]
     },
     "metadata": {},
     "output_type": "display_data"
    }
   ],
   "source": [
    "sns.barplot(loan_data_friends['LoanStatus'], loan_data_friends['InvestmentFromFriendsCount'])"
   ]
  },
  {
   "cell_type": "code",
   "execution_count": 48,
   "metadata": {
    "collapsed": false,
    "deletable": true,
    "editable": true
   },
   "outputs": [
    {
     "data": {
      "text/plain": [
       "<matplotlib.axes._subplots.AxesSubplot at 0x15e0fbe0>"
      ]
     },
     "execution_count": 48,
     "metadata": {},
     "output_type": "execute_result"
    },
    {
     "data": {
      "image/png": "[encoded data removed]",
      "text/plain": [
       "<matplotlib.figure.Figure at 0x1046bf98>"
      ]
     },
     "metadata": {},
     "output_type": "display_data"
    }
   ],
   "source": [
    "sns.countplot(loan_data['LoanStatus'])"
   ]
  },
  {
   "cell_type": "code",
   "execution_count": 49,
   "metadata": {
    "collapsed": false,
    "deletable": true,
    "editable": true
   },
   "outputs": [
    {
     "data": {
      "text/plain": [
       "F_onewayResult(statistic=9.9480832195441842, pvalue=0.0016144028892340998)"
      ]
     },
     "execution_count": 49,
     "metadata": {},
     "output_type": "execute_result"
    }
   ],
   "source": [
    "stats.f_oneway(loan_data[loan_data.LoanStatus == 'Completed']['InvestmentFromFriendsCount'], \n",
    "               loan_data[loan_data.LoanStatus == 'Defaulted']['InvestmentFromFriendsCount'])"
   ]
  },
  {
   "cell_type": "code",
   "execution_count": 50,
   "metadata": {
    "collapsed": false,
    "deletable": true,
    "editable": true
   },
   "outputs": [
    {
     "data": {
      "text/plain": [
       "LoanStatus\n",
       "Completed    0.107001\n",
       "Defaulted    0.074485\n",
       "Name: InvestmentFromFriendsCount, dtype: float64"
      ]
     },
     "execution_count": 50,
     "metadata": {},
     "output_type": "execute_result"
    }
   ],
   "source": [
    "loan_data.groupby('LoanStatus')['InvestmentFromFriendsCount'].mean()"
   ]
  },
  {
   "cell_type": "code",
   "execution_count": 51,
   "metadata": {
    "collapsed": false,
    "deletable": true,
    "editable": true
   },
   "outputs": [
    {
     "data": {
      "text/plain": [
       "Ttest_indResult(statistic=1.4816625246822501, pvalue=0.13845809597491024)"
      ]
     },
     "execution_count": 51,
     "metadata": {},
     "output_type": "execute_result"
    }
   ],
   "source": [
    "stats.ttest_ind(loan_data[loan_data.LoanStatus == 'Completed']['InvestmentFromFriendsCount'],\n",
    "                loan_data[loan_data.LoanStatus == 'Defaulted']['InvestmentFromFriendsCount'])\n",
    "stats.ttest_ind(loan_data[loan_data.LoanStatus == 'Completed']['InvestmentFromFriendsAmount'],\n",
    "                loan_data[loan_data.LoanStatus == 'Defaulted']['InvestmentFromFriendsAmount'])"
   ]
  },
  {
   "cell_type": "code",
   "execution_count": 52,
   "metadata": {
    "collapsed": false,
    "deletable": true,
    "editable": true
   },
   "outputs": [
    {
     "data": {
      "text/plain": [
       "<matplotlib.axes._subplots.AxesSubplot at 0xc4b5080>"
      ]
     },
     "execution_count": 52,
     "metadata": {},
     "output_type": "execute_result"
    },
    {
     "data": {
      "image/png": "[encoded data removed]",
      "text/plain": [
       "<matplotlib.figure.Figure at 0x1826b240>"
      ]
     },
     "metadata": {},
     "output_type": "display_data"
    }
   ],
   "source": [
    "# LoanStatus, InvestmentFromFriendsCount, InvestmentFromFriendsAmount, ListingCreationDate, LoanOriginalAmount\n",
    "sns.boxplot(loan_data['LoanOriginalAmount'])\n",
    "\n",
    "#x-axis dollar amount\n",
    "#y-axis investmentfromfriendscount"
   ]
  },
  {
   "cell_type": "code",
   "execution_count": 53,
   "metadata": {
    "collapsed": false,
    "deletable": true,
    "editable": true
   },
   "outputs": [],
   "source": [
    "loan_data['LoanStatus'] = loan_data['LoanStatus'].apply(lambda x: {'Completed':1,'Defaulted':0}.get(x, x))"
   ]
  },
  {
   "cell_type": "code",
   "execution_count": 54,
   "metadata": {
    "collapsed": false,
    "deletable": true,
    "editable": true
   },
   "outputs": [
    {
     "data": {
      "text/plain": [
       "<matplotlib.axes._subplots.AxesSubplot at 0x137ab080>"
      ]
     },
     "execution_count": 54,
     "metadata": {},
     "output_type": "execute_result"
    },
    {
     "data": {
      "image/png": "[encoded data removed]",
      "text/plain": [
       "<matplotlib.figure.Figure at 0x12fecf98>"
      ]
     },
     "metadata": {},
     "output_type": "display_data"
    }
   ],
   "source": [
    "sns.regplot(loan_data['LoanStatus'], loan_data['LoanOriginalAmount'], fit_reg=False)"
   ]
  },
  {
   "cell_type": "code",
   "execution_count": 55,
   "metadata": {
    "collapsed": false,
    "deletable": true,
    "editable": true
   },
   "outputs": [
    {
     "data": {
      "text/plain": [
       "<matplotlib.axes._subplots.AxesSubplot at 0x16965c88>"
      ]
     },
     "execution_count": 55,
     "metadata": {},
     "output_type": "execute_result"
    },
    {
     "data": {
      "image/png": "[encoded data removed]",
      "text/plain": [
       "<matplotlib.figure.Figure at 0x137ab320>"
      ]
     },
     "metadata": {},
     "output_type": "display_data"
    }
   ],
   "source": [
    "sns.boxplot(loan_data['LoanStatus'], loan_data['LoanOriginalAmount'])"
   ]
  },
  {
   "cell_type": "code",
   "execution_count": 56,
   "metadata": {
    "collapsed": false,
    "deletable": true,
    "editable": true
   },
   "outputs": [
    {
     "data": {
      "text/plain": [
       "0     10439\n",
       "1       684\n",
       "2        98\n",
       "3        19\n",
       "4        11\n",
       "5         4\n",
       "7         2\n",
       "9         2\n",
       "6         1\n",
       "13        1\n",
       "33        1\n",
       "Name: InvestmentFromFriendsCount, dtype: int64"
      ]
     },
     "execution_count": 56,
     "metadata": {},
     "output_type": "execute_result"
    }
   ],
   "source": [
    "loan_data['InvestmentFromFriendsCount'].value_counts()"
   ]
  },
  {
   "cell_type": "code",
   "execution_count": 57,
   "metadata": {
    "collapsed": true,
    "deletable": true,
    "editable": true
   },
   "outputs": [],
   "source": [
    "loan_data['FriendsInvolved'] = loan_data['InvestmentFromFriendsCount'] > 0"
   ]
  },
  {
   "cell_type": "code",
   "execution_count": 58,
   "metadata": {
    "collapsed": false,
    "deletable": true,
    "editable": true
   },
   "outputs": [],
   "source": [
    "loan_data['FriendsInvolved'] = loan_data['FriendsInvolved'].astype(float)"
   ]
  },
  {
   "cell_type": "code",
   "execution_count": 59,
   "metadata": {
    "collapsed": false,
    "deletable": true,
    "editable": true
   },
   "outputs": [
    {
     "data": {
      "text/plain": [
       "46        1.0\n",
       "78        0.0\n",
       "108       0.0\n",
       "117       0.0\n",
       "121       0.0\n",
       "123       0.0\n",
       "127       0.0\n",
       "131       0.0\n",
       "132       0.0\n",
       "136       0.0\n",
       "142       0.0\n",
       "150       0.0\n",
       "156       0.0\n",
       "241       0.0\n",
       "258       0.0\n",
       "259       0.0\n",
       "261       0.0\n",
       "320       0.0\n",
       "324       0.0\n",
       "330       0.0\n",
       "341       0.0\n",
       "345       0.0\n",
       "346       0.0\n",
       "362       0.0\n",
       "367       0.0\n",
       "369       0.0\n",
       "372       0.0\n",
       "380       0.0\n",
       "395       0.0\n",
       "400       0.0\n",
       "         ... \n",
       "113655    1.0\n",
       "113662    0.0\n",
       "113678    0.0\n",
       "113693    0.0\n",
       "113704    1.0\n",
       "113711    0.0\n",
       "113715    0.0\n",
       "113716    0.0\n",
       "113767    1.0\n",
       "113785    0.0\n",
       "113786    0.0\n",
       "113799    0.0\n",
       "113803    0.0\n",
       "113804    0.0\n",
       "113809    0.0\n",
       "113823    0.0\n",
       "113830    0.0\n",
       "113839    0.0\n",
       "113843    0.0\n",
       "113859    0.0\n",
       "113878    0.0\n",
       "113879    0.0\n",
       "113896    0.0\n",
       "113897    1.0\n",
       "113906    0.0\n",
       "113915    0.0\n",
       "113918    0.0\n",
       "113922    0.0\n",
       "113923    0.0\n",
       "113927    0.0\n",
       "Name: FriendsInvolved, dtype: float64"
      ]
     },
     "execution_count": 59,
     "metadata": {},
     "output_type": "execute_result"
    }
   ],
   "source": [
    "loan_data['FriendsInvolved']"
   ]
  },
  {
   "cell_type": "code",
   "execution_count": 60,
   "metadata": {
    "collapsed": false,
    "deletable": true,
    "editable": true
   },
   "outputs": [
    {
     "data": {
      "text/plain": [
       "ListingCreationDate                         NaN\n",
       "Term                                  -0.033561\n",
       "LoanStatus                             0.036923\n",
       "BorrowerAPR                           -0.035050\n",
       "BorrowerRate                          -0.036241\n",
       "ListingCategory (numeric)             -0.000857\n",
       "EmploymentStatusDuration              -0.035040\n",
       "IsBorrowerHomeowner                   -0.034460\n",
       "CreditScoreRangeLower                 -0.022285\n",
       "CreditScoreRangeUpper                 -0.022285\n",
       "CurrentDelinquencies                   0.041929\n",
       "AmountDelinquent                       0.023589\n",
       "TradesNeverDelinquent (percentage)    -0.036694\n",
       "TradesOpenedLast6Months               -0.026526\n",
       "DebtToIncomeRatio                      0.016298\n",
       "TotalProsperLoans                      0.009696\n",
       "TotalProsperPaymentsBilled            -0.025434\n",
       "OnTimeProsperPayments                 -0.028037\n",
       "ProsperPaymentsLessThanOneMonthLate    0.026101\n",
       "ProsperPaymentsOneMonthPlusLate       -0.015358\n",
       "ProsperPrincipalBorrowed               0.020085\n",
       "ProsperPrincipalOutstanding           -0.001333\n",
       "LoanCurrentDaysDelinquent             -0.025529\n",
       "LoanFirstDefaultedCycleNumber          0.021746\n",
       "LoanMonthsSinceOrigination            -0.014671\n",
       "LoanOriginalAmount                     0.031139\n",
       "MonthlyLoanPayment                     0.028549\n",
       "LP_ServiceFees                        -0.033461\n",
       "LP_CollectionFees                      0.019811\n",
       "PercentFunded                               NaN\n",
       "InvestmentFromFriendsCount             0.667871\n",
       "InvestmentFromFriendsAmount            0.386889\n",
       "Investors                             -0.009019\n",
       "pct_friends                            0.333383\n",
       "FriendsInvolved                        1.000000\n",
       "Name: FriendsInvolved, dtype: float64"
      ]
     },
     "execution_count": 60,
     "metadata": {},
     "output_type": "execute_result"
    }
   ],
   "source": [
    "loan_data.corr()['FriendsInvolved']"
   ]
  },
  {
   "cell_type": "code",
   "execution_count": 61,
   "metadata": {
    "collapsed": false,
    "deletable": true,
    "editable": true
   },
   "outputs": [
    {
     "ename": "AttributeError",
     "evalue": "'DataFrame' object has no attribute 'LoanStatusNum'",
     "output_type": "error",
     "traceback": [
      "\u001b[1;31m---------------------------------------------------------------------------\u001b[0m",
      "\u001b[1;31mAttributeError\u001b[0m                            Traceback (most recent call last)",
      "\u001b[1;32m<ipython-input-61-f09a2176cd0c>\u001b[0m in \u001b[0;36m<module>\u001b[1;34m()\u001b[0m\n\u001b[1;32m----> 1\u001b[1;33m stats.ttest_ind(loan_data[loan_data.LoanStatusNum == 1]['FriendsInvolvedNum'],\n\u001b[0m\u001b[0;32m      2\u001b[0m                 loan_data[loan_data.LoanStatusNum == 0]['FriendsInvolvedNum'])\n",
      "\u001b[1;32mC:\\Users\\Erik\\AppData\\Local\\Enthought\\Canopy\\User\\lib\\site-packages\\pandas\\core\\generic.pyc\u001b[0m in \u001b[0;36m__getattr__\u001b[1;34m(self, name)\u001b[0m\n\u001b[0;32m   2742\u001b[0m             \u001b[1;32mif\u001b[0m \u001b[0mname\u001b[0m \u001b[1;32min\u001b[0m \u001b[0mself\u001b[0m\u001b[1;33m.\u001b[0m\u001b[0m_info_axis\u001b[0m\u001b[1;33m:\u001b[0m\u001b[1;33m\u001b[0m\u001b[0m\n\u001b[0;32m   2743\u001b[0m                 \u001b[1;32mreturn\u001b[0m \u001b[0mself\u001b[0m\u001b[1;33m[\u001b[0m\u001b[0mname\u001b[0m\u001b[1;33m]\u001b[0m\u001b[1;33m\u001b[0m\u001b[0m\n\u001b[1;32m-> 2744\u001b[1;33m             \u001b[1;32mreturn\u001b[0m \u001b[0mobject\u001b[0m\u001b[1;33m.\u001b[0m\u001b[0m__getattribute__\u001b[0m\u001b[1;33m(\u001b[0m\u001b[0mself\u001b[0m\u001b[1;33m,\u001b[0m \u001b[0mname\u001b[0m\u001b[1;33m)\u001b[0m\u001b[1;33m\u001b[0m\u001b[0m\n\u001b[0m\u001b[0;32m   2745\u001b[0m \u001b[1;33m\u001b[0m\u001b[0m\n\u001b[0;32m   2746\u001b[0m     \u001b[1;32mdef\u001b[0m \u001b[0m__setattr__\u001b[0m\u001b[1;33m(\u001b[0m\u001b[0mself\u001b[0m\u001b[1;33m,\u001b[0m \u001b[0mname\u001b[0m\u001b[1;33m,\u001b[0m \u001b[0mvalue\u001b[0m\u001b[1;33m)\u001b[0m\u001b[1;33m:\u001b[0m\u001b[1;33m\u001b[0m\u001b[0m\n",
      "\u001b[1;31mAttributeError\u001b[0m: 'DataFrame' object has no attribute 'LoanStatusNum'"
     ]
    }
   ],
   "source": [
    "stats.ttest_ind(loan_data[loan_data.LoanStatusNum == 1]['FriendsInvolvedNum'],\n",
    "                loan_data[loan_data.LoanStatusNum == 0]['FriendsInvolvedNum'])"
   ]
  },
  {
   "cell_type": "code",
   "execution_count": null,
   "metadata": {
    "collapsed": false,
    "deletable": true,
    "editable": true
   },
   "outputs": [],
   "source": [
    "loan_data.groupby('LoanStatus').mean()['FriendsInvolved']"
   ]
  },
  {
   "cell_type": "code",
   "execution_count": null,
   "metadata": {
    "collapsed": false,
    "deletable": true,
    "editable": true
   },
   "outputs": [],
   "source": [
    "loan_data[loan_data['FriendsInvolved'] == 1].mean()['LoanStatus']"
   ]
  },
  {
   "cell_type": "code",
   "execution_count": null,
   "metadata": {
    "collapsed": false,
    "deletable": true,
    "editable": true
   },
   "outputs": [],
   "source": [
    "loan_data[loan_data['FriendsInvolved'] == 0].mean()['LoanStatus']"
   ]
  },
  {
   "cell_type": "code",
   "execution_count": null,
   "metadata": {
    "collapsed": false,
    "deletable": true,
    "editable": true
   },
   "outputs": [],
   "source": [
    "stats.ttest_ind(loan_data[loan_data.FriendsInvolved == 1]['LoanStatus'],\n",
    "                loan_data[loan_data.FriendsInvolved == 0]['LoanStatus'])"
   ]
  },
  {
   "cell_type": "code",
   "execution_count": null,
   "metadata": {
    "collapsed": false,
    "deletable": true,
    "editable": true
   },
   "outputs": [],
   "source": [
    "# LoanStatus boolean\n",
    "# FriendsInvolved boolean\n",
    "# InvestmentFromFriendsAmount, ListingCreationDate, LoanOriginalAmount\n",
    "\n",
    "# completed loans no friends, completed friends, defaulted no friend, defaulted friends\n",
    "loan_data.groupby(['LoanStatus', 'FriendsInvolved']).count()"
   ]
  },
  {
   "cell_type": "code",
   "execution_count": null,
   "metadata": {
    "collapsed": false,
    "deletable": true,
    "editable": true
   },
   "outputs": [],
   "source": [
    "# all data, just friends, just no friends\n",
    "sns.regplot('LoanOriginalAmount', 'FriendsInvolved', data=loan_data, fit_reg=False)"
   ]
  },
  {
   "cell_type": "code",
   "execution_count": 62,
   "metadata": {
    "collapsed": false,
    "deletable": true,
    "editable": true
   },
   "outputs": [],
   "source": [
    "loan_data = loan_data[['ListingKey', 'LoanStatus', 'FriendsInvolved', 'LoanOriginalAmount', 'ListingCreationDate']]"
   ]
  },
  {
   "cell_type": "code",
   "execution_count": 63,
   "metadata": {
    "collapsed": false,
    "deletable": true,
    "editable": true
   },
   "outputs": [
    {
     "data": {
      "text/plain": [
       "823"
      ]
     },
     "execution_count": 63,
     "metadata": {},
     "output_type": "execute_result"
    }
   ],
   "source": [
    "len(loan_data_friends)"
   ]
  },
  {
   "cell_type": "code",
   "execution_count": 64,
   "metadata": {
    "collapsed": false,
    "deletable": true,
    "editable": true
   },
   "outputs": [
    {
     "data": {
      "text/plain": [
       "10439"
      ]
     },
     "execution_count": 64,
     "metadata": {},
     "output_type": "execute_result"
    }
   ],
   "source": [
    "len(loan_data_no_friends)"
   ]
  },
  {
   "cell_type": "code",
   "execution_count": null,
   "metadata": {
    "collapsed": true,
    "deletable": true,
    "editable": true
   },
   "outputs": [],
   "source": [
    "#loan status, \n",
    "#friends contributed/no friends contributed, \n",
    "#with friends loan status, \n",
    "#with no friends loan status, \n",
    "#split two way as proportions, Defaulted/Paid at bottom, Stack Friends and No Friends Proportions"
   ]
  },
  {
   "cell_type": "code",
   "execution_count": 65,
   "metadata": {
    "collapsed": false,
    "deletable": true,
    "editable": true
   },
   "outputs": [
    {
     "name": "stderr",
     "output_type": "stream",
     "text": [
      "C:\\Users\\Erik\\AppData\\Local\\Enthought\\Canopy\\User\\lib\\site-packages\\ipykernel\\__main__.py:1: SettingWithCopyWarning: \n",
      "A value is trying to be set on a copy of a slice from a DataFrame.\n",
      "Try using .loc[row_indexer,col_indexer] = value instead\n",
      "\n",
      "See the caveats in the documentation: http://pandas.pydata.org/pandas-docs/stable/indexing.html#indexing-view-versus-copy\n",
      "  if __name__ == '__main__':\n"
     ]
    }
   ],
   "source": [
    "loan_data['LoanStatus'] = loan_data['LoanStatus'].apply(lambda x: {0:'Defaulted', 1:'Paid'}.get(x,x))"
   ]
  },
  {
   "cell_type": "code",
   "execution_count": 66,
   "metadata": {
    "collapsed": false,
    "deletable": true,
    "editable": true
   },
   "outputs": [
    {
     "name": "stderr",
     "output_type": "stream",
     "text": [
      "C:\\Users\\Erik\\AppData\\Local\\Enthought\\Canopy\\User\\lib\\site-packages\\ipykernel\\__main__.py:1: SettingWithCopyWarning: \n",
      "A value is trying to be set on a copy of a slice from a DataFrame.\n",
      "Try using .loc[row_indexer,col_indexer] = value instead\n",
      "\n",
      "See the caveats in the documentation: http://pandas.pydata.org/pandas-docs/stable/indexing.html#indexing-view-versus-copy\n",
      "  if __name__ == '__main__':\n"
     ]
    }
   ],
   "source": [
    "loan_data['FriendsInvolved'] = loan_data['FriendsInvolved'].apply(lambda x: {0:'False', 1:'True'}.get(x,x))"
   ]
  },
  {
   "cell_type": "code",
   "execution_count": 67,
   "metadata": {
    "collapsed": false,
    "deletable": true,
    "editable": true
   },
   "outputs": [
    {
     "name": "stderr",
     "output_type": "stream",
     "text": [
      "C:\\Users\\Erik\\AppData\\Local\\Enthought\\Canopy\\User\\lib\\site-packages\\ipykernel\\__main__.py:1: SettingWithCopyWarning: \n",
      "A value is trying to be set on a copy of a slice from a DataFrame.\n",
      "Try using .loc[row_indexer,col_indexer] = value instead\n",
      "\n",
      "See the caveats in the documentation: http://pandas.pydata.org/pandas-docs/stable/indexing.html#indexing-view-versus-copy\n",
      "  if __name__ == '__main__':\n"
     ]
    }
   ],
   "source": [
    "loan_data['FriendsAndStatus'] = loan_data['LoanStatus'] + \"/\" + loan_data['FriendsInvolved']"
   ]
  },
  {
   "cell_type": "code",
   "execution_count": 68,
   "metadata": {
    "collapsed": false,
    "deletable": true,
    "editable": true
   },
   "outputs": [
    {
     "data": {
      "text/html": [
       "<div>\n",
       "<table border=\"1\" class=\"dataframe\">\n",
       "  <thead>\n",
       "    <tr style=\"text-align: right;\">\n",
       "      <th></th>\n",
       "      <th>ListingKey</th>\n",
       "      <th>LoanStatus</th>\n",
       "      <th>FriendsInvolved</th>\n",
       "      <th>LoanOriginalAmount</th>\n",
       "      <th>ListingCreationDate</th>\n",
       "      <th>FriendsAndStatus</th>\n",
       "    </tr>\n",
       "  </thead>\n",
       "  <tbody>\n",
       "    <tr>\n",
       "      <th>46</th>\n",
       "      <td>0F8B34281015537050D4FEC</td>\n",
       "      <td>Paid</td>\n",
       "      <td>True</td>\n",
       "      <td>4000</td>\n",
       "      <td>2008</td>\n",
       "      <td>Paid/True</td>\n",
       "    </tr>\n",
       "    <tr>\n",
       "      <th>78</th>\n",
       "      <td>0DFE3425061927556BB8A75</td>\n",
       "      <td>Defaulted</td>\n",
       "      <td>False</td>\n",
       "      <td>4800</td>\n",
       "      <td>2008</td>\n",
       "      <td>Defaulted/False</td>\n",
       "    </tr>\n",
       "    <tr>\n",
       "      <th>108</th>\n",
       "      <td>10C034203841683992703F1</td>\n",
       "      <td>Paid</td>\n",
       "      <td>False</td>\n",
       "      <td>14000</td>\n",
       "      <td>2008</td>\n",
       "      <td>Paid/False</td>\n",
       "    </tr>\n",
       "    <tr>\n",
       "      <th>117</th>\n",
       "      <td>0F4B341445393357179A9C5</td>\n",
       "      <td>Paid</td>\n",
       "      <td>False</td>\n",
       "      <td>2000</td>\n",
       "      <td>2008</td>\n",
       "      <td>Paid/False</td>\n",
       "    </tr>\n",
       "    <tr>\n",
       "      <th>121</th>\n",
       "      <td>119034109962969937581AB</td>\n",
       "      <td>Paid</td>\n",
       "      <td>False</td>\n",
       "      <td>4000</td>\n",
       "      <td>2008</td>\n",
       "      <td>Paid/False</td>\n",
       "    </tr>\n",
       "    <tr>\n",
       "      <th>123</th>\n",
       "      <td>10D6343087886921049544C</td>\n",
       "      <td>Paid</td>\n",
       "      <td>False</td>\n",
       "      <td>12000</td>\n",
       "      <td>2008</td>\n",
       "      <td>Paid/False</td>\n",
       "    </tr>\n",
       "    <tr>\n",
       "      <th>127</th>\n",
       "      <td>10F83416199324455232962</td>\n",
       "      <td>Defaulted</td>\n",
       "      <td>False</td>\n",
       "      <td>2551</td>\n",
       "      <td>2008</td>\n",
       "      <td>Defaulted/False</td>\n",
       "    </tr>\n",
       "    <tr>\n",
       "      <th>131</th>\n",
       "      <td>11193430644352832E11281</td>\n",
       "      <td>Paid</td>\n",
       "      <td>False</td>\n",
       "      <td>12500</td>\n",
       "      <td>2008</td>\n",
       "      <td>Paid/False</td>\n",
       "    </tr>\n",
       "    <tr>\n",
       "      <th>132</th>\n",
       "      <td>10F1341448577160837015D</td>\n",
       "      <td>Paid</td>\n",
       "      <td>False</td>\n",
       "      <td>8600</td>\n",
       "      <td>2008</td>\n",
       "      <td>Paid/False</td>\n",
       "    </tr>\n",
       "    <tr>\n",
       "      <th>136</th>\n",
       "      <td>11033424414557921FA7656</td>\n",
       "      <td>Paid</td>\n",
       "      <td>False</td>\n",
       "      <td>3000</td>\n",
       "      <td>2008</td>\n",
       "      <td>Paid/False</td>\n",
       "    </tr>\n",
       "    <tr>\n",
       "      <th>142</th>\n",
       "      <td>349134175738976507325F1</td>\n",
       "      <td>Defaulted</td>\n",
       "      <td>False</td>\n",
       "      <td>2500</td>\n",
       "      <td>2008</td>\n",
       "      <td>Defaulted/False</td>\n",
       "    </tr>\n",
       "    <tr>\n",
       "      <th>150</th>\n",
       "      <td>10683423770994576084943</td>\n",
       "      <td>Paid</td>\n",
       "      <td>False</td>\n",
       "      <td>6500</td>\n",
       "      <td>2008</td>\n",
       "      <td>Paid/False</td>\n",
       "    </tr>\n",
       "    <tr>\n",
       "      <th>156</th>\n",
       "      <td>108834307409514865F11EE</td>\n",
       "      <td>Paid</td>\n",
       "      <td>False</td>\n",
       "      <td>5500</td>\n",
       "      <td>2008</td>\n",
       "      <td>Paid/False</td>\n",
       "    </tr>\n",
       "    <tr>\n",
       "      <th>241</th>\n",
       "      <td>2EBC3426392173872AC3827</td>\n",
       "      <td>Paid</td>\n",
       "      <td>False</td>\n",
       "      <td>1100</td>\n",
       "      <td>2008</td>\n",
       "      <td>Paid/False</td>\n",
       "    </tr>\n",
       "    <tr>\n",
       "      <th>258</th>\n",
       "      <td>30393422832767524FCE539</td>\n",
       "      <td>Paid</td>\n",
       "      <td>False</td>\n",
       "      <td>7000</td>\n",
       "      <td>2008</td>\n",
       "      <td>Paid/False</td>\n",
       "    </tr>\n",
       "    <tr>\n",
       "      <th>259</th>\n",
       "      <td>303E3411284124174A8668B</td>\n",
       "      <td>Paid</td>\n",
       "      <td>False</td>\n",
       "      <td>1000</td>\n",
       "      <td>2008</td>\n",
       "      <td>Paid/False</td>\n",
       "    </tr>\n",
       "    <tr>\n",
       "      <th>261</th>\n",
       "      <td>304534285742385679173B7</td>\n",
       "      <td>Paid</td>\n",
       "      <td>False</td>\n",
       "      <td>6000</td>\n",
       "      <td>2008</td>\n",
       "      <td>Paid/False</td>\n",
       "    </tr>\n",
       "    <tr>\n",
       "      <th>320</th>\n",
       "      <td>30D43428763365789DF354A</td>\n",
       "      <td>Defaulted</td>\n",
       "      <td>False</td>\n",
       "      <td>7300</td>\n",
       "      <td>2008</td>\n",
       "      <td>Defaulted/False</td>\n",
       "    </tr>\n",
       "    <tr>\n",
       "      <th>324</th>\n",
       "      <td>30E8342797297342973A38B</td>\n",
       "      <td>Defaulted</td>\n",
       "      <td>False</td>\n",
       "      <td>3600</td>\n",
       "      <td>2008</td>\n",
       "      <td>Defaulted/False</td>\n",
       "    </tr>\n",
       "    <tr>\n",
       "      <th>330</th>\n",
       "      <td>08E134244479824305E38AA</td>\n",
       "      <td>Defaulted</td>\n",
       "      <td>False</td>\n",
       "      <td>4000</td>\n",
       "      <td>2008</td>\n",
       "      <td>Defaulted/False</td>\n",
       "    </tr>\n",
       "    <tr>\n",
       "      <th>341</th>\n",
       "      <td>00D83430137333223CB5464</td>\n",
       "      <td>Defaulted</td>\n",
       "      <td>False</td>\n",
       "      <td>2000</td>\n",
       "      <td>2008</td>\n",
       "      <td>Defaulted/False</td>\n",
       "    </tr>\n",
       "    <tr>\n",
       "      <th>345</th>\n",
       "      <td>31003414136001733EF98F2</td>\n",
       "      <td>Paid</td>\n",
       "      <td>False</td>\n",
       "      <td>5500</td>\n",
       "      <td>2008</td>\n",
       "      <td>Paid/False</td>\n",
       "    </tr>\n",
       "    <tr>\n",
       "      <th>346</th>\n",
       "      <td>31093424399878843D2C40F</td>\n",
       "      <td>Paid</td>\n",
       "      <td>False</td>\n",
       "      <td>2000</td>\n",
       "      <td>2008</td>\n",
       "      <td>Paid/False</td>\n",
       "    </tr>\n",
       "    <tr>\n",
       "      <th>362</th>\n",
       "      <td>00BA341943039504432423F</td>\n",
       "      <td>Paid</td>\n",
       "      <td>False</td>\n",
       "      <td>10000</td>\n",
       "      <td>2008</td>\n",
       "      <td>Paid/False</td>\n",
       "    </tr>\n",
       "    <tr>\n",
       "      <th>367</th>\n",
       "      <td>00EA3417467785833467587</td>\n",
       "      <td>Paid</td>\n",
       "      <td>False</td>\n",
       "      <td>1545</td>\n",
       "      <td>2008</td>\n",
       "      <td>Paid/False</td>\n",
       "    </tr>\n",
       "    <tr>\n",
       "      <th>369</th>\n",
       "      <td>00F33430399786922887980</td>\n",
       "      <td>Defaulted</td>\n",
       "      <td>False</td>\n",
       "      <td>1000</td>\n",
       "      <td>2008</td>\n",
       "      <td>Defaulted/False</td>\n",
       "    </tr>\n",
       "    <tr>\n",
       "      <th>372</th>\n",
       "      <td>314E34271460439110FA9B2</td>\n",
       "      <td>Defaulted</td>\n",
       "      <td>False</td>\n",
       "      <td>3800</td>\n",
       "      <td>2008</td>\n",
       "      <td>Defaulted/False</td>\n",
       "    </tr>\n",
       "    <tr>\n",
       "      <th>380</th>\n",
       "      <td>08F93416948042584D3BCAE</td>\n",
       "      <td>Paid</td>\n",
       "      <td>False</td>\n",
       "      <td>10000</td>\n",
       "      <td>2008</td>\n",
       "      <td>Paid/False</td>\n",
       "    </tr>\n",
       "    <tr>\n",
       "      <th>395</th>\n",
       "      <td>412934312165894856C0F8B</td>\n",
       "      <td>Paid</td>\n",
       "      <td>False</td>\n",
       "      <td>5000</td>\n",
       "      <td>2008</td>\n",
       "      <td>Paid/False</td>\n",
       "    </tr>\n",
       "    <tr>\n",
       "      <th>400</th>\n",
       "      <td>010E3432211680005CE327C</td>\n",
       "      <td>Paid</td>\n",
       "      <td>False</td>\n",
       "      <td>15000</td>\n",
       "      <td>2008</td>\n",
       "      <td>Paid/False</td>\n",
       "    </tr>\n",
       "    <tr>\n",
       "      <th>...</th>\n",
       "      <td>...</td>\n",
       "      <td>...</td>\n",
       "      <td>...</td>\n",
       "      <td>...</td>\n",
       "      <td>...</td>\n",
       "      <td>...</td>\n",
       "    </tr>\n",
       "    <tr>\n",
       "      <th>113655</th>\n",
       "      <td>C4583430255178354C91D01</td>\n",
       "      <td>Defaulted</td>\n",
       "      <td>True</td>\n",
       "      <td>6702</td>\n",
       "      <td>2008</td>\n",
       "      <td>Defaulted/True</td>\n",
       "    </tr>\n",
       "    <tr>\n",
       "      <th>113662</th>\n",
       "      <td>DBD134162937317684E3FAD</td>\n",
       "      <td>Paid</td>\n",
       "      <td>False</td>\n",
       "      <td>2500</td>\n",
       "      <td>2008</td>\n",
       "      <td>Paid/False</td>\n",
       "    </tr>\n",
       "    <tr>\n",
       "      <th>113678</th>\n",
       "      <td>FD9A3416215762467E1A5A5</td>\n",
       "      <td>Paid</td>\n",
       "      <td>False</td>\n",
       "      <td>6000</td>\n",
       "      <td>2008</td>\n",
       "      <td>Paid/False</td>\n",
       "    </tr>\n",
       "    <tr>\n",
       "      <th>113693</th>\n",
       "      <td>E2193428655642974D34A0B</td>\n",
       "      <td>Defaulted</td>\n",
       "      <td>False</td>\n",
       "      <td>2900</td>\n",
       "      <td>2008</td>\n",
       "      <td>Defaulted/False</td>\n",
       "    </tr>\n",
       "    <tr>\n",
       "      <th>113704</th>\n",
       "      <td>C49234285929885832A3A62</td>\n",
       "      <td>Paid</td>\n",
       "      <td>True</td>\n",
       "      <td>16000</td>\n",
       "      <td>2008</td>\n",
       "      <td>Paid/True</td>\n",
       "    </tr>\n",
       "    <tr>\n",
       "      <th>113711</th>\n",
       "      <td>DC083429979529800792FA6</td>\n",
       "      <td>Paid</td>\n",
       "      <td>False</td>\n",
       "      <td>1500</td>\n",
       "      <td>2008</td>\n",
       "      <td>Paid/False</td>\n",
       "    </tr>\n",
       "    <tr>\n",
       "      <th>113715</th>\n",
       "      <td>CD0F34154839935065181E8</td>\n",
       "      <td>Defaulted</td>\n",
       "      <td>False</td>\n",
       "      <td>15000</td>\n",
       "      <td>2008</td>\n",
       "      <td>Defaulted/False</td>\n",
       "    </tr>\n",
       "    <tr>\n",
       "      <th>113716</th>\n",
       "      <td>CD19341246781766703FC6C</td>\n",
       "      <td>Defaulted</td>\n",
       "      <td>False</td>\n",
       "      <td>3000</td>\n",
       "      <td>2008</td>\n",
       "      <td>Defaulted/False</td>\n",
       "    </tr>\n",
       "    <tr>\n",
       "      <th>113767</th>\n",
       "      <td>DE48341184370727282B3F4</td>\n",
       "      <td>Defaulted</td>\n",
       "      <td>True</td>\n",
       "      <td>5000</td>\n",
       "      <td>2008</td>\n",
       "      <td>Defaulted/True</td>\n",
       "    </tr>\n",
       "    <tr>\n",
       "      <th>113785</th>\n",
       "      <td>CF5E3421929977128B83CE2</td>\n",
       "      <td>Defaulted</td>\n",
       "      <td>False</td>\n",
       "      <td>3000</td>\n",
       "      <td>2008</td>\n",
       "      <td>Defaulted/False</td>\n",
       "    </tr>\n",
       "    <tr>\n",
       "      <th>113786</th>\n",
       "      <td>CF6834198228131385872B4</td>\n",
       "      <td>Paid</td>\n",
       "      <td>False</td>\n",
       "      <td>1000</td>\n",
       "      <td>2008</td>\n",
       "      <td>Paid/False</td>\n",
       "    </tr>\n",
       "    <tr>\n",
       "      <th>113799</th>\n",
       "      <td>E4743427307764315AE0818</td>\n",
       "      <td>Paid</td>\n",
       "      <td>False</td>\n",
       "      <td>25000</td>\n",
       "      <td>2008</td>\n",
       "      <td>Paid/False</td>\n",
       "    </tr>\n",
       "    <tr>\n",
       "      <th>113803</th>\n",
       "      <td>DEA93427782854712C73CB8</td>\n",
       "      <td>Defaulted</td>\n",
       "      <td>False</td>\n",
       "      <td>5000</td>\n",
       "      <td>2008</td>\n",
       "      <td>Defaulted/False</td>\n",
       "    </tr>\n",
       "    <tr>\n",
       "      <th>113804</th>\n",
       "      <td>DEB2341377319696802F2FD</td>\n",
       "      <td>Paid</td>\n",
       "      <td>False</td>\n",
       "      <td>5000</td>\n",
       "      <td>2008</td>\n",
       "      <td>Paid/False</td>\n",
       "    </tr>\n",
       "    <tr>\n",
       "      <th>113809</th>\n",
       "      <td>DEE534185104451482069B8</td>\n",
       "      <td>Defaulted</td>\n",
       "      <td>False</td>\n",
       "      <td>6500</td>\n",
       "      <td>2008</td>\n",
       "      <td>Defaulted/False</td>\n",
       "    </tr>\n",
       "    <tr>\n",
       "      <th>113823</th>\n",
       "      <td>CFA73414577685840B50616</td>\n",
       "      <td>Defaulted</td>\n",
       "      <td>False</td>\n",
       "      <td>4000</td>\n",
       "      <td>2008</td>\n",
       "      <td>Defaulted/False</td>\n",
       "    </tr>\n",
       "    <tr>\n",
       "      <th>113830</th>\n",
       "      <td>E4983410037648184D7B1A7</td>\n",
       "      <td>Defaulted</td>\n",
       "      <td>False</td>\n",
       "      <td>24000</td>\n",
       "      <td>2008</td>\n",
       "      <td>Defaulted/False</td>\n",
       "    </tr>\n",
       "    <tr>\n",
       "      <th>113839</th>\n",
       "      <td>DEEE34119153067734CEBA5</td>\n",
       "      <td>Paid</td>\n",
       "      <td>False</td>\n",
       "      <td>1250</td>\n",
       "      <td>2008</td>\n",
       "      <td>Paid/False</td>\n",
       "    </tr>\n",
       "    <tr>\n",
       "      <th>113843</th>\n",
       "      <td>DF1B34173558923433980EF</td>\n",
       "      <td>Paid</td>\n",
       "      <td>False</td>\n",
       "      <td>6001</td>\n",
       "      <td>2008</td>\n",
       "      <td>Paid/False</td>\n",
       "    </tr>\n",
       "    <tr>\n",
       "      <th>113859</th>\n",
       "      <td>DF69341259831524097DA56</td>\n",
       "      <td>Paid</td>\n",
       "      <td>False</td>\n",
       "      <td>3000</td>\n",
       "      <td>2008</td>\n",
       "      <td>Paid/False</td>\n",
       "    </tr>\n",
       "    <tr>\n",
       "      <th>113878</th>\n",
       "      <td>E2B53426332861197A39828</td>\n",
       "      <td>Paid</td>\n",
       "      <td>False</td>\n",
       "      <td>3000</td>\n",
       "      <td>2008</td>\n",
       "      <td>Paid/False</td>\n",
       "    </tr>\n",
       "    <tr>\n",
       "      <th>113879</th>\n",
       "      <td>E2B8342284935785971B58B</td>\n",
       "      <td>Paid</td>\n",
       "      <td>False</td>\n",
       "      <td>1500</td>\n",
       "      <td>2008</td>\n",
       "      <td>Paid/False</td>\n",
       "    </tr>\n",
       "    <tr>\n",
       "      <th>113896</th>\n",
       "      <td>E6A53412522524762F41C95</td>\n",
       "      <td>Defaulted</td>\n",
       "      <td>False</td>\n",
       "      <td>2200</td>\n",
       "      <td>2008</td>\n",
       "      <td>Defaulted/False</td>\n",
       "    </tr>\n",
       "    <tr>\n",
       "      <th>113897</th>\n",
       "      <td>E6A53426405611446E7A12A</td>\n",
       "      <td>Paid</td>\n",
       "      <td>True</td>\n",
       "      <td>25000</td>\n",
       "      <td>2008</td>\n",
       "      <td>Paid/True</td>\n",
       "    </tr>\n",
       "    <tr>\n",
       "      <th>113906</th>\n",
       "      <td>C982341623647969155E514</td>\n",
       "      <td>Paid</td>\n",
       "      <td>False</td>\n",
       "      <td>3001</td>\n",
       "      <td>2008</td>\n",
       "      <td>Paid/False</td>\n",
       "    </tr>\n",
       "    <tr>\n",
       "      <th>113915</th>\n",
       "      <td>D2053427325575423785798</td>\n",
       "      <td>Paid</td>\n",
       "      <td>False</td>\n",
       "      <td>3000</td>\n",
       "      <td>2008</td>\n",
       "      <td>Paid/False</td>\n",
       "    </tr>\n",
       "    <tr>\n",
       "      <th>113918</th>\n",
       "      <td>D207342464194217591D1E1</td>\n",
       "      <td>Defaulted</td>\n",
       "      <td>False</td>\n",
       "      <td>7000</td>\n",
       "      <td>2008</td>\n",
       "      <td>Defaulted/False</td>\n",
       "    </tr>\n",
       "    <tr>\n",
       "      <th>113922</th>\n",
       "      <td>D2293427338962159DA5143</td>\n",
       "      <td>Paid</td>\n",
       "      <td>False</td>\n",
       "      <td>5000</td>\n",
       "      <td>2008</td>\n",
       "      <td>Paid/False</td>\n",
       "    </tr>\n",
       "    <tr>\n",
       "      <th>113923</th>\n",
       "      <td>E334343080922352965DF86</td>\n",
       "      <td>Paid</td>\n",
       "      <td>False</td>\n",
       "      <td>8000</td>\n",
       "      <td>2008</td>\n",
       "      <td>Paid/False</td>\n",
       "    </tr>\n",
       "    <tr>\n",
       "      <th>113927</th>\n",
       "      <td>E3433419834735803891976</td>\n",
       "      <td>Paid</td>\n",
       "      <td>False</td>\n",
       "      <td>4292</td>\n",
       "      <td>2008</td>\n",
       "      <td>Paid/False</td>\n",
       "    </tr>\n",
       "  </tbody>\n",
       "</table>\n",
       "<p>11262 rows × 6 columns</p>\n",
       "</div>"
      ],
      "text/plain": [
       "                     ListingKey LoanStatus FriendsInvolved  \\\n",
       "46      0F8B34281015537050D4FEC       Paid            True   \n",
       "78      0DFE3425061927556BB8A75  Defaulted           False   \n",
       "108     10C034203841683992703F1       Paid           False   \n",
       "117     0F4B341445393357179A9C5       Paid           False   \n",
       "121     119034109962969937581AB       Paid           False   \n",
       "123     10D6343087886921049544C       Paid           False   \n",
       "127     10F83416199324455232962  Defaulted           False   \n",
       "131     11193430644352832E11281       Paid           False   \n",
       "132     10F1341448577160837015D       Paid           False   \n",
       "136     11033424414557921FA7656       Paid           False   \n",
       "142     349134175738976507325F1  Defaulted           False   \n",
       "150     10683423770994576084943       Paid           False   \n",
       "156     108834307409514865F11EE       Paid           False   \n",
       "241     2EBC3426392173872AC3827       Paid           False   \n",
       "258     30393422832767524FCE539       Paid           False   \n",
       "259     303E3411284124174A8668B       Paid           False   \n",
       "261     304534285742385679173B7       Paid           False   \n",
       "320     30D43428763365789DF354A  Defaulted           False   \n",
       "324     30E8342797297342973A38B  Defaulted           False   \n",
       "330     08E134244479824305E38AA  Defaulted           False   \n",
       "341     00D83430137333223CB5464  Defaulted           False   \n",
       "345     31003414136001733EF98F2       Paid           False   \n",
       "346     31093424399878843D2C40F       Paid           False   \n",
       "362     00BA341943039504432423F       Paid           False   \n",
       "367     00EA3417467785833467587       Paid           False   \n",
       "369     00F33430399786922887980  Defaulted           False   \n",
       "372     314E34271460439110FA9B2  Defaulted           False   \n",
       "380     08F93416948042584D3BCAE       Paid           False   \n",
       "395     412934312165894856C0F8B       Paid           False   \n",
       "400     010E3432211680005CE327C       Paid           False   \n",
       "...                         ...        ...             ...   \n",
       "113655  C4583430255178354C91D01  Defaulted            True   \n",
       "113662  DBD134162937317684E3FAD       Paid           False   \n",
       "113678  FD9A3416215762467E1A5A5       Paid           False   \n",
       "113693  E2193428655642974D34A0B  Defaulted           False   \n",
       "113704  C49234285929885832A3A62       Paid            True   \n",
       "113711  DC083429979529800792FA6       Paid           False   \n",
       "113715  CD0F34154839935065181E8  Defaulted           False   \n",
       "113716  CD19341246781766703FC6C  Defaulted           False   \n",
       "113767  DE48341184370727282B3F4  Defaulted            True   \n",
       "113785  CF5E3421929977128B83CE2  Defaulted           False   \n",
       "113786  CF6834198228131385872B4       Paid           False   \n",
       "113799  E4743427307764315AE0818       Paid           False   \n",
       "113803  DEA93427782854712C73CB8  Defaulted           False   \n",
       "113804  DEB2341377319696802F2FD       Paid           False   \n",
       "113809  DEE534185104451482069B8  Defaulted           False   \n",
       "113823  CFA73414577685840B50616  Defaulted           False   \n",
       "113830  E4983410037648184D7B1A7  Defaulted           False   \n",
       "113839  DEEE34119153067734CEBA5       Paid           False   \n",
       "113843  DF1B34173558923433980EF       Paid           False   \n",
       "113859  DF69341259831524097DA56       Paid           False   \n",
       "113878  E2B53426332861197A39828       Paid           False   \n",
       "113879  E2B8342284935785971B58B       Paid           False   \n",
       "113896  E6A53412522524762F41C95  Defaulted           False   \n",
       "113897  E6A53426405611446E7A12A       Paid            True   \n",
       "113906  C982341623647969155E514       Paid           False   \n",
       "113915  D2053427325575423785798       Paid           False   \n",
       "113918  D207342464194217591D1E1  Defaulted           False   \n",
       "113922  D2293427338962159DA5143       Paid           False   \n",
       "113923  E334343080922352965DF86       Paid           False   \n",
       "113927  E3433419834735803891976       Paid           False   \n",
       "\n",
       "        LoanOriginalAmount  ListingCreationDate FriendsAndStatus  \n",
       "46                    4000                 2008        Paid/True  \n",
       "78                    4800                 2008  Defaulted/False  \n",
       "108                  14000                 2008       Paid/False  \n",
       "117                   2000                 2008       Paid/False  \n",
       "121                   4000                 2008       Paid/False  \n",
       "123                  12000                 2008       Paid/False  \n",
       "127                   2551                 2008  Defaulted/False  \n",
       "131                  12500                 2008       Paid/False  \n",
       "132                   8600                 2008       Paid/False  \n",
       "136                   3000                 2008       Paid/False  \n",
       "142                   2500                 2008  Defaulted/False  \n",
       "150                   6500                 2008       Paid/False  \n",
       "156                   5500                 2008       Paid/False  \n",
       "241                   1100                 2008       Paid/False  \n",
       "258                   7000                 2008       Paid/False  \n",
       "259                   1000                 2008       Paid/False  \n",
       "261                   6000                 2008       Paid/False  \n",
       "320                   7300                 2008  Defaulted/False  \n",
       "324                   3600                 2008  Defaulted/False  \n",
       "330                   4000                 2008  Defaulted/False  \n",
       "341                   2000                 2008  Defaulted/False  \n",
       "345                   5500                 2008       Paid/False  \n",
       "346                   2000                 2008       Paid/False  \n",
       "362                  10000                 2008       Paid/False  \n",
       "367                   1545                 2008       Paid/False  \n",
       "369                   1000                 2008  Defaulted/False  \n",
       "372                   3800                 2008  Defaulted/False  \n",
       "380                  10000                 2008       Paid/False  \n",
       "395                   5000                 2008       Paid/False  \n",
       "400                  15000                 2008       Paid/False  \n",
       "...                    ...                  ...              ...  \n",
       "113655                6702                 2008   Defaulted/True  \n",
       "113662                2500                 2008       Paid/False  \n",
       "113678                6000                 2008       Paid/False  \n",
       "113693                2900                 2008  Defaulted/False  \n",
       "113704               16000                 2008        Paid/True  \n",
       "113711                1500                 2008       Paid/False  \n",
       "113715               15000                 2008  Defaulted/False  \n",
       "113716                3000                 2008  Defaulted/False  \n",
       "113767                5000                 2008   Defaulted/True  \n",
       "113785                3000                 2008  Defaulted/False  \n",
       "113786                1000                 2008       Paid/False  \n",
       "113799               25000                 2008       Paid/False  \n",
       "113803                5000                 2008  Defaulted/False  \n",
       "113804                5000                 2008       Paid/False  \n",
       "113809                6500                 2008  Defaulted/False  \n",
       "113823                4000                 2008  Defaulted/False  \n",
       "113830               24000                 2008  Defaulted/False  \n",
       "113839                1250                 2008       Paid/False  \n",
       "113843                6001                 2008       Paid/False  \n",
       "113859                3000                 2008       Paid/False  \n",
       "113878                3000                 2008       Paid/False  \n",
       "113879                1500                 2008       Paid/False  \n",
       "113896                2200                 2008  Defaulted/False  \n",
       "113897               25000                 2008        Paid/True  \n",
       "113906                3001                 2008       Paid/False  \n",
       "113915                3000                 2008       Paid/False  \n",
       "113918                7000                 2008  Defaulted/False  \n",
       "113922                5000                 2008       Paid/False  \n",
       "113923                8000                 2008       Paid/False  \n",
       "113927                4292                 2008       Paid/False  \n",
       "\n",
       "[11262 rows x 6 columns]"
      ]
     },
     "execution_count": 68,
     "metadata": {},
     "output_type": "execute_result"
    }
   ],
   "source": [
    "loan_data"
   ]
  },
  {
   "cell_type": "code",
   "execution_count": 69,
   "metadata": {
    "collapsed": false,
    "deletable": true,
    "editable": true
   },
   "outputs": [],
   "source": [
    "loan_data['ListingCreationDate'].value_counts()\n",
    "loan_data = loan_data[loan_data['ListingCreationDate'] == 2008]"
   ]
  },
  {
   "cell_type": "code",
   "execution_count": 70,
   "metadata": {
    "collapsed": false,
    "deletable": true,
    "editable": true
   },
   "outputs": [],
   "source": [
    "loan_data['FriendsInvolvedNum'] = loan_data['FriendsInvolved'].apply(lambda x: {'False':0, 'True':1}.get(x,x))"
   ]
  },
  {
   "cell_type": "code",
   "execution_count": 71,
   "metadata": {
    "collapsed": true,
    "deletable": true,
    "editable": true
   },
   "outputs": [],
   "source": [
    "loan_data['LoanStatusNum'] = loan_data['LoanStatus'].apply(lambda x: {'Paid':1, 'Defaulted':0}.get(x,x))"
   ]
  },
  {
   "cell_type": "code",
   "execution_count": 72,
   "metadata": {
    "collapsed": false,
    "deletable": true,
    "editable": true,
    "scrolled": false
   },
   "outputs": [
    {
     "data": {
      "text/html": [
       "<div>\n",
       "<table border=\"1\" class=\"dataframe\">\n",
       "  <thead>\n",
       "    <tr style=\"text-align: right;\">\n",
       "      <th></th>\n",
       "      <th>ListingKey</th>\n",
       "      <th>LoanStatus</th>\n",
       "      <th>FriendsInvolved</th>\n",
       "      <th>LoanOriginalAmount</th>\n",
       "      <th>ListingCreationDate</th>\n",
       "      <th>FriendsAndStatus</th>\n",
       "      <th>FriendsInvolvedNum</th>\n",
       "      <th>LoanStatusNum</th>\n",
       "    </tr>\n",
       "  </thead>\n",
       "  <tbody>\n",
       "    <tr>\n",
       "      <th>46</th>\n",
       "      <td>0F8B34281015537050D4FEC</td>\n",
       "      <td>Paid</td>\n",
       "      <td>True</td>\n",
       "      <td>4000</td>\n",
       "      <td>2008</td>\n",
       "      <td>Paid/True</td>\n",
       "      <td>1</td>\n",
       "      <td>1</td>\n",
       "    </tr>\n",
       "    <tr>\n",
       "      <th>78</th>\n",
       "      <td>0DFE3425061927556BB8A75</td>\n",
       "      <td>Defaulted</td>\n",
       "      <td>False</td>\n",
       "      <td>4800</td>\n",
       "      <td>2008</td>\n",
       "      <td>Defaulted/False</td>\n",
       "      <td>0</td>\n",
       "      <td>0</td>\n",
       "    </tr>\n",
       "    <tr>\n",
       "      <th>108</th>\n",
       "      <td>10C034203841683992703F1</td>\n",
       "      <td>Paid</td>\n",
       "      <td>False</td>\n",
       "      <td>14000</td>\n",
       "      <td>2008</td>\n",
       "      <td>Paid/False</td>\n",
       "      <td>0</td>\n",
       "      <td>1</td>\n",
       "    </tr>\n",
       "    <tr>\n",
       "      <th>117</th>\n",
       "      <td>0F4B341445393357179A9C5</td>\n",
       "      <td>Paid</td>\n",
       "      <td>False</td>\n",
       "      <td>2000</td>\n",
       "      <td>2008</td>\n",
       "      <td>Paid/False</td>\n",
       "      <td>0</td>\n",
       "      <td>1</td>\n",
       "    </tr>\n",
       "    <tr>\n",
       "      <th>121</th>\n",
       "      <td>119034109962969937581AB</td>\n",
       "      <td>Paid</td>\n",
       "      <td>False</td>\n",
       "      <td>4000</td>\n",
       "      <td>2008</td>\n",
       "      <td>Paid/False</td>\n",
       "      <td>0</td>\n",
       "      <td>1</td>\n",
       "    </tr>\n",
       "    <tr>\n",
       "      <th>123</th>\n",
       "      <td>10D6343087886921049544C</td>\n",
       "      <td>Paid</td>\n",
       "      <td>False</td>\n",
       "      <td>12000</td>\n",
       "      <td>2008</td>\n",
       "      <td>Paid/False</td>\n",
       "      <td>0</td>\n",
       "      <td>1</td>\n",
       "    </tr>\n",
       "    <tr>\n",
       "      <th>127</th>\n",
       "      <td>10F83416199324455232962</td>\n",
       "      <td>Defaulted</td>\n",
       "      <td>False</td>\n",
       "      <td>2551</td>\n",
       "      <td>2008</td>\n",
       "      <td>Defaulted/False</td>\n",
       "      <td>0</td>\n",
       "      <td>0</td>\n",
       "    </tr>\n",
       "    <tr>\n",
       "      <th>131</th>\n",
       "      <td>11193430644352832E11281</td>\n",
       "      <td>Paid</td>\n",
       "      <td>False</td>\n",
       "      <td>12500</td>\n",
       "      <td>2008</td>\n",
       "      <td>Paid/False</td>\n",
       "      <td>0</td>\n",
       "      <td>1</td>\n",
       "    </tr>\n",
       "    <tr>\n",
       "      <th>132</th>\n",
       "      <td>10F1341448577160837015D</td>\n",
       "      <td>Paid</td>\n",
       "      <td>False</td>\n",
       "      <td>8600</td>\n",
       "      <td>2008</td>\n",
       "      <td>Paid/False</td>\n",
       "      <td>0</td>\n",
       "      <td>1</td>\n",
       "    </tr>\n",
       "    <tr>\n",
       "      <th>136</th>\n",
       "      <td>11033424414557921FA7656</td>\n",
       "      <td>Paid</td>\n",
       "      <td>False</td>\n",
       "      <td>3000</td>\n",
       "      <td>2008</td>\n",
       "      <td>Paid/False</td>\n",
       "      <td>0</td>\n",
       "      <td>1</td>\n",
       "    </tr>\n",
       "    <tr>\n",
       "      <th>142</th>\n",
       "      <td>349134175738976507325F1</td>\n",
       "      <td>Defaulted</td>\n",
       "      <td>False</td>\n",
       "      <td>2500</td>\n",
       "      <td>2008</td>\n",
       "      <td>Defaulted/False</td>\n",
       "      <td>0</td>\n",
       "      <td>0</td>\n",
       "    </tr>\n",
       "    <tr>\n",
       "      <th>150</th>\n",
       "      <td>10683423770994576084943</td>\n",
       "      <td>Paid</td>\n",
       "      <td>False</td>\n",
       "      <td>6500</td>\n",
       "      <td>2008</td>\n",
       "      <td>Paid/False</td>\n",
       "      <td>0</td>\n",
       "      <td>1</td>\n",
       "    </tr>\n",
       "    <tr>\n",
       "      <th>156</th>\n",
       "      <td>108834307409514865F11EE</td>\n",
       "      <td>Paid</td>\n",
       "      <td>False</td>\n",
       "      <td>5500</td>\n",
       "      <td>2008</td>\n",
       "      <td>Paid/False</td>\n",
       "      <td>0</td>\n",
       "      <td>1</td>\n",
       "    </tr>\n",
       "    <tr>\n",
       "      <th>241</th>\n",
       "      <td>2EBC3426392173872AC3827</td>\n",
       "      <td>Paid</td>\n",
       "      <td>False</td>\n",
       "      <td>1100</td>\n",
       "      <td>2008</td>\n",
       "      <td>Paid/False</td>\n",
       "      <td>0</td>\n",
       "      <td>1</td>\n",
       "    </tr>\n",
       "    <tr>\n",
       "      <th>258</th>\n",
       "      <td>30393422832767524FCE539</td>\n",
       "      <td>Paid</td>\n",
       "      <td>False</td>\n",
       "      <td>7000</td>\n",
       "      <td>2008</td>\n",
       "      <td>Paid/False</td>\n",
       "      <td>0</td>\n",
       "      <td>1</td>\n",
       "    </tr>\n",
       "    <tr>\n",
       "      <th>259</th>\n",
       "      <td>303E3411284124174A8668B</td>\n",
       "      <td>Paid</td>\n",
       "      <td>False</td>\n",
       "      <td>1000</td>\n",
       "      <td>2008</td>\n",
       "      <td>Paid/False</td>\n",
       "      <td>0</td>\n",
       "      <td>1</td>\n",
       "    </tr>\n",
       "    <tr>\n",
       "      <th>261</th>\n",
       "      <td>304534285742385679173B7</td>\n",
       "      <td>Paid</td>\n",
       "      <td>False</td>\n",
       "      <td>6000</td>\n",
       "      <td>2008</td>\n",
       "      <td>Paid/False</td>\n",
       "      <td>0</td>\n",
       "      <td>1</td>\n",
       "    </tr>\n",
       "    <tr>\n",
       "      <th>320</th>\n",
       "      <td>30D43428763365789DF354A</td>\n",
       "      <td>Defaulted</td>\n",
       "      <td>False</td>\n",
       "      <td>7300</td>\n",
       "      <td>2008</td>\n",
       "      <td>Defaulted/False</td>\n",
       "      <td>0</td>\n",
       "      <td>0</td>\n",
       "    </tr>\n",
       "    <tr>\n",
       "      <th>324</th>\n",
       "      <td>30E8342797297342973A38B</td>\n",
       "      <td>Defaulted</td>\n",
       "      <td>False</td>\n",
       "      <td>3600</td>\n",
       "      <td>2008</td>\n",
       "      <td>Defaulted/False</td>\n",
       "      <td>0</td>\n",
       "      <td>0</td>\n",
       "    </tr>\n",
       "    <tr>\n",
       "      <th>330</th>\n",
       "      <td>08E134244479824305E38AA</td>\n",
       "      <td>Defaulted</td>\n",
       "      <td>False</td>\n",
       "      <td>4000</td>\n",
       "      <td>2008</td>\n",
       "      <td>Defaulted/False</td>\n",
       "      <td>0</td>\n",
       "      <td>0</td>\n",
       "    </tr>\n",
       "    <tr>\n",
       "      <th>341</th>\n",
       "      <td>00D83430137333223CB5464</td>\n",
       "      <td>Defaulted</td>\n",
       "      <td>False</td>\n",
       "      <td>2000</td>\n",
       "      <td>2008</td>\n",
       "      <td>Defaulted/False</td>\n",
       "      <td>0</td>\n",
       "      <td>0</td>\n",
       "    </tr>\n",
       "    <tr>\n",
       "      <th>345</th>\n",
       "      <td>31003414136001733EF98F2</td>\n",
       "      <td>Paid</td>\n",
       "      <td>False</td>\n",
       "      <td>5500</td>\n",
       "      <td>2008</td>\n",
       "      <td>Paid/False</td>\n",
       "      <td>0</td>\n",
       "      <td>1</td>\n",
       "    </tr>\n",
       "    <tr>\n",
       "      <th>346</th>\n",
       "      <td>31093424399878843D2C40F</td>\n",
       "      <td>Paid</td>\n",
       "      <td>False</td>\n",
       "      <td>2000</td>\n",
       "      <td>2008</td>\n",
       "      <td>Paid/False</td>\n",
       "      <td>0</td>\n",
       "      <td>1</td>\n",
       "    </tr>\n",
       "    <tr>\n",
       "      <th>362</th>\n",
       "      <td>00BA341943039504432423F</td>\n",
       "      <td>Paid</td>\n",
       "      <td>False</td>\n",
       "      <td>10000</td>\n",
       "      <td>2008</td>\n",
       "      <td>Paid/False</td>\n",
       "      <td>0</td>\n",
       "      <td>1</td>\n",
       "    </tr>\n",
       "    <tr>\n",
       "      <th>367</th>\n",
       "      <td>00EA3417467785833467587</td>\n",
       "      <td>Paid</td>\n",
       "      <td>False</td>\n",
       "      <td>1545</td>\n",
       "      <td>2008</td>\n",
       "      <td>Paid/False</td>\n",
       "      <td>0</td>\n",
       "      <td>1</td>\n",
       "    </tr>\n",
       "    <tr>\n",
       "      <th>369</th>\n",
       "      <td>00F33430399786922887980</td>\n",
       "      <td>Defaulted</td>\n",
       "      <td>False</td>\n",
       "      <td>1000</td>\n",
       "      <td>2008</td>\n",
       "      <td>Defaulted/False</td>\n",
       "      <td>0</td>\n",
       "      <td>0</td>\n",
       "    </tr>\n",
       "    <tr>\n",
       "      <th>372</th>\n",
       "      <td>314E34271460439110FA9B2</td>\n",
       "      <td>Defaulted</td>\n",
       "      <td>False</td>\n",
       "      <td>3800</td>\n",
       "      <td>2008</td>\n",
       "      <td>Defaulted/False</td>\n",
       "      <td>0</td>\n",
       "      <td>0</td>\n",
       "    </tr>\n",
       "    <tr>\n",
       "      <th>380</th>\n",
       "      <td>08F93416948042584D3BCAE</td>\n",
       "      <td>Paid</td>\n",
       "      <td>False</td>\n",
       "      <td>10000</td>\n",
       "      <td>2008</td>\n",
       "      <td>Paid/False</td>\n",
       "      <td>0</td>\n",
       "      <td>1</td>\n",
       "    </tr>\n",
       "    <tr>\n",
       "      <th>395</th>\n",
       "      <td>412934312165894856C0F8B</td>\n",
       "      <td>Paid</td>\n",
       "      <td>False</td>\n",
       "      <td>5000</td>\n",
       "      <td>2008</td>\n",
       "      <td>Paid/False</td>\n",
       "      <td>0</td>\n",
       "      <td>1</td>\n",
       "    </tr>\n",
       "    <tr>\n",
       "      <th>400</th>\n",
       "      <td>010E3432211680005CE327C</td>\n",
       "      <td>Paid</td>\n",
       "      <td>False</td>\n",
       "      <td>15000</td>\n",
       "      <td>2008</td>\n",
       "      <td>Paid/False</td>\n",
       "      <td>0</td>\n",
       "      <td>1</td>\n",
       "    </tr>\n",
       "    <tr>\n",
       "      <th>...</th>\n",
       "      <td>...</td>\n",
       "      <td>...</td>\n",
       "      <td>...</td>\n",
       "      <td>...</td>\n",
       "      <td>...</td>\n",
       "      <td>...</td>\n",
       "      <td>...</td>\n",
       "      <td>...</td>\n",
       "    </tr>\n",
       "    <tr>\n",
       "      <th>113655</th>\n",
       "      <td>C4583430255178354C91D01</td>\n",
       "      <td>Defaulted</td>\n",
       "      <td>True</td>\n",
       "      <td>6702</td>\n",
       "      <td>2008</td>\n",
       "      <td>Defaulted/True</td>\n",
       "      <td>1</td>\n",
       "      <td>0</td>\n",
       "    </tr>\n",
       "    <tr>\n",
       "      <th>113662</th>\n",
       "      <td>DBD134162937317684E3FAD</td>\n",
       "      <td>Paid</td>\n",
       "      <td>False</td>\n",
       "      <td>2500</td>\n",
       "      <td>2008</td>\n",
       "      <td>Paid/False</td>\n",
       "      <td>0</td>\n",
       "      <td>1</td>\n",
       "    </tr>\n",
       "    <tr>\n",
       "      <th>113678</th>\n",
       "      <td>FD9A3416215762467E1A5A5</td>\n",
       "      <td>Paid</td>\n",
       "      <td>False</td>\n",
       "      <td>6000</td>\n",
       "      <td>2008</td>\n",
       "      <td>Paid/False</td>\n",
       "      <td>0</td>\n",
       "      <td>1</td>\n",
       "    </tr>\n",
       "    <tr>\n",
       "      <th>113693</th>\n",
       "      <td>E2193428655642974D34A0B</td>\n",
       "      <td>Defaulted</td>\n",
       "      <td>False</td>\n",
       "      <td>2900</td>\n",
       "      <td>2008</td>\n",
       "      <td>Defaulted/False</td>\n",
       "      <td>0</td>\n",
       "      <td>0</td>\n",
       "    </tr>\n",
       "    <tr>\n",
       "      <th>113704</th>\n",
       "      <td>C49234285929885832A3A62</td>\n",
       "      <td>Paid</td>\n",
       "      <td>True</td>\n",
       "      <td>16000</td>\n",
       "      <td>2008</td>\n",
       "      <td>Paid/True</td>\n",
       "      <td>1</td>\n",
       "      <td>1</td>\n",
       "    </tr>\n",
       "    <tr>\n",
       "      <th>113711</th>\n",
       "      <td>DC083429979529800792FA6</td>\n",
       "      <td>Paid</td>\n",
       "      <td>False</td>\n",
       "      <td>1500</td>\n",
       "      <td>2008</td>\n",
       "      <td>Paid/False</td>\n",
       "      <td>0</td>\n",
       "      <td>1</td>\n",
       "    </tr>\n",
       "    <tr>\n",
       "      <th>113715</th>\n",
       "      <td>CD0F34154839935065181E8</td>\n",
       "      <td>Defaulted</td>\n",
       "      <td>False</td>\n",
       "      <td>15000</td>\n",
       "      <td>2008</td>\n",
       "      <td>Defaulted/False</td>\n",
       "      <td>0</td>\n",
       "      <td>0</td>\n",
       "    </tr>\n",
       "    <tr>\n",
       "      <th>113716</th>\n",
       "      <td>CD19341246781766703FC6C</td>\n",
       "      <td>Defaulted</td>\n",
       "      <td>False</td>\n",
       "      <td>3000</td>\n",
       "      <td>2008</td>\n",
       "      <td>Defaulted/False</td>\n",
       "      <td>0</td>\n",
       "      <td>0</td>\n",
       "    </tr>\n",
       "    <tr>\n",
       "      <th>113767</th>\n",
       "      <td>DE48341184370727282B3F4</td>\n",
       "      <td>Defaulted</td>\n",
       "      <td>True</td>\n",
       "      <td>5000</td>\n",
       "      <td>2008</td>\n",
       "      <td>Defaulted/True</td>\n",
       "      <td>1</td>\n",
       "      <td>0</td>\n",
       "    </tr>\n",
       "    <tr>\n",
       "      <th>113785</th>\n",
       "      <td>CF5E3421929977128B83CE2</td>\n",
       "      <td>Defaulted</td>\n",
       "      <td>False</td>\n",
       "      <td>3000</td>\n",
       "      <td>2008</td>\n",
       "      <td>Defaulted/False</td>\n",
       "      <td>0</td>\n",
       "      <td>0</td>\n",
       "    </tr>\n",
       "    <tr>\n",
       "      <th>113786</th>\n",
       "      <td>CF6834198228131385872B4</td>\n",
       "      <td>Paid</td>\n",
       "      <td>False</td>\n",
       "      <td>1000</td>\n",
       "      <td>2008</td>\n",
       "      <td>Paid/False</td>\n",
       "      <td>0</td>\n",
       "      <td>1</td>\n",
       "    </tr>\n",
       "    <tr>\n",
       "      <th>113799</th>\n",
       "      <td>E4743427307764315AE0818</td>\n",
       "      <td>Paid</td>\n",
       "      <td>False</td>\n",
       "      <td>25000</td>\n",
       "      <td>2008</td>\n",
       "      <td>Paid/False</td>\n",
       "      <td>0</td>\n",
       "      <td>1</td>\n",
       "    </tr>\n",
       "    <tr>\n",
       "      <th>113803</th>\n",
       "      <td>DEA93427782854712C73CB8</td>\n",
       "      <td>Defaulted</td>\n",
       "      <td>False</td>\n",
       "      <td>5000</td>\n",
       "      <td>2008</td>\n",
       "      <td>Defaulted/False</td>\n",
       "      <td>0</td>\n",
       "      <td>0</td>\n",
       "    </tr>\n",
       "    <tr>\n",
       "      <th>113804</th>\n",
       "      <td>DEB2341377319696802F2FD</td>\n",
       "      <td>Paid</td>\n",
       "      <td>False</td>\n",
       "      <td>5000</td>\n",
       "      <td>2008</td>\n",
       "      <td>Paid/False</td>\n",
       "      <td>0</td>\n",
       "      <td>1</td>\n",
       "    </tr>\n",
       "    <tr>\n",
       "      <th>113809</th>\n",
       "      <td>DEE534185104451482069B8</td>\n",
       "      <td>Defaulted</td>\n",
       "      <td>False</td>\n",
       "      <td>6500</td>\n",
       "      <td>2008</td>\n",
       "      <td>Defaulted/False</td>\n",
       "      <td>0</td>\n",
       "      <td>0</td>\n",
       "    </tr>\n",
       "    <tr>\n",
       "      <th>113823</th>\n",
       "      <td>CFA73414577685840B50616</td>\n",
       "      <td>Defaulted</td>\n",
       "      <td>False</td>\n",
       "      <td>4000</td>\n",
       "      <td>2008</td>\n",
       "      <td>Defaulted/False</td>\n",
       "      <td>0</td>\n",
       "      <td>0</td>\n",
       "    </tr>\n",
       "    <tr>\n",
       "      <th>113830</th>\n",
       "      <td>E4983410037648184D7B1A7</td>\n",
       "      <td>Defaulted</td>\n",
       "      <td>False</td>\n",
       "      <td>24000</td>\n",
       "      <td>2008</td>\n",
       "      <td>Defaulted/False</td>\n",
       "      <td>0</td>\n",
       "      <td>0</td>\n",
       "    </tr>\n",
       "    <tr>\n",
       "      <th>113839</th>\n",
       "      <td>DEEE34119153067734CEBA5</td>\n",
       "      <td>Paid</td>\n",
       "      <td>False</td>\n",
       "      <td>1250</td>\n",
       "      <td>2008</td>\n",
       "      <td>Paid/False</td>\n",
       "      <td>0</td>\n",
       "      <td>1</td>\n",
       "    </tr>\n",
       "    <tr>\n",
       "      <th>113843</th>\n",
       "      <td>DF1B34173558923433980EF</td>\n",
       "      <td>Paid</td>\n",
       "      <td>False</td>\n",
       "      <td>6001</td>\n",
       "      <td>2008</td>\n",
       "      <td>Paid/False</td>\n",
       "      <td>0</td>\n",
       "      <td>1</td>\n",
       "    </tr>\n",
       "    <tr>\n",
       "      <th>113859</th>\n",
       "      <td>DF69341259831524097DA56</td>\n",
       "      <td>Paid</td>\n",
       "      <td>False</td>\n",
       "      <td>3000</td>\n",
       "      <td>2008</td>\n",
       "      <td>Paid/False</td>\n",
       "      <td>0</td>\n",
       "      <td>1</td>\n",
       "    </tr>\n",
       "    <tr>\n",
       "      <th>113878</th>\n",
       "      <td>E2B53426332861197A39828</td>\n",
       "      <td>Paid</td>\n",
       "      <td>False</td>\n",
       "      <td>3000</td>\n",
       "      <td>2008</td>\n",
       "      <td>Paid/False</td>\n",
       "      <td>0</td>\n",
       "      <td>1</td>\n",
       "    </tr>\n",
       "    <tr>\n",
       "      <th>113879</th>\n",
       "      <td>E2B8342284935785971B58B</td>\n",
       "      <td>Paid</td>\n",
       "      <td>False</td>\n",
       "      <td>1500</td>\n",
       "      <td>2008</td>\n",
       "      <td>Paid/False</td>\n",
       "      <td>0</td>\n",
       "      <td>1</td>\n",
       "    </tr>\n",
       "    <tr>\n",
       "      <th>113896</th>\n",
       "      <td>E6A53412522524762F41C95</td>\n",
       "      <td>Defaulted</td>\n",
       "      <td>False</td>\n",
       "      <td>2200</td>\n",
       "      <td>2008</td>\n",
       "      <td>Defaulted/False</td>\n",
       "      <td>0</td>\n",
       "      <td>0</td>\n",
       "    </tr>\n",
       "    <tr>\n",
       "      <th>113897</th>\n",
       "      <td>E6A53426405611446E7A12A</td>\n",
       "      <td>Paid</td>\n",
       "      <td>True</td>\n",
       "      <td>25000</td>\n",
       "      <td>2008</td>\n",
       "      <td>Paid/True</td>\n",
       "      <td>1</td>\n",
       "      <td>1</td>\n",
       "    </tr>\n",
       "    <tr>\n",
       "      <th>113906</th>\n",
       "      <td>C982341623647969155E514</td>\n",
       "      <td>Paid</td>\n",
       "      <td>False</td>\n",
       "      <td>3001</td>\n",
       "      <td>2008</td>\n",
       "      <td>Paid/False</td>\n",
       "      <td>0</td>\n",
       "      <td>1</td>\n",
       "    </tr>\n",
       "    <tr>\n",
       "      <th>113915</th>\n",
       "      <td>D2053427325575423785798</td>\n",
       "      <td>Paid</td>\n",
       "      <td>False</td>\n",
       "      <td>3000</td>\n",
       "      <td>2008</td>\n",
       "      <td>Paid/False</td>\n",
       "      <td>0</td>\n",
       "      <td>1</td>\n",
       "    </tr>\n",
       "    <tr>\n",
       "      <th>113918</th>\n",
       "      <td>D207342464194217591D1E1</td>\n",
       "      <td>Defaulted</td>\n",
       "      <td>False</td>\n",
       "      <td>7000</td>\n",
       "      <td>2008</td>\n",
       "      <td>Defaulted/False</td>\n",
       "      <td>0</td>\n",
       "      <td>0</td>\n",
       "    </tr>\n",
       "    <tr>\n",
       "      <th>113922</th>\n",
       "      <td>D2293427338962159DA5143</td>\n",
       "      <td>Paid</td>\n",
       "      <td>False</td>\n",
       "      <td>5000</td>\n",
       "      <td>2008</td>\n",
       "      <td>Paid/False</td>\n",
       "      <td>0</td>\n",
       "      <td>1</td>\n",
       "    </tr>\n",
       "    <tr>\n",
       "      <th>113923</th>\n",
       "      <td>E334343080922352965DF86</td>\n",
       "      <td>Paid</td>\n",
       "      <td>False</td>\n",
       "      <td>8000</td>\n",
       "      <td>2008</td>\n",
       "      <td>Paid/False</td>\n",
       "      <td>0</td>\n",
       "      <td>1</td>\n",
       "    </tr>\n",
       "    <tr>\n",
       "      <th>113927</th>\n",
       "      <td>E3433419834735803891976</td>\n",
       "      <td>Paid</td>\n",
       "      <td>False</td>\n",
       "      <td>4292</td>\n",
       "      <td>2008</td>\n",
       "      <td>Paid/False</td>\n",
       "      <td>0</td>\n",
       "      <td>1</td>\n",
       "    </tr>\n",
       "  </tbody>\n",
       "</table>\n",
       "<p>11262 rows × 8 columns</p>\n",
       "</div>"
      ],
      "text/plain": [
       "                     ListingKey LoanStatus FriendsInvolved  \\\n",
       "46      0F8B34281015537050D4FEC       Paid            True   \n",
       "78      0DFE3425061927556BB8A75  Defaulted           False   \n",
       "108     10C034203841683992703F1       Paid           False   \n",
       "117     0F4B341445393357179A9C5       Paid           False   \n",
       "121     119034109962969937581AB       Paid           False   \n",
       "123     10D6343087886921049544C       Paid           False   \n",
       "127     10F83416199324455232962  Defaulted           False   \n",
       "131     11193430644352832E11281       Paid           False   \n",
       "132     10F1341448577160837015D       Paid           False   \n",
       "136     11033424414557921FA7656       Paid           False   \n",
       "142     349134175738976507325F1  Defaulted           False   \n",
       "150     10683423770994576084943       Paid           False   \n",
       "156     108834307409514865F11EE       Paid           False   \n",
       "241     2EBC3426392173872AC3827       Paid           False   \n",
       "258     30393422832767524FCE539       Paid           False   \n",
       "259     303E3411284124174A8668B       Paid           False   \n",
       "261     304534285742385679173B7       Paid           False   \n",
       "320     30D43428763365789DF354A  Defaulted           False   \n",
       "324     30E8342797297342973A38B  Defaulted           False   \n",
       "330     08E134244479824305E38AA  Defaulted           False   \n",
       "341     00D83430137333223CB5464  Defaulted           False   \n",
       "345     31003414136001733EF98F2       Paid           False   \n",
       "346     31093424399878843D2C40F       Paid           False   \n",
       "362     00BA341943039504432423F       Paid           False   \n",
       "367     00EA3417467785833467587       Paid           False   \n",
       "369     00F33430399786922887980  Defaulted           False   \n",
       "372     314E34271460439110FA9B2  Defaulted           False   \n",
       "380     08F93416948042584D3BCAE       Paid           False   \n",
       "395     412934312165894856C0F8B       Paid           False   \n",
       "400     010E3432211680005CE327C       Paid           False   \n",
       "...                         ...        ...             ...   \n",
       "113655  C4583430255178354C91D01  Defaulted            True   \n",
       "113662  DBD134162937317684E3FAD       Paid           False   \n",
       "113678  FD9A3416215762467E1A5A5       Paid           False   \n",
       "113693  E2193428655642974D34A0B  Defaulted           False   \n",
       "113704  C49234285929885832A3A62       Paid            True   \n",
       "113711  DC083429979529800792FA6       Paid           False   \n",
       "113715  CD0F34154839935065181E8  Defaulted           False   \n",
       "113716  CD19341246781766703FC6C  Defaulted           False   \n",
       "113767  DE48341184370727282B3F4  Defaulted            True   \n",
       "113785  CF5E3421929977128B83CE2  Defaulted           False   \n",
       "113786  CF6834198228131385872B4       Paid           False   \n",
       "113799  E4743427307764315AE0818       Paid           False   \n",
       "113803  DEA93427782854712C73CB8  Defaulted           False   \n",
       "113804  DEB2341377319696802F2FD       Paid           False   \n",
       "113809  DEE534185104451482069B8  Defaulted           False   \n",
       "113823  CFA73414577685840B50616  Defaulted           False   \n",
       "113830  E4983410037648184D7B1A7  Defaulted           False   \n",
       "113839  DEEE34119153067734CEBA5       Paid           False   \n",
       "113843  DF1B34173558923433980EF       Paid           False   \n",
       "113859  DF69341259831524097DA56       Paid           False   \n",
       "113878  E2B53426332861197A39828       Paid           False   \n",
       "113879  E2B8342284935785971B58B       Paid           False   \n",
       "113896  E6A53412522524762F41C95  Defaulted           False   \n",
       "113897  E6A53426405611446E7A12A       Paid            True   \n",
       "113906  C982341623647969155E514       Paid           False   \n",
       "113915  D2053427325575423785798       Paid           False   \n",
       "113918  D207342464194217591D1E1  Defaulted           False   \n",
       "113922  D2293427338962159DA5143       Paid           False   \n",
       "113923  E334343080922352965DF86       Paid           False   \n",
       "113927  E3433419834735803891976       Paid           False   \n",
       "\n",
       "        LoanOriginalAmount  ListingCreationDate FriendsAndStatus  \\\n",
       "46                    4000                 2008        Paid/True   \n",
       "78                    4800                 2008  Defaulted/False   \n",
       "108                  14000                 2008       Paid/False   \n",
       "117                   2000                 2008       Paid/False   \n",
       "121                   4000                 2008       Paid/False   \n",
       "123                  12000                 2008       Paid/False   \n",
       "127                   2551                 2008  Defaulted/False   \n",
       "131                  12500                 2008       Paid/False   \n",
       "132                   8600                 2008       Paid/False   \n",
       "136                   3000                 2008       Paid/False   \n",
       "142                   2500                 2008  Defaulted/False   \n",
       "150                   6500                 2008       Paid/False   \n",
       "156                   5500                 2008       Paid/False   \n",
       "241                   1100                 2008       Paid/False   \n",
       "258                   7000                 2008       Paid/False   \n",
       "259                   1000                 2008       Paid/False   \n",
       "261                   6000                 2008       Paid/False   \n",
       "320                   7300                 2008  Defaulted/False   \n",
       "324                   3600                 2008  Defaulted/False   \n",
       "330                   4000                 2008  Defaulted/False   \n",
       "341                   2000                 2008  Defaulted/False   \n",
       "345                   5500                 2008       Paid/False   \n",
       "346                   2000                 2008       Paid/False   \n",
       "362                  10000                 2008       Paid/False   \n",
       "367                   1545                 2008       Paid/False   \n",
       "369                   1000                 2008  Defaulted/False   \n",
       "372                   3800                 2008  Defaulted/False   \n",
       "380                  10000                 2008       Paid/False   \n",
       "395                   5000                 2008       Paid/False   \n",
       "400                  15000                 2008       Paid/False   \n",
       "...                    ...                  ...              ...   \n",
       "113655                6702                 2008   Defaulted/True   \n",
       "113662                2500                 2008       Paid/False   \n",
       "113678                6000                 2008       Paid/False   \n",
       "113693                2900                 2008  Defaulted/False   \n",
       "113704               16000                 2008        Paid/True   \n",
       "113711                1500                 2008       Paid/False   \n",
       "113715               15000                 2008  Defaulted/False   \n",
       "113716                3000                 2008  Defaulted/False   \n",
       "113767                5000                 2008   Defaulted/True   \n",
       "113785                3000                 2008  Defaulted/False   \n",
       "113786                1000                 2008       Paid/False   \n",
       "113799               25000                 2008       Paid/False   \n",
       "113803                5000                 2008  Defaulted/False   \n",
       "113804                5000                 2008       Paid/False   \n",
       "113809                6500                 2008  Defaulted/False   \n",
       "113823                4000                 2008  Defaulted/False   \n",
       "113830               24000                 2008  Defaulted/False   \n",
       "113839                1250                 2008       Paid/False   \n",
       "113843                6001                 2008       Paid/False   \n",
       "113859                3000                 2008       Paid/False   \n",
       "113878                3000                 2008       Paid/False   \n",
       "113879                1500                 2008       Paid/False   \n",
       "113896                2200                 2008  Defaulted/False   \n",
       "113897               25000                 2008        Paid/True   \n",
       "113906                3001                 2008       Paid/False   \n",
       "113915                3000                 2008       Paid/False   \n",
       "113918                7000                 2008  Defaulted/False   \n",
       "113922                5000                 2008       Paid/False   \n",
       "113923                8000                 2008       Paid/False   \n",
       "113927                4292                 2008       Paid/False   \n",
       "\n",
       "        FriendsInvolvedNum  LoanStatusNum  \n",
       "46                       1              1  \n",
       "78                       0              0  \n",
       "108                      0              1  \n",
       "117                      0              1  \n",
       "121                      0              1  \n",
       "123                      0              1  \n",
       "127                      0              0  \n",
       "131                      0              1  \n",
       "132                      0              1  \n",
       "136                      0              1  \n",
       "142                      0              0  \n",
       "150                      0              1  \n",
       "156                      0              1  \n",
       "241                      0              1  \n",
       "258                      0              1  \n",
       "259                      0              1  \n",
       "261                      0              1  \n",
       "320                      0              0  \n",
       "324                      0              0  \n",
       "330                      0              0  \n",
       "341                      0              0  \n",
       "345                      0              1  \n",
       "346                      0              1  \n",
       "362                      0              1  \n",
       "367                      0              1  \n",
       "369                      0              0  \n",
       "372                      0              0  \n",
       "380                      0              1  \n",
       "395                      0              1  \n",
       "400                      0              1  \n",
       "...                    ...            ...  \n",
       "113655                   1              0  \n",
       "113662                   0              1  \n",
       "113678                   0              1  \n",
       "113693                   0              0  \n",
       "113704                   1              1  \n",
       "113711                   0              1  \n",
       "113715                   0              0  \n",
       "113716                   0              0  \n",
       "113767                   1              0  \n",
       "113785                   0              0  \n",
       "113786                   0              1  \n",
       "113799                   0              1  \n",
       "113803                   0              0  \n",
       "113804                   0              1  \n",
       "113809                   0              0  \n",
       "113823                   0              0  \n",
       "113830                   0              0  \n",
       "113839                   0              1  \n",
       "113843                   0              1  \n",
       "113859                   0              1  \n",
       "113878                   0              1  \n",
       "113879                   0              1  \n",
       "113896                   0              0  \n",
       "113897                   1              1  \n",
       "113906                   0              1  \n",
       "113915                   0              1  \n",
       "113918                   0              0  \n",
       "113922                   0              1  \n",
       "113923                   0              1  \n",
       "113927                   0              1  \n",
       "\n",
       "[11262 rows x 8 columns]"
      ]
     },
     "execution_count": 72,
     "metadata": {},
     "output_type": "execute_result"
    }
   ],
   "source": [
    "loan_data"
   ]
  },
  {
   "cell_type": "code",
   "execution_count": null,
   "metadata": {
    "collapsed": false,
    "deletable": true,
    "editable": true
   },
   "outputs": [],
   "source": [
    "stats.ttest_ind(loan_data[loan_data['FriendsInvolvedNum'] == 1]['LoanStatusNum'],\n",
    "                loan_data[loan_data['FriendsInvolvedNum'] == 0]['LoanStatusNum'])"
   ]
  },
  {
   "cell_type": "code",
   "execution_count": 73,
   "metadata": {
    "collapsed": false,
    "deletable": true,
    "editable": true
   },
   "outputs": [
    {
     "data": {
      "text/plain": [
       "0.73390036452004859"
      ]
     },
     "execution_count": 73,
     "metadata": {},
     "output_type": "execute_result"
    }
   ],
   "source": [
    "loan_data[loan_data['FriendsInvolvedNum'] == 1]['LoanStatusNum'].mean()"
   ]
  },
  {
   "cell_type": "code",
   "execution_count": 74,
   "metadata": {
    "collapsed": false,
    "deletable": true,
    "editable": true
   },
   "outputs": [
    {
     "data": {
      "text/plain": [
       "0.66730529744228373"
      ]
     },
     "execution_count": 74,
     "metadata": {},
     "output_type": "execute_result"
    }
   ],
   "source": [
    "loan_data[loan_data['FriendsInvolvedNum'] == 0]['LoanStatusNum'].mean()"
   ]
  },
  {
   "cell_type": "code",
   "execution_count": 75,
   "metadata": {
    "collapsed": false,
    "deletable": true,
    "editable": true
   },
   "outputs": [
    {
     "data": {
      "text/plain": [
       "11262"
      ]
     },
     "execution_count": 75,
     "metadata": {},
     "output_type": "execute_result"
    }
   ],
   "source": [
    "len(loan_data)"
   ]
  },
  {
   "cell_type": "code",
   "execution_count": null,
   "metadata": {
    "collapsed": false,
    "deletable": true,
    "editable": true
   },
   "outputs": [],
   "source": [
    "stats.chisquare(loan_data['LoanStatus'], loan_data['FriendsInvolved'])"
   ]
  },
  {
   "cell_type": "code",
   "execution_count": 79,
   "metadata": {
    "collapsed": false,
    "deletable": true,
    "editable": true,
    "scrolled": true
   },
   "outputs": [
    {
     "data": {
      "text/html": [
       "<div>\n",
       "<table border=\"1\" class=\"dataframe\">\n",
       "  <thead>\n",
       "    <tr style=\"text-align: right;\">\n",
       "      <th></th>\n",
       "      <th></th>\n",
       "      <th>LoanOriginalAmount</th>\n",
       "      <th>ListingCreationDate</th>\n",
       "      <th>FriendsInvolvedNum</th>\n",
       "      <th>LoanStatusNum</th>\n",
       "    </tr>\n",
       "    <tr>\n",
       "      <th>LoanStatus</th>\n",
       "      <th>FriendsInvolved</th>\n",
       "      <th></th>\n",
       "      <th></th>\n",
       "      <th></th>\n",
       "      <th></th>\n",
       "    </tr>\n",
       "  </thead>\n",
       "  <tbody>\n",
       "    <tr>\n",
       "      <th rowspan=\"2\" valign=\"top\">Defaulted</th>\n",
       "      <th>False</th>\n",
       "      <td>6225.485171</td>\n",
       "      <td>2008.0</td>\n",
       "      <td>0.0</td>\n",
       "      <td>0.0</td>\n",
       "    </tr>\n",
       "    <tr>\n",
       "      <th>True</th>\n",
       "      <td>7100.123288</td>\n",
       "      <td>2008.0</td>\n",
       "      <td>1.0</td>\n",
       "      <td>0.0</td>\n",
       "    </tr>\n",
       "    <tr>\n",
       "      <th rowspan=\"2\" valign=\"top\">Paid</th>\n",
       "      <th>False</th>\n",
       "      <td>5765.116566</td>\n",
       "      <td>2008.0</td>\n",
       "      <td>0.0</td>\n",
       "      <td>1.0</td>\n",
       "    </tr>\n",
       "    <tr>\n",
       "      <th>True</th>\n",
       "      <td>6363.508278</td>\n",
       "      <td>2008.0</td>\n",
       "      <td>1.0</td>\n",
       "      <td>1.0</td>\n",
       "    </tr>\n",
       "  </tbody>\n",
       "</table>\n",
       "</div>"
      ],
      "text/plain": [
       "                            LoanOriginalAmount  ListingCreationDate  \\\n",
       "LoanStatus FriendsInvolved                                            \n",
       "Defaulted  False                   6225.485171               2008.0   \n",
       "           True                    7100.123288               2008.0   \n",
       "Paid       False                   5765.116566               2008.0   \n",
       "           True                    6363.508278               2008.0   \n",
       "\n",
       "                            FriendsInvolvedNum  LoanStatusNum  \n",
       "LoanStatus FriendsInvolved                                     \n",
       "Defaulted  False                           0.0            0.0  \n",
       "           True                            1.0            0.0  \n",
       "Paid       False                           0.0            1.0  \n",
       "           True                            1.0            1.0  "
      ]
     },
     "execution_count": 79,
     "metadata": {},
     "output_type": "execute_result"
    }
   ],
   "source": [
    "loan_data.groupby(['LoanStatus', 'FriendsInvolved']).mean()"
   ]
  },
  {
   "cell_type": "code",
   "execution_count": 102,
   "metadata": {
    "collapsed": false,
    "deletable": true,
    "editable": true
   },
   "outputs": [
    {
     "data": {
      "text/html": [
       "<div>\n",
       "<table border=\"1\" class=\"dataframe\">\n",
       "  <thead>\n",
       "    <tr style=\"text-align: right;\">\n",
       "      <th></th>\n",
       "      <th></th>\n",
       "      <th>ListingKey</th>\n",
       "    </tr>\n",
       "    <tr>\n",
       "      <th>FriendsInvolved</th>\n",
       "      <th>LoanStatus</th>\n",
       "      <th></th>\n",
       "    </tr>\n",
       "  </thead>\n",
       "  <tbody>\n",
       "    <tr>\n",
       "      <th rowspan=\"2\" valign=\"top\">False</th>\n",
       "      <th>Defaulted</th>\n",
       "      <td>3473</td>\n",
       "    </tr>\n",
       "    <tr>\n",
       "      <th>Paid</th>\n",
       "      <td>6966</td>\n",
       "    </tr>\n",
       "    <tr>\n",
       "      <th rowspan=\"2\" valign=\"top\">True</th>\n",
       "      <th>Defaulted</th>\n",
       "      <td>219</td>\n",
       "    </tr>\n",
       "    <tr>\n",
       "      <th>Paid</th>\n",
       "      <td>604</td>\n",
       "    </tr>\n",
       "  </tbody>\n",
       "</table>\n",
       "</div>"
      ],
      "text/plain": [
       "                            ListingKey\n",
       "FriendsInvolved LoanStatus            \n",
       "False           Defaulted         3473\n",
       "                Paid              6966\n",
       "True            Defaulted          219\n",
       "                Paid               604"
      ]
     },
     "execution_count": 102,
     "metadata": {},
     "output_type": "execute_result"
    }
   ],
   "source": [
    "ld_group_counts = loan_data.groupby(['FriendsInvolved', 'LoanStatus']).agg({'ListingKey': 'count'})\n",
    "ld_group_counts"
   ]
  },
  {
   "cell_type": "code",
   "execution_count": 106,
   "metadata": {
    "collapsed": false,
    "deletable": true,
    "editable": true
   },
   "outputs": [
    {
     "data": {
      "text/html": [
       "<div>\n",
       "<table border=\"1\" class=\"dataframe\">\n",
       "  <thead>\n",
       "    <tr style=\"text-align: right;\">\n",
       "      <th></th>\n",
       "      <th>FriendsInvolved</th>\n",
       "      <th>LoanStatus</th>\n",
       "      <th>ListingKey</th>\n",
       "      <th>Proportion</th>\n",
       "    </tr>\n",
       "  </thead>\n",
       "  <tbody>\n",
       "    <tr>\n",
       "      <th>0</th>\n",
       "      <td>False</td>\n",
       "      <td>Defaulted</td>\n",
       "      <td>33.269470</td>\n",
       "      <td>33.269470</td>\n",
       "    </tr>\n",
       "    <tr>\n",
       "      <th>1</th>\n",
       "      <td>False</td>\n",
       "      <td>Paid</td>\n",
       "      <td>66.730530</td>\n",
       "      <td>66.730530</td>\n",
       "    </tr>\n",
       "    <tr>\n",
       "      <th>2</th>\n",
       "      <td>True</td>\n",
       "      <td>Defaulted</td>\n",
       "      <td>26.609964</td>\n",
       "      <td>26.609964</td>\n",
       "    </tr>\n",
       "    <tr>\n",
       "      <th>3</th>\n",
       "      <td>True</td>\n",
       "      <td>Paid</td>\n",
       "      <td>73.390036</td>\n",
       "      <td>73.390036</td>\n",
       "    </tr>\n",
       "  </tbody>\n",
       "</table>\n",
       "</div>"
      ],
      "text/plain": [
       "  FriendsInvolved LoanStatus  ListingKey  Proportion\n",
       "0           False  Defaulted   33.269470   33.269470\n",
       "1           False       Paid   66.730530   66.730530\n",
       "2            True  Defaulted   26.609964   26.609964\n",
       "3            True       Paid   73.390036   73.390036"
      ]
     },
     "execution_count": 106,
     "metadata": {},
     "output_type": "execute_result"
    }
   ],
   "source": [
    "group_pcts = ld_group_counts.groupby(level=0).apply(lambda x: 100 * x / float(x.sum()))\n",
    "group_pcts = group_pcts.reset_index()\n",
    "group_pcts['Proportion'] = group_pcts['ListingKey']\n",
    "group_pcts"
   ]
  },
  {
   "cell_type": "code",
   "execution_count": 101,
   "metadata": {
    "collapsed": false,
    "deletable": true,
    "editable": true
   },
   "outputs": [
    {
     "data": {
      "text/plain": [
       "0.94068255687974"
      ]
     },
     "execution_count": 101,
     "metadata": {},
     "output_type": "execute_result"
    }
   ],
   "source": [
    "3473/(3473.+219)"
   ]
  },
  {
   "cell_type": "code",
   "execution_count": null,
   "metadata": {
    "collapsed": false,
    "deletable": true,
    "editable": true
   },
   "outputs": [],
   "source": [
    "loan_data.to_csv(\"project6data.csv\")"
   ]
  },
  {
   "cell_type": "code",
   "execution_count": 107,
   "metadata": {
    "collapsed": true,
    "deletable": true,
    "editable": true
   },
   "outputs": [],
   "source": [
    "group_pcts.to_csv(\"project6datapro.csv\")"
   ]
  },
  {
   "cell_type": "code",
   "execution_count": 16,
   "metadata": {
    "collapsed": false,
    "deletable": true,
    "editable": true
   },
   "outputs": [],
   "source": [
    "loan_data = pd.read_csv('project6data.csv')"
   ]
  },
  {
   "cell_type": "code",
   "execution_count": 17,
   "metadata": {
    "collapsed": false,
    "deletable": true,
    "editable": true
   },
   "outputs": [
    {
     "data": {
      "text/html": [
       "<div>\n",
       "<table border=\"1\" class=\"dataframe\">\n",
       "  <thead>\n",
       "    <tr style=\"text-align: right;\">\n",
       "      <th></th>\n",
       "      <th>Unnamed: 0</th>\n",
       "      <th>Unnamed: 0.1</th>\n",
       "      <th>ListingKey</th>\n",
       "      <th>LoanStatus</th>\n",
       "      <th>FriendsInvolved</th>\n",
       "      <th>LoanOriginalAmount</th>\n",
       "      <th>ListingCreationDate</th>\n",
       "      <th>FriendsInvolvedNum</th>\n",
       "      <th>LoanStatusNum</th>\n",
       "      <th>FriendsAndStatus</th>\n",
       "    </tr>\n",
       "  </thead>\n",
       "  <tbody>\n",
       "    <tr>\n",
       "      <th>0</th>\n",
       "      <td>0</td>\n",
       "      <td>46</td>\n",
       "      <td>0F8B34281015537050D4FEC</td>\n",
       "      <td>Paid</td>\n",
       "      <td>Yes</td>\n",
       "      <td>4000</td>\n",
       "      <td>2008</td>\n",
       "      <td>1</td>\n",
       "      <td>1</td>\n",
       "      <td>Paid/True</td>\n",
       "    </tr>\n",
       "    <tr>\n",
       "      <th>1</th>\n",
       "      <td>1</td>\n",
       "      <td>108</td>\n",
       "      <td>10C034203841683992703F1</td>\n",
       "      <td>Paid</td>\n",
       "      <td>No</td>\n",
       "      <td>14000</td>\n",
       "      <td>2008</td>\n",
       "      <td>0</td>\n",
       "      <td>1</td>\n",
       "      <td>Paid/False</td>\n",
       "    </tr>\n",
       "    <tr>\n",
       "      <th>2</th>\n",
       "      <td>2</td>\n",
       "      <td>117</td>\n",
       "      <td>0F4B341445393357179A9C5</td>\n",
       "      <td>Paid</td>\n",
       "      <td>No</td>\n",
       "      <td>2000</td>\n",
       "      <td>2008</td>\n",
       "      <td>0</td>\n",
       "      <td>1</td>\n",
       "      <td>Paid/False</td>\n",
       "    </tr>\n",
       "    <tr>\n",
       "      <th>3</th>\n",
       "      <td>3</td>\n",
       "      <td>121</td>\n",
       "      <td>119034109962969937581AB</td>\n",
       "      <td>Paid</td>\n",
       "      <td>No</td>\n",
       "      <td>4000</td>\n",
       "      <td>2008</td>\n",
       "      <td>0</td>\n",
       "      <td>1</td>\n",
       "      <td>Paid/False</td>\n",
       "    </tr>\n",
       "    <tr>\n",
       "      <th>4</th>\n",
       "      <td>4</td>\n",
       "      <td>123</td>\n",
       "      <td>10D6343087886921049544C</td>\n",
       "      <td>Paid</td>\n",
       "      <td>No</td>\n",
       "      <td>12000</td>\n",
       "      <td>2008</td>\n",
       "      <td>0</td>\n",
       "      <td>1</td>\n",
       "      <td>Paid/False</td>\n",
       "    </tr>\n",
       "  </tbody>\n",
       "</table>\n",
       "</div>"
      ],
      "text/plain": [
       "   Unnamed: 0  Unnamed: 0.1               ListingKey LoanStatus  \\\n",
       "0           0            46  0F8B34281015537050D4FEC       Paid   \n",
       "1           1           108  10C034203841683992703F1       Paid   \n",
       "2           2           117  0F4B341445393357179A9C5       Paid   \n",
       "3           3           121  119034109962969937581AB       Paid   \n",
       "4           4           123  10D6343087886921049544C       Paid   \n",
       "\n",
       "  FriendsInvolved  LoanOriginalAmount  ListingCreationDate  \\\n",
       "0             Yes                4000                 2008   \n",
       "1              No               14000                 2008   \n",
       "2              No                2000                 2008   \n",
       "3              No                4000                 2008   \n",
       "4              No               12000                 2008   \n",
       "\n",
       "   FriendsInvolvedNum  LoanStatusNum FriendsAndStatus  \n",
       "0                   1              1        Paid/True  \n",
       "1                   0              1       Paid/False  \n",
       "2                   0              1       Paid/False  \n",
       "3                   0              1       Paid/False  \n",
       "4                   0              1       Paid/False  "
      ]
     },
     "execution_count": 17,
     "metadata": {},
     "output_type": "execute_result"
    }
   ],
   "source": [
    "loan_data.head()"
   ]
  },
  {
   "cell_type": "code",
   "execution_count": 13,
   "metadata": {
    "collapsed": false,
    "deletable": true,
    "editable": true
   },
   "outputs": [],
   "source": [
    "loan_data['FriendsInvolved'] = loan_data['FriendsInvolved'].apply(lambda x: {False:'No', True:'Yes'}.get(x,x))"
   ]
  },
  {
   "cell_type": "code",
   "execution_count": 15,
   "metadata": {
    "collapsed": true,
    "deletable": true,
    "editable": true
   },
   "outputs": [],
   "source": [
    "loan_data.to_csv(\"project6data.csv\")"
   ]
  },
  {
   "cell_type": "code",
   "execution_count": 2,
   "metadata": {
    "collapsed": true,
    "deletable": true,
    "editable": true
   },
   "outputs": [],
   "source": [
    "loan_data = pd.read_csv('project6datapro.csv')"
   ]
  },
  {
   "cell_type": "code",
   "execution_count": 3,
   "metadata": {
    "collapsed": false
   },
   "outputs": [
    {
     "data": {
      "text/html": [
       "<div>\n",
       "<table border=\"1\" class=\"dataframe\">\n",
       "  <thead>\n",
       "    <tr style=\"text-align: right;\">\n",
       "      <th></th>\n",
       "      <th>Unnamed: 0</th>\n",
       "      <th>FriendsInvolved</th>\n",
       "      <th>LoanStatus</th>\n",
       "      <th>ListingKey</th>\n",
       "      <th>Proportion</th>\n",
       "    </tr>\n",
       "  </thead>\n",
       "  <tbody>\n",
       "    <tr>\n",
       "      <th>0</th>\n",
       "      <td>0</td>\n",
       "      <td>False</td>\n",
       "      <td>Defaulted</td>\n",
       "      <td>33.269470</td>\n",
       "      <td>33.269470</td>\n",
       "    </tr>\n",
       "    <tr>\n",
       "      <th>1</th>\n",
       "      <td>1</td>\n",
       "      <td>False</td>\n",
       "      <td>Paid</td>\n",
       "      <td>66.730530</td>\n",
       "      <td>66.730530</td>\n",
       "    </tr>\n",
       "    <tr>\n",
       "      <th>2</th>\n",
       "      <td>2</td>\n",
       "      <td>True</td>\n",
       "      <td>Defaulted</td>\n",
       "      <td>26.609964</td>\n",
       "      <td>26.609964</td>\n",
       "    </tr>\n",
       "    <tr>\n",
       "      <th>3</th>\n",
       "      <td>3</td>\n",
       "      <td>True</td>\n",
       "      <td>Paid</td>\n",
       "      <td>73.390036</td>\n",
       "      <td>73.390036</td>\n",
       "    </tr>\n",
       "  </tbody>\n",
       "</table>\n",
       "</div>"
      ],
      "text/plain": [
       "   Unnamed: 0 FriendsInvolved LoanStatus  ListingKey  Proportion\n",
       "0           0           False  Defaulted   33.269470   33.269470\n",
       "1           1           False       Paid   66.730530   66.730530\n",
       "2           2            True  Defaulted   26.609964   26.609964\n",
       "3           3            True       Paid   73.390036   73.390036"
      ]
     },
     "execution_count": 3,
     "metadata": {},
     "output_type": "execute_result"
    }
   ],
   "source": [
    "loan_data.head()"
   ]
  },
  {
   "cell_type": "code",
   "execution_count": 4,
   "metadata": {
    "collapsed": true
   },
   "outputs": [],
   "source": [
    "loan_data['FriendsInvolved'] = loan_data['FriendsInvolved'].apply(lambda x: {False:'No', True:'Yes'}.get(x,x))"
   ]
  },
  {
   "cell_type": "code",
   "execution_count": 5,
   "metadata": {
    "collapsed": false
   },
   "outputs": [
    {
     "data": {
      "text/html": [
       "<div>\n",
       "<table border=\"1\" class=\"dataframe\">\n",
       "  <thead>\n",
       "    <tr style=\"text-align: right;\">\n",
       "      <th></th>\n",
       "      <th>Unnamed: 0</th>\n",
       "      <th>FriendsInvolved</th>\n",
       "      <th>LoanStatus</th>\n",
       "      <th>ListingKey</th>\n",
       "      <th>Proportion</th>\n",
       "    </tr>\n",
       "  </thead>\n",
       "  <tbody>\n",
       "    <tr>\n",
       "      <th>0</th>\n",
       "      <td>0</td>\n",
       "      <td>No</td>\n",
       "      <td>Defaulted</td>\n",
       "      <td>33.269470</td>\n",
       "      <td>33.269470</td>\n",
       "    </tr>\n",
       "    <tr>\n",
       "      <th>1</th>\n",
       "      <td>1</td>\n",
       "      <td>No</td>\n",
       "      <td>Paid</td>\n",
       "      <td>66.730530</td>\n",
       "      <td>66.730530</td>\n",
       "    </tr>\n",
       "    <tr>\n",
       "      <th>2</th>\n",
       "      <td>2</td>\n",
       "      <td>Yes</td>\n",
       "      <td>Defaulted</td>\n",
       "      <td>26.609964</td>\n",
       "      <td>26.609964</td>\n",
       "    </tr>\n",
       "    <tr>\n",
       "      <th>3</th>\n",
       "      <td>3</td>\n",
       "      <td>Yes</td>\n",
       "      <td>Paid</td>\n",
       "      <td>73.390036</td>\n",
       "      <td>73.390036</td>\n",
       "    </tr>\n",
       "  </tbody>\n",
       "</table>\n",
       "</div>"
      ],
      "text/plain": [
       "   Unnamed: 0 FriendsInvolved LoanStatus  ListingKey  Proportion\n",
       "0           0              No  Defaulted   33.269470   33.269470\n",
       "1           1              No       Paid   66.730530   66.730530\n",
       "2           2             Yes  Defaulted   26.609964   26.609964\n",
       "3           3             Yes       Paid   73.390036   73.390036"
      ]
     },
     "execution_count": 5,
     "metadata": {},
     "output_type": "execute_result"
    }
   ],
   "source": [
    "loan_data"
   ]
  },
  {
   "cell_type": "code",
   "execution_count": 6,
   "metadata": {
    "collapsed": true
   },
   "outputs": [],
   "source": [
    "loan_data.to_csv(\"project6datapro.csv\")"
   ]
  },
  {
   "cell_type": "code",
   "execution_count": null,
   "metadata": {
    "collapsed": true
   },
   "outputs": [],
   "source": []
  }
 ],
 "metadata": {
  "kernelspec": {
   "display_name": "Python 2",
   "language": "python",
   "name": "python2"
  },
  "language_info": {
   "codemirror_mode": {
    "name": "ipython",
    "version": 2
   },
   "file_extension": ".py",
   "mimetype": "text/x-python",
   "name": "python",
   "nbconvert_exporter": "python",
   "pygments_lexer": "ipython2",
   "version": "2.7.11"
  }
 },
 "nbformat": 4,
 "nbformat_minor": 2
}

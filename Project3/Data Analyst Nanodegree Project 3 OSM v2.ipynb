{
 "cells": [
  {
   "cell_type": "markdown",
   "metadata": {},
   "source": [
    "# OpenStreetMap Sampe Project\n",
    "# Data Wrangling with MongoDB\n",
    "## Erik Istre\n",
    "\n",
    "Map Area: Denver, CO, United States\n",
    "\n",
    "https://mapzen.com/data/metro-extracts/metro/denver-boulder_colorado/"
   ]
  },
  {
   "cell_type": "code",
   "execution_count": 4,
   "metadata": {
    "collapsed": false
   },
   "outputs": [],
   "source": [
    "from pymongo import MongoClient\n",
    "import os\n",
    "client = MongoClient()\n",
    "db = client['osm']\n",
    "collection = db.denver\n",
    "\n",
    "def aggregate(pipeline):\n",
    "    return [doc for doc in collection.aggregate(pipeline)]"
   ]
  },
  {
   "cell_type": "markdown",
   "metadata": {},
   "source": [
    "## Problems Encountered in the Map\n",
    "\n",
    "I noticed a few problems in the data set.\n",
    "1. Inaccurate state values.\n",
    "2. Inconsistent recording of street names.\n",
    "  1. Inconsistent abbreviations.\n",
    "  2. Inconsistent capitalization.\n",
    "3. Problems with postal codes.\n",
    "  1. Inconsistent recording.\n",
    "  2. Inaccurate/Invalid postal codes.\n",
    "    \n",
    "### Incorrect State Values\n",
    "\n",
    "Some of the values listed for state for a node can't possibly be correct since the map region is contained in Colorado. Some were the result of putting a zip code for the state field, or the city name of \"Denver\". Sometimes the state was written as \"Colorado\" rather than \"CO\" which is preferred for the OSM data.\n",
    "\n",
    "I corrected this by recording the standard value of \"CO\" for each document that had a listing for state. It did not seem wise to populate every field with this value in case it isn't really always needed. Whether to do this or not would depend on the usage case.\n",
    "\n",
    "### Inconsistent Abbreviation of Street Types\n",
    "\n",
    "A portion of the street names are written with abbreviations for the street type. For example, \"Crown Crest Blvd., Suite 300\" uses the abbreviation \"Blvd.\" for \"Boulevard\" while another value uses \"Blvd\". Another example is using \"Ter\" or \"Terr\" for \"Terrace\". This can create problems when analyzing the data since we have to be concerned with multiple abbreviations standing in for the same value. \n",
    "\n",
    "I corrected this by applying a translation for common abbreviations of street types to the street name values. This applied if the abbreviation occurred space-separated anywhere in the string for the street name.\n",
    "\n",
    "### Inconsistent Capitalization\n",
    "\n",
    "Some of the street names were written with different capitalization. This reduces the human readability of the data. I changed each street name to use a camel case standard.\n",
    "\n",
    "### Inconsistent Recording of Postal Codes\n",
    "\n",
    "Some postal codes were written according to different conventions. For example there was the standard 5 digit coding as in '80234', but also the 9 digit as in '80214-1825'.\n",
    "\n",
    "I corrected this by standardizing to the 5 digit postal code format by removing the last 4 digits for those written in the 9 digit format.\n",
    "\n",
    "### Inaccurate/Invalid Postal Codes\n",
    "\n",
    "A few of the postal codes were inaccurate or invalid. For example, there was one that was 4 digits, which isn't possible. And there was another which was \"Golden, CO 80401\" which is more information than needed in the postal code, making it invalid.\n",
    "\n",
    "I corrected this by verifying that all recorded postal codes were valid for the state of Colorado (between 80001 and 81658. (Since the area I chose was larger than Denver, it's error-prone to restrict the range more than this.) Further, if a zip code contained any alphabetic characters, they were stripped and then the remaining digits were checked for accuracy by being in the proper range."
   ]
  },
  {
   "cell_type": "markdown",
   "metadata": {},
   "source": [
    "## Data Overview\n",
    "\n",
    "A quick look at some basic statistics on the data set and the MongoDB queries used to generate them."
   ]
  },
  {
   "cell_type": "code",
   "execution_count": 48,
   "metadata": {
    "collapsed": false
   },
   "outputs": [
    {
     "name": "stdout",
     "output_type": "stream",
     "text": [
      "Size of denver-boulder_colorado.osm... 771 MB\n",
      "Size of denver-boulder_colorado.osm.json... 854 MB\n"
     ]
    }
   ],
   "source": [
    "# File size of MongoDB\n",
    "print(\"Size of denver-boulder_colorado.osm...\", int(os.path.getsize('denver-boulder_colorado.osm') / (1024**2)), \"MB\")\n",
    "print(\"Size of denver-boulder_colorado.osm.json...\", int(os.path.getsize('denver-boulder_colorado.osm.json') / (1024**2)), \"MB\")"
   ]
  },
  {
   "cell_type": "code",
   "execution_count": 8,
   "metadata": {
    "collapsed": false
   },
   "outputs": [
    {
     "name": "stdout",
     "output_type": "stream",
     "text": [
      "3862148\n"
     ]
    }
   ],
   "source": [
    "# Number of documents\n",
    "total_docs = collection.find().count()\n",
    "print(total_docs)"
   ]
  },
  {
   "cell_type": "code",
   "execution_count": 5,
   "metadata": {
    "collapsed": false
   },
   "outputs": [
    {
     "data": {
      "text/plain": [
       "3471143"
      ]
     },
     "execution_count": 5,
     "metadata": {},
     "output_type": "execute_result"
    }
   ],
   "source": [
    "# Number of nodes\n",
    "collection.find({\"doc_type\":\"node\"}).count()"
   ]
  },
  {
   "cell_type": "code",
   "execution_count": 6,
   "metadata": {
    "collapsed": false
   },
   "outputs": [
    {
     "data": {
      "text/plain": [
       "389235"
      ]
     },
     "execution_count": 6,
     "metadata": {},
     "output_type": "execute_result"
    }
   ],
   "source": [
    "# Number of ways\n",
    "collection.find({\"doc_type\":\"way\"}).count()"
   ]
  },
  {
   "cell_type": "code",
   "execution_count": 7,
   "metadata": {
    "collapsed": false
   },
   "outputs": [
    {
     "data": {
      "text/plain": [
       "1770"
      ]
     },
     "execution_count": 7,
     "metadata": {},
     "output_type": "execute_result"
    }
   ],
   "source": [
    "# Number of relations\n",
    "collection.find({\"doc_type\":\"relation\"}).count()"
   ]
  },
  {
   "cell_type": "markdown",
   "metadata": {},
   "source": [
    "Some basic statistics about the users who contribute, and the frequency of their contribution."
   ]
  },
  {
   "cell_type": "code",
   "execution_count": 12,
   "metadata": {
    "collapsed": false
   },
   "outputs": [
    {
     "data": {
      "text/plain": [
       "1871"
      ]
     },
     "execution_count": 12,
     "metadata": {},
     "output_type": "execute_result"
    }
   ],
   "source": [
    "# Number of unique users\n",
    "len(collection.find().distinct('created.user'))"
   ]
  },
  {
   "cell_type": "code",
   "execution_count": 21,
   "metadata": {
    "collapsed": false
   },
   "outputs": [
    {
     "data": {
      "text/plain": [
       "[{'_id': 'Your Village Maps', 'count': 657896},\n",
       " {'_id': 'chachafish', 'count': 464768},\n",
       " {'_id': 'woodpeck_fixbot', 'count': 351383}]"
      ]
     },
     "execution_count": 21,
     "metadata": {},
     "output_type": "execute_result"
    }
   ],
   "source": [
    "# Users contributing the most documents\n",
    "aggregate([{\"$group\":{\"_id\":\"$created.user\", \"count\":{\"$sum\":1}}},\n",
    "            {\"$sort\":{\"count\":-1}},\n",
    "            {\"$limit\":3}])"
   ]
  },
  {
   "cell_type": "code",
   "execution_count": 19,
   "metadata": {
    "collapsed": false
   },
   "outputs": [
    {
     "data": {
      "text/plain": [
       "[{'_id': 1, 'num_users': 346}]"
      ]
     },
     "execution_count": 19,
     "metadata": {},
     "output_type": "execute_result"
    }
   ],
   "source": [
    "# Number of users contributing only one document\n",
    "aggregate([{\"$group\":{\"_id\":\"$created.user\", \"count\":{\"$sum\":1}}},\n",
    "           {\"$group\":{\"_id\":\"$count\", \"num_users\":{\"$sum\":1}}},\n",
    "           {\"$sort\":{\"_id\":1}}, \n",
    "           {\"$limit\":1}])"
   ]
  },
  {
   "cell_type": "code",
   "execution_count": 20,
   "metadata": {
    "collapsed": false
   },
   "outputs": [
    {
     "data": {
      "text/plain": [
       "[{'_id': None, 'avgContribution': 2064.215927311598}]"
      ]
     },
     "execution_count": 20,
     "metadata": {},
     "output_type": "execute_result"
    }
   ],
   "source": [
    "# Average user contribution\n",
    "# Median would be more appropriate but can't find in MongoDB\n",
    "aggregate([{\"$group\": {\"_id\":\"$created.user\", \"count\":{\"$sum\":1}}},\n",
    "           {\"$group\": {\"_id\":\"$created.user\", \"avgContribution\":{\"$avg\": \"$count\"}}}\n",
    "          ])"
   ]
  },
  {
   "cell_type": "markdown",
   "metadata": {},
   "source": [
    "## Additional Ideas"
   ]
  },
  {
   "cell_type": "markdown",
   "metadata": {},
   "source": [
    "### Improving Completeness\n",
    "\n",
    "The most difficult part of the OSM data would seem to be determining whether it was complete or not. One way to improve on this (and simultaneously improve accuracy) would be to make editing OSM more easily accessible wherever you are. The obvious way to do this would be an OSM mobile app. \n",
    "\n",
    "This app could be programmed to prompt the user specific questions about the location they were currently in. The user could quickly answer the question and put in more information if they so desired. It could also determine whether it knew anything at all about the location the user was at and then prompt the user to create an entry. This increased access and ease of use would result in many more contributions on a regular basis increasing the accuracy and completeness of the data.\n",
    "\n",
    "However, there is considerable difficulty in developing a reliable app in the first place. That would be a significant task which would require some time and effort."
   ]
  },
  {
   "cell_type": "markdown",
   "metadata": {},
   "source": [
    "### Additional Data Exploration"
   ]
  },
  {
   "cell_type": "markdown",
   "metadata": {},
   "source": [
    "There's a few documents with user names that contain \"bot\". Some people program OSM bots to help improve the information. How much of the information was most recently edited by a bot?"
   ]
  },
  {
   "cell_type": "code",
   "execution_count": 9,
   "metadata": {
    "collapsed": false
   },
   "outputs": [
    {
     "data": {
      "text/plain": [
       "0.09133751477157272"
      ]
     },
     "execution_count": 9,
     "metadata": {},
     "output_type": "execute_result"
    }
   ],
   "source": [
    "# Percent of documents from \"bots\"\n",
    "collection.find({\"created.user\" : {\"$regex\": \"bot\"}}).count() / total_docs"
   ]
  },
  {
   "cell_type": "markdown",
   "metadata": {},
   "source": [
    "What locations appear most often in the data? "
   ]
  },
  {
   "cell_type": "code",
   "execution_count": 15,
   "metadata": {
    "collapsed": false
   },
   "outputs": [
    {
     "data": {
      "text/plain": [
       "[{'_id': 'Lipan Street', 'count': 447},\n",
       " {'_id': 'West 32nd Avenue', 'count': 428},\n",
       " {'_id': 'South Parker Road', 'count': 376},\n",
       " {'_id': 'Emerson Street', 'count': 323},\n",
       " {'_id': 'West 35th Avenue', 'count': 320}]"
      ]
     },
     "execution_count": 15,
     "metadata": {},
     "output_type": "execute_result"
    }
   ],
   "source": [
    "# Top 5 streets \n",
    "aggregate([{\"$match\": {\"address.street\":{\"$exists\":1}}},\n",
    "           {\"$group\" : {\"_id\":\"$address.street\", \"count\":{\"$sum\":1}}},\n",
    "           {\"$sort\":{\"count\":-1}},\n",
    "           {\"$limit\":5}])"
   ]
  },
  {
   "cell_type": "code",
   "execution_count": 16,
   "metadata": {
    "collapsed": false
   },
   "outputs": [
    {
     "data": {
      "text/plain": [
       "[{'_id': 80211, 'count': 6725},\n",
       " {'_id': 80026, 'count': 3676},\n",
       " {'_id': 80205, 'count': 2592},\n",
       " {'_id': 80204, 'count': 2539},\n",
       " {'_id': 80212, 'count': 2056}]"
      ]
     },
     "execution_count": 16,
     "metadata": {},
     "output_type": "execute_result"
    }
   ],
   "source": [
    "# Top 5 postcodes\n",
    "aggregate([{\"$match\": {\"address.postcode\" : {\"$exists\": 1}}},\n",
    "           {\"$group\": {\"_id\":\"$address.postcode\", \"count\":{\"$sum\":1}}},\n",
    "           {\"$sort\": {\"count\":-1}},\n",
    "           {\"$limit\":5}])"
   ]
  },
  {
   "cell_type": "code",
   "execution_count": 17,
   "metadata": {
    "collapsed": false
   },
   "outputs": [
    {
     "data": {
      "text/plain": [
       "[{'_id': 'Denver', 'count': 19243},\n",
       " {'_id': 'Lafayette', 'count': 3555},\n",
       " {'_id': 'Boulder', 'count': 2889},\n",
       " {'_id': 'Broomfield', 'count': 987},\n",
       " {'_id': 'Aurora', 'count': 884}]"
      ]
     },
     "execution_count": 17,
     "metadata": {},
     "output_type": "execute_result"
    }
   ],
   "source": [
    "# Top 5 cities\n",
    "aggregate([{\"$match\": {\"address.city\": {\"$exists\": 1}}},\n",
    "           {\"$group\": {\"_id\":\"$address.city\", \"count\":{\"$sum\":1}}},\n",
    "           {\"$sort\": {\"count\": -1}},\n",
    "           {\"$limit\":5}])"
   ]
  },
  {
   "cell_type": "markdown",
   "metadata": {},
   "source": [
    "What kind of places do we find in this region?"
   ]
  },
  {
   "cell_type": "code",
   "execution_count": 22,
   "metadata": {
    "collapsed": false
   },
   "outputs": [
    {
     "data": {
      "text/plain": [
       "[{'_id': 'parking', 'count': 14618},\n",
       " {'_id': 'restaurant', 'count': 1926},\n",
       " {'_id': 'school', 'count': 1506},\n",
       " {'_id': 'fast_food', 'count': 938},\n",
       " {'_id': 'place_of_worship', 'count': 910},\n",
       " {'_id': 'bicycle_parking', 'count': 868},\n",
       " {'_id': 'bench', 'count': 670},\n",
       " {'_id': 'fuel', 'count': 667},\n",
       " {'_id': 'shelter', 'count': 505},\n",
       " {'_id': 'bank', 'count': 485}]"
      ]
     },
     "execution_count": 22,
     "metadata": {},
     "output_type": "execute_result"
    }
   ],
   "source": [
    "# Top 10 appearing amenities\n",
    "aggregate([{\"$match\":{\"amenity\":{\"$exists\":1}}}, \n",
    "           {\"$group\":{\"_id\":\"$amenity\", \"count\":{\"$sum\":1}}}, \n",
    "           {\"$sort\":{\"count\":-1}}, \n",
    "           {\"$limit\":10}])"
   ]
  },
  {
   "cell_type": "code",
   "execution_count": 37,
   "metadata": {
    "collapsed": false
   },
   "outputs": [
    {
     "data": {
      "text/plain": [
       "[{'_id': 'christian', 'count': 815},\n",
       " {'_id': None, 'count': 63},\n",
       " {'_id': 'jewish', 'count': 12}]"
      ]
     },
     "execution_count": 37,
     "metadata": {},
     "output_type": "execute_result"
    }
   ],
   "source": [
    "# Biggest religions\n",
    "aggregate([{\"$match\":{\"amenity\":{\"$exists\":1}, \"amenity\":\"place_of_worship\"}},\n",
    "           {\"$group\":{\"_id\":\"$religion\", \"count\":{\"$sum\":1}}},\n",
    "           {\"$sort\":{\"count\":-1}}, \n",
    "           {\"$limit\":3}])"
   ]
  },
  {
   "cell_type": "code",
   "execution_count": null,
   "metadata": {
    "collapsed": true
   },
   "outputs": [],
   "source": [
    "# Some of the religious places that don't identify a religion\n",
    "aggregate([{\"$match\":{\"amenity\":{\"$exists\":1}, \"amenity\":\"place_of_worship\", \"religion\":{\"$exists\":0}, \"name\":{\"$exists\":1}}},\n",
    "           {\"$project\":{\"_id\":0, \"amenity\":1, \"name\":1}},  \n",
    "           {\"$limit\":3}])"
   ]
  },
  {
   "cell_type": "code",
   "execution_count": 30,
   "metadata": {
    "collapsed": false
   },
   "outputs": [
    {
     "data": {
      "text/plain": [
       "[{'_id': 'american', 'count': 188},\n",
       " {'_id': 'mexican', 'count': 171},\n",
       " {'_id': 'pizza', 'count': 116},\n",
       " {'_id': 'italian', 'count': 61},\n",
       " {'_id': 'sandwich', 'count': 57}]"
      ]
     },
     "execution_count": 30,
     "metadata": {},
     "output_type": "execute_result"
    }
   ],
   "source": [
    "# Top 5 cuisines\n",
    "aggregate([{\"$match\":{\"amenity\":{\"$exists\":1}, \"amenity\":\"restaurant\", \"cuisine\":{\"$exists\":1}}}, \n",
    "           {\"$group\":{\"_id\":\"$cuisine\", \"count\":{\"$sum\":1}}},\n",
    "           {\"$sort\":{\"count\":-1}}, \n",
    "           {\"$limit\":5}])"
   ]
  },
  {
   "cell_type": "markdown",
   "metadata": {},
   "source": [
    "## Conclusion"
   ]
  },
  {
   "cell_type": "markdown",
   "metadata": {},
   "source": [
    "The OSM data set provides an interesting view of a place since it's put there by users. While the data isn't always perfectly clean, the data is provided by people familiar with the area and has is uploaded with extra care. The analysis above suggests that some of these errors in the data are easily fixed, and so having automated bots in place can really help to improve the data. This approach lets users focus on the aspects of their data entry that are more important to them."
   ]
  }
 ],
 "metadata": {
  "kernelspec": {
   "display_name": "Python 3",
   "language": "python",
   "name": "python3"
  },
  "language_info": {
   "codemirror_mode": {
    "name": "ipython",
    "version": 3
   },
   "file_extension": ".py",
   "mimetype": "text/x-python",
   "name": "python",
   "nbconvert_exporter": "python",
   "pygments_lexer": "ipython3",
   "version": "3.4.4"
  }
 },
 "nbformat": 4,
 "nbformat_minor": 0
}

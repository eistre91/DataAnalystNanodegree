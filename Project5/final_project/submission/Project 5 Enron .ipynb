{
 "cells": [
  {
   "cell_type": "markdown",
   "metadata": {},
   "source": [
    "# Project 5"
   ]
  },
  {
   "cell_type": "markdown",
   "metadata": {},
   "source": [
    "The Enron scandal of the early 2000's led to the eventual bankruptcy of a multi-billion dollar company. Enron misled shareholders and the public about their profitability and debt through a series of accounting tricks, deception, and outright fraud. The case was widely covered by news outlets, and also saw a lot of usually confidential documents make their way into the public domain: e-mails and financial data about employees. This provides a useful dataset for exploring machine learning techniques."
   ]
  },
  {
   "cell_type": "markdown",
   "metadata": {},
   "source": [
    "## Our Goal and Data Exploration"
   ]
  },
  {
   "cell_type": "code",
   "execution_count": 12,
   "metadata": {
    "collapsed": false
   },
   "outputs": [],
   "source": [
    "import pandas as pd\n",
    "import numpy as np\n",
    "import seaborn as sns\n",
    "%matplotlib inline\n",
    "\n",
    "import sys\n",
    "import pickle\n",
    "sys.path.append(\"../tools/\") \n",
    "\n",
    "from feature_format import featureFormat, targetFeatureSplit\n",
    "from tester import dump_classifier_and_data, test_classifier\n",
    "\n",
    "from sklearn.preprocessing import Imputer\n",
    "\n",
    "from sklearn.cross_validation import train_test_split\n",
    "from sklearn.feature_selection import SelectKBest\n",
    "from sklearn.cross_validation import StratifiedShuffleSplit\n",
    "\n",
    "from sklearn.naive_bayes import GaussianNB\n",
    "from sklearn.linear_model import LogisticRegressionCV\n",
    "from sklearn.pipeline import Pipeline\n",
    "\n",
    "from sklearn.metrics import accuracy_score\n",
    "from sklearn.metrics import precision_score\n",
    "from sklearn.metrics import recall_score"
   ]
  },
  {
   "cell_type": "code",
   "execution_count": 13,
   "metadata": {
    "collapsed": false
   },
   "outputs": [
    {
     "data": {
      "text/html": [
       "<div>\n",
       "<table border=\"1\" class=\"dataframe\">\n",
       "  <thead>\n",
       "    <tr style=\"text-align: right;\">\n",
       "      <th></th>\n",
       "      <th>salary</th>\n",
       "      <th>to_messages</th>\n",
       "      <th>deferral_payments</th>\n",
       "      <th>total_payments</th>\n",
       "      <th>exercised_stock_options</th>\n",
       "      <th>bonus</th>\n",
       "      <th>restricted_stock</th>\n",
       "      <th>shared_receipt_with_poi</th>\n",
       "      <th>restricted_stock_deferred</th>\n",
       "      <th>total_stock_value</th>\n",
       "      <th>...</th>\n",
       "      <th>loan_advances</th>\n",
       "      <th>from_messages</th>\n",
       "      <th>other</th>\n",
       "      <th>from_this_person_to_poi</th>\n",
       "      <th>poi</th>\n",
       "      <th>director_fees</th>\n",
       "      <th>deferred_income</th>\n",
       "      <th>long_term_incentive</th>\n",
       "      <th>from_poi_to_this_person</th>\n",
       "      <th>email_address</th>\n",
       "    </tr>\n",
       "  </thead>\n",
       "  <tbody>\n",
       "    <tr>\n",
       "      <th>ALLEN PHILLIP K</th>\n",
       "      <td>201955.0</td>\n",
       "      <td>2902.0</td>\n",
       "      <td>2869717.0</td>\n",
       "      <td>4484442.0</td>\n",
       "      <td>1729541.0</td>\n",
       "      <td>4175000.0</td>\n",
       "      <td>126027.0</td>\n",
       "      <td>1407.0</td>\n",
       "      <td>-126027.0</td>\n",
       "      <td>1729541.0</td>\n",
       "      <td>...</td>\n",
       "      <td>NaN</td>\n",
       "      <td>2195.0</td>\n",
       "      <td>152.0</td>\n",
       "      <td>65.0</td>\n",
       "      <td>False</td>\n",
       "      <td>NaN</td>\n",
       "      <td>-3081055.0</td>\n",
       "      <td>304805.0</td>\n",
       "      <td>47.0</td>\n",
       "      <td>phillip.allen@enron.com</td>\n",
       "    </tr>\n",
       "    <tr>\n",
       "      <th>BADUM JAMES P</th>\n",
       "      <td>NaN</td>\n",
       "      <td>NaN</td>\n",
       "      <td>178980.0</td>\n",
       "      <td>182466.0</td>\n",
       "      <td>257817.0</td>\n",
       "      <td>NaN</td>\n",
       "      <td>NaN</td>\n",
       "      <td>NaN</td>\n",
       "      <td>NaN</td>\n",
       "      <td>257817.0</td>\n",
       "      <td>...</td>\n",
       "      <td>NaN</td>\n",
       "      <td>NaN</td>\n",
       "      <td>NaN</td>\n",
       "      <td>NaN</td>\n",
       "      <td>False</td>\n",
       "      <td>NaN</td>\n",
       "      <td>NaN</td>\n",
       "      <td>NaN</td>\n",
       "      <td>NaN</td>\n",
       "      <td>NaN</td>\n",
       "    </tr>\n",
       "    <tr>\n",
       "      <th>BANNANTINE JAMES M</th>\n",
       "      <td>477.0</td>\n",
       "      <td>566.0</td>\n",
       "      <td>NaN</td>\n",
       "      <td>916197.0</td>\n",
       "      <td>4046157.0</td>\n",
       "      <td>NaN</td>\n",
       "      <td>1757552.0</td>\n",
       "      <td>465.0</td>\n",
       "      <td>-560222.0</td>\n",
       "      <td>5243487.0</td>\n",
       "      <td>...</td>\n",
       "      <td>NaN</td>\n",
       "      <td>29.0</td>\n",
       "      <td>864523.0</td>\n",
       "      <td>0.0</td>\n",
       "      <td>False</td>\n",
       "      <td>NaN</td>\n",
       "      <td>-5104.0</td>\n",
       "      <td>NaN</td>\n",
       "      <td>39.0</td>\n",
       "      <td>james.bannantine@enron.com</td>\n",
       "    </tr>\n",
       "    <tr>\n",
       "      <th>BAXTER JOHN C</th>\n",
       "      <td>267102.0</td>\n",
       "      <td>NaN</td>\n",
       "      <td>1295738.0</td>\n",
       "      <td>5634343.0</td>\n",
       "      <td>6680544.0</td>\n",
       "      <td>1200000.0</td>\n",
       "      <td>3942714.0</td>\n",
       "      <td>NaN</td>\n",
       "      <td>NaN</td>\n",
       "      <td>10623258.0</td>\n",
       "      <td>...</td>\n",
       "      <td>NaN</td>\n",
       "      <td>NaN</td>\n",
       "      <td>2660303.0</td>\n",
       "      <td>NaN</td>\n",
       "      <td>False</td>\n",
       "      <td>NaN</td>\n",
       "      <td>-1386055.0</td>\n",
       "      <td>1586055.0</td>\n",
       "      <td>NaN</td>\n",
       "      <td>NaN</td>\n",
       "    </tr>\n",
       "    <tr>\n",
       "      <th>BAY FRANKLIN R</th>\n",
       "      <td>239671.0</td>\n",
       "      <td>NaN</td>\n",
       "      <td>260455.0</td>\n",
       "      <td>827696.0</td>\n",
       "      <td>NaN</td>\n",
       "      <td>400000.0</td>\n",
       "      <td>145796.0</td>\n",
       "      <td>NaN</td>\n",
       "      <td>-82782.0</td>\n",
       "      <td>63014.0</td>\n",
       "      <td>...</td>\n",
       "      <td>NaN</td>\n",
       "      <td>NaN</td>\n",
       "      <td>69.0</td>\n",
       "      <td>NaN</td>\n",
       "      <td>False</td>\n",
       "      <td>NaN</td>\n",
       "      <td>-201641.0</td>\n",
       "      <td>NaN</td>\n",
       "      <td>NaN</td>\n",
       "      <td>frank.bay@enron.com</td>\n",
       "    </tr>\n",
       "  </tbody>\n",
       "</table>\n",
       "<p>5 rows × 21 columns</p>\n",
       "</div>"
      ],
      "text/plain": [
       "                      salary  to_messages  deferral_payments  total_payments  \\\n",
       "ALLEN PHILLIP K     201955.0       2902.0          2869717.0       4484442.0   \n",
       "BADUM JAMES P            NaN          NaN           178980.0        182466.0   \n",
       "BANNANTINE JAMES M     477.0        566.0                NaN        916197.0   \n",
       "BAXTER JOHN C       267102.0          NaN          1295738.0       5634343.0   \n",
       "BAY FRANKLIN R      239671.0          NaN           260455.0        827696.0   \n",
       "\n",
       "                    exercised_stock_options      bonus  restricted_stock  \\\n",
       "ALLEN PHILLIP K                   1729541.0  4175000.0          126027.0   \n",
       "BADUM JAMES P                      257817.0        NaN               NaN   \n",
       "BANNANTINE JAMES M                4046157.0        NaN         1757552.0   \n",
       "BAXTER JOHN C                     6680544.0  1200000.0         3942714.0   \n",
       "BAY FRANKLIN R                          NaN   400000.0          145796.0   \n",
       "\n",
       "                    shared_receipt_with_poi  restricted_stock_deferred  \\\n",
       "ALLEN PHILLIP K                      1407.0                  -126027.0   \n",
       "BADUM JAMES P                           NaN                        NaN   \n",
       "BANNANTINE JAMES M                    465.0                  -560222.0   \n",
       "BAXTER JOHN C                           NaN                        NaN   \n",
       "BAY FRANKLIN R                          NaN                   -82782.0   \n",
       "\n",
       "                    total_stock_value             ...              \\\n",
       "ALLEN PHILLIP K             1729541.0             ...               \n",
       "BADUM JAMES P                257817.0             ...               \n",
       "BANNANTINE JAMES M          5243487.0             ...               \n",
       "BAXTER JOHN C              10623258.0             ...               \n",
       "BAY FRANKLIN R                63014.0             ...               \n",
       "\n",
       "                    loan_advances  from_messages      other  \\\n",
       "ALLEN PHILLIP K               NaN         2195.0      152.0   \n",
       "BADUM JAMES P                 NaN            NaN        NaN   \n",
       "BANNANTINE JAMES M            NaN           29.0   864523.0   \n",
       "BAXTER JOHN C                 NaN            NaN  2660303.0   \n",
       "BAY FRANKLIN R                NaN            NaN       69.0   \n",
       "\n",
       "                    from_this_person_to_poi    poi director_fees  \\\n",
       "ALLEN PHILLIP K                        65.0  False           NaN   \n",
       "BADUM JAMES P                           NaN  False           NaN   \n",
       "BANNANTINE JAMES M                      0.0  False           NaN   \n",
       "BAXTER JOHN C                           NaN  False           NaN   \n",
       "BAY FRANKLIN R                          NaN  False           NaN   \n",
       "\n",
       "                    deferred_income  long_term_incentive  \\\n",
       "ALLEN PHILLIP K          -3081055.0             304805.0   \n",
       "BADUM JAMES P                   NaN                  NaN   \n",
       "BANNANTINE JAMES M          -5104.0                  NaN   \n",
       "BAXTER JOHN C            -1386055.0            1586055.0   \n",
       "BAY FRANKLIN R            -201641.0                  NaN   \n",
       "\n",
       "                    from_poi_to_this_person               email_address  \n",
       "ALLEN PHILLIP K                        47.0     phillip.allen@enron.com  \n",
       "BADUM JAMES P                           NaN                         NaN  \n",
       "BANNANTINE JAMES M                     39.0  james.bannantine@enron.com  \n",
       "BAXTER JOHN C                           NaN                         NaN  \n",
       "BAY FRANKLIN R                          NaN         frank.bay@enron.com  \n",
       "\n",
       "[5 rows x 21 columns]"
      ]
     },
     "execution_count": 13,
     "metadata": {},
     "output_type": "execute_result"
    }
   ],
   "source": [
    "with open(\"final_project_dataset.pkl\", \"r\") as data_file:\n",
    "    data_dict = pickle.load(data_file)\n",
    "\n",
    "df = pd.DataFrame.from_dict(data_dict, orient='index')\n",
    "df = pd.concat([df.drop('email_address', axis=1).apply(pd.to_numeric, errors='coerce'), \\\n",
    "                df['email_address']], axis=1) \n",
    "df.head()"
   ]
  },
  {
   "cell_type": "markdown",
   "metadata": {},
   "source": [
    "### Question 1\n",
    "Summarize for us the goal of this project and how machine learning is useful in trying to accomplish it. As part of your answer, give some background on the dataset and how it can be used to answer the project question. Were there any outliers in the data when you got it, and how did you handle those?  [relevant rubric items: “data exploration”, “outlier investigation”]"
   ]
  },
  {
   "cell_type": "markdown",
   "metadata": {},
   "source": [
    "The goal of this project is to develop a classifier which can help identify persons of interest in the Enron scandal. A person of interest is someone who was indicted, who settled without admitting guilt, or who testified in exchange for immunity. The dataset we have has information about the finances of employees, including things like salary, stock, and bonuses and about the e-mail practices of the employees, including things like how many time they sent messages to POIs. The dataset contains 146 rows, 18 of which are identified as POIs. There are 21 features in the dataset."
   ]
  },
  {
   "cell_type": "markdown",
   "metadata": {},
   "source": [
    "As for outliers, my main concern with the data was whether there were rows that would significantly skew classification. The salary information and e-mail information is presumably correct unless there was error in entering it; it is a fact of the features that there are significantly larger dollar values for some records, like Kenneth Lay's. This nature of the data could perhaps be mitigated with logarithmic scaling, but was not needed to achieve the model accuracy necessary. \n",
    "\n",
    "There were some rows that were odd and unhelpful for training or testing. Most obviously, the 'TOTAL' and 'THE TRAVEL AGENCY IN THE PARK' rows were unhelpful for finding POIs. However, some non-POIs in the dict were determined to also be non-helpful due to the large amount of null values they had in useful features. These included the rows for names 'LOCKHART EUGENE E', 'WODRASKA JOHN','SCRIMSHAW MATTHEW','WHALEY DAVID A','GRAMM WENDY L', and 'WROBEL BRUCE'."
   ]
  },
  {
   "cell_type": "code",
   "execution_count": 14,
   "metadata": {
    "collapsed": false
   },
   "outputs": [],
   "source": [
    "df = df.drop(['TOTAL','THE TRAVEL AGENCY IN THE PARK'])    \n",
    "df = df.drop(['LOCKHART EUGENE E','WODRASKA JOHN','SCRIMSHAW MATTHEW','WHALEY DAVID A','GRAMM WENDY L','WROBEL BRUCE'])"
   ]
  },
  {
   "cell_type": "code",
   "execution_count": 15,
   "metadata": {
    "collapsed": false
   },
   "outputs": [
    {
     "data": {
      "text/plain": [
       "<matplotlib.axes._subplots.AxesSubplot at 0xd09cef0>"
      ]
     },
     "execution_count": 15,
     "metadata": {},
     "output_type": "execute_result"
    },
    {
     "data": {
      "image/png": "[encoded data removed]",
      "text/plain": [
       "<matplotlib.figure.Figure at 0xb8a80f0>"
      ]
     },
     "metadata": {},
     "output_type": "display_data"
    }
   ],
   "source": [
    "sns.boxplot('poi', 'salary',\n",
    "           data=df[df['salary'] < df['salary'].quantile(.95)])"
   ]
  },
  {
   "cell_type": "code",
   "execution_count": 16,
   "metadata": {
    "collapsed": false
   },
   "outputs": [
    {
     "data": {
      "text/plain": [
       "<matplotlib.axes._subplots.AxesSubplot at 0xb8a8400>"
      ]
     },
     "execution_count": 16,
     "metadata": {},
     "output_type": "execute_result"
    },
    {
     "data": {
      "image/png": "[encoded data removed]",
      "text/plain": [
       "<matplotlib.figure.Figure at 0xce794a8>"
      ]
     },
     "metadata": {},
     "output_type": "display_data"
    }
   ],
   "source": [
    "sns.boxplot('poi', 'total_stock_value',\n",
    "           data=df[df['total_stock_value'] < df['total_stock_value'].quantile(.95)])"
   ]
  },
  {
   "cell_type": "markdown",
   "metadata": {},
   "source": [
    "### Question 2\n",
    "What features did you end up using in your POI identifier, and what selection process did you use to pick them? Did you have to do any scaling? Why or why not? As part of the assignment, you should attempt to engineer your own feature that does not come ready-made in the dataset -- explain what feature you tried to make, and the rationale behind it. (You do not necessarily have to use it in the final analysis, only engineer and test it.) In your feature selection step, if you used an algorithm like a decision tree, please also give the feature importances of the features that you use, and if you used an automated feature selection function like SelectKBest, please report the feature scores and reasons for your choice of parameter values.  [relevant rubric items: “create new features”, “properly scale features”, “intelligently select feature”]"
   ]
  },
  {
   "cell_type": "markdown",
   "metadata": {
    "collapsed": true
   },
   "source": [
    "The features that ended up in my model were 'exercised_stock_options', 'total_stock_value', 'bonus'. These were ultimately chosen by a loop which averaged the results of SelectKBest over many folds of StratifiedShuffleSplit after paring down the feature list according to whether there was enough useful data; those columns that had a lot of missing values were eliminated. An extreme case was 'loan_advances' which had data for only 3 people but 'director_fees', 'restricted_stock_deferred', 'deferral_payments', and 'deferred_income' were dropped for the same reason. Additionally, 'other' and 'email_address' were dropped, the former for being too non-descriptive and the latter because it wouldn't work with my choice in classifiers. "
   ]
  },
  {
   "cell_type": "code",
   "execution_count": 17,
   "metadata": {
    "collapsed": false
   },
   "outputs": [],
   "source": [
    "drop_columns = ['other', 'email_address', 'director_fees', 'loan_advances', \n",
    "                'restricted_stock_deferred', 'deferral_payments', 'deferred_income']\n",
    "df = df.drop(drop_columns, axis=1)"
   ]
  },
  {
   "cell_type": "code",
   "execution_count": 18,
   "metadata": {
    "collapsed": false
   },
   "outputs": [
    {
     "data": {
      "text/plain": [
       "exercised_stock_options    23.406684\n",
       "total_stock_value          20.073231\n",
       "bonus                      13.673070\n",
       "salary                      9.442976\n",
       "long_term_incentive         7.519849\n",
       "restricted_stock            7.302580\n",
       "total_payments              6.996585\n",
       "shared_receipt_with_poi     6.286249\n",
       "from_poi_to_this_person     3.678794\n",
       "from_this_person_to_poi     2.025036\n",
       "expenses                    0.929172\n",
       "to_messages                 0.791943\n",
       "from_messages               0.227710\n",
       "dtype: float64"
      ]
     },
     "execution_count": 18,
     "metadata": {},
     "output_type": "execute_result"
    }
   ],
   "source": [
    "my_dataset = df.to_dict(orient='index')\n",
    "features_list = [u'poi', u'salary', u'to_messages', u'total_payments',\n",
    "       u'exercised_stock_options', u'bonus', u'restricted_stock',\n",
    "       u'shared_receipt_with_poi', u'total_stock_value', u'expenses',\n",
    "       u'from_messages', u'from_this_person_to_poi',\n",
    "       u'long_term_incentive', u'from_poi_to_this_person']\n",
    "scores_dict = dict.fromkeys(features_list[1:], np.array([]))       \n",
    "def mean_selector_score(dataset, feature_list, folds = 1000):\n",
    "    data = featureFormat(dataset, feature_list, sort_keys = True)\n",
    "    labels, features = targetFeatureSplit(data)\n",
    "    imp = Imputer(strategy='median')\n",
    "    features = imp.fit_transform(features)\n",
    "    cv = StratifiedShuffleSplit(labels, folds, random_state = 42)\n",
    "    selector = SelectKBest(k='all')\n",
    "    for train_idx, test_idx in cv: \n",
    "        features_train = []\n",
    "        features_test  = []\n",
    "        labels_train   = []\n",
    "        labels_test    = []\n",
    "        for ii in train_idx:\n",
    "            features_train.append( features[ii] )\n",
    "            labels_train.append( labels[ii] )\n",
    "        for jj in test_idx:\n",
    "            features_test.append( features[jj] )\n",
    "            labels_test.append( labels[jj] )\n",
    "        \n",
    "        selector.fit(features_train, labels_train)\n",
    "        for score, feature in zip(selector.scores_, features_list[1:]):\n",
    "            scores_dict[feature] = np.append(scores_dict[feature], score)\n",
    "mean_selector_score(my_dataset, features_list)\n",
    "scores_df = pd.DataFrame.from_dict(scores_dict)\n",
    "scores_df.mean().sort_values(ascending=False)"
   ]
  },
  {
   "cell_type": "code",
   "execution_count": 19,
   "metadata": {
    "collapsed": true
   },
   "outputs": [],
   "source": [
    "features_list = [u'poi', u'exercised_stock_options', u'total_stock_value', u'bonus']"
   ]
  },
  {
   "cell_type": "markdown",
   "metadata": {},
   "source": [
    "No scaling was necessary since both attempted classifiers would not be affected by this. \n",
    "\n",
    "A feature that was engineered was the percentage of messages sent to POIs and received from POIs. The thought was maybe the overall percentage would be more predictive than a raw number since some people naturally send more e-mails than others, but if someone had larger percentages of correspondence of POIs, that might be worth looking at. The new feature 'sent_to_poi_pct' did end up being picked by SelectKBest, but resulted in almost exactly the same values in my evaluation metrics with SelectKBest(k=6). These were not included in the final classifier since I could get the same accuracy with fewer features."
   ]
  },
  {
   "cell_type": "code",
   "execution_count": 20,
   "metadata": {
    "collapsed": true
   },
   "outputs": [],
   "source": [
    "df['sent_to_poi_pct'] = df['from_this_person_to_poi'] / df['from_messages']\n",
    "df['received_from_poi_pct'] = df['from_poi_to_this_person'] / df['to_messages']"
   ]
  },
  {
   "cell_type": "markdown",
   "metadata": {},
   "source": [
    "A problem for classifying was the amount of null values, so an imputer was used in the final pipeline to fill NAs with the median of the column. Median was chosen as its a better fit for the wild variance seen in some of the financial data. "
   ]
  },
  {
   "cell_type": "markdown",
   "metadata": {},
   "source": [
    "### Question 3\n",
    "What algorithm did you end up using? What other one(s) did you try? How did model performance differ between algorithms?  [relevant rubric item: “pick an algorithm”]"
   ]
  },
  {
   "cell_type": "markdown",
   "metadata": {},
   "source": [
    "The final algorithm settled on was Gaussian Naive Bayes, GaussianNB(), in a pipeline with an Imputer filling null values with medians for that column. \n",
    "\n",
    "Note about Imputer as part of pipeline: Optimally the dataset would have medians for the entire dataset and not only the current training set. To refactor my_dataset to the proper dictionary form with median values proved very difficult. However, it was easy to alter test_classifier to fill median values before the StratifiedShuffleSplit and this achieved comparable (actually better) accuracy overall. \n",
    "\n",
    "I also tried scikit's logistic regression with built in cross validation, LogisticRegressionCV(). Both classifier algorithms performed better in precision than in recall. However, the LogisticRegressionCV algorithm resulted in significantly longer training and testing time, probably due to the cross validation it performed. "
   ]
  },
  {
   "cell_type": "markdown",
   "metadata": {},
   "source": [
    "### Question 4\n",
    "What does it mean to tune the parameters of an algorithm, and what can happen if you don’t do this well?  How did you tune the parameters of your particular algorithm? (Some algorithms do not have parameters that you need to tune -- if this is the case for the one you picked, identify and briefly explain how you would have done it for the model that was not your final choice or a different model that does utilize parameter tuning, e.g. a decision tree classifier).  [relevant rubric item: “tune the algorithm”]"
   ]
  },
  {
   "cell_type": "markdown",
   "metadata": {},
   "source": [
    "Tuning the parameters of the algorithm is to set the particular values in the initialization of the algorithm to values which optimize it for the problem at hand. This is a tricky process, and if performed incorrectly it can lead to problems like overfitting on the training set, or the exact opposite and do poorly on the training set. Since I was using GaussianNB, the only parameter on my classifier that I had to tune was the priors. I also experimented with the number of features included, adding new ones to test in order of highest score to lowest. I wrote a loop to test the accuracy of the classifier given a variety of values for priors and then looked through a resulting dataframe to figure out the best prior as well as the best set of features. I settled on priors of [.15, .85] and the aforementioned features."
   ]
  },
  {
   "cell_type": "code",
   "execution_count": 21,
   "metadata": {
    "collapsed": false,
    "scrolled": true
   },
   "outputs": [],
   "source": [
    "%%capture\n",
    "features_list_score_order = [u'exercised_stock_options', u'total_stock_value', u'bonus', u'salary',\n",
    "       u'long_term_incentive', u'restricted_stock', u'total_payments',\n",
    "       u'shared_receipt_with_poi', u'from_poi_to_this_person',\n",
    "       u'from_this_person_to_poi', u'expenses', u'to_messages',\n",
    "       u'from_messages']\n",
    "testing_features_list = [u'poi']\n",
    "acc = []\n",
    "prec = []\n",
    "reca = []\n",
    "acc_all = []\n",
    "prec_all = []\n",
    "reca_all = []\n",
    "results_dict = {}\n",
    "def tuneNB():\n",
    "    for i in range(1, 20):\n",
    "        acc = []\n",
    "        prec = []\n",
    "        reca = []\n",
    "        testing_features_list = [u'poi']\n",
    "        for feature in features_list_score_order:\n",
    "            testing_features_list.append(feature)\n",
    "            pipe = Pipeline([('impute', Imputer(strategy='median')), \n",
    "                    ('classify', GaussianNB(priors=[(i/2.)*.1, (1 - (i/2.)*.1)]))])\n",
    "            total_predictions, accuracy, precision, recall, f1, f2 = \\\n",
    "                test_classifier(pipe, my_dataset, testing_features_list, folds=100)\n",
    "            acc.append(accuracy)\n",
    "            prec.append(precision)\n",
    "            reca.append(recall)\n",
    "        acc_all.append(acc)\n",
    "        prec_all.append(prec)\n",
    "        reca_all.append(reca)\n",
    "        results_dict['prec' + str(i)] = prec\n",
    "        results_dict['reca' + str(i)] = reca\n",
    "        results_dict['acc' + str(i)] = acc\n",
    "tuneNB()"
   ]
  },
  {
   "cell_type": "code",
   "execution_count": 22,
   "metadata": {
    "collapsed": false
   },
   "outputs": [
    {
     "data": {
      "text/html": [
       "<div>\n",
       "<table border=\"1\" class=\"dataframe\">\n",
       "  <thead>\n",
       "    <tr style=\"text-align: right;\">\n",
       "      <th></th>\n",
       "      <th>acc10</th>\n",
       "      <th>acc11</th>\n",
       "      <th>acc12</th>\n",
       "      <th>acc13</th>\n",
       "      <th>acc14</th>\n",
       "      <th>acc15</th>\n",
       "      <th>acc16</th>\n",
       "      <th>acc17</th>\n",
       "      <th>acc18</th>\n",
       "      <th>acc19</th>\n",
       "      <th>...</th>\n",
       "      <th>reca12</th>\n",
       "      <th>reca13</th>\n",
       "      <th>reca14</th>\n",
       "      <th>reca15</th>\n",
       "      <th>reca16</th>\n",
       "      <th>reca17</th>\n",
       "      <th>reca18</th>\n",
       "      <th>reca19</th>\n",
       "      <th>reca2</th>\n",
       "      <th>reca3</th>\n",
       "    </tr>\n",
       "  </thead>\n",
       "  <tbody>\n",
       "    <tr>\n",
       "      <th>0</th>\n",
       "      <td>0.855714</td>\n",
       "      <td>0.856429</td>\n",
       "      <td>0.857857</td>\n",
       "      <td>0.857143</td>\n",
       "      <td>0.858571</td>\n",
       "      <td>0.859286</td>\n",
       "      <td>0.862143</td>\n",
       "      <td>0.862857</td>\n",
       "      <td>0.865714</td>\n",
       "      <td>0.866429</td>\n",
       "      <td>...</td>\n",
       "      <td>0.265</td>\n",
       "      <td>0.260</td>\n",
       "      <td>0.255</td>\n",
       "      <td>0.255</td>\n",
       "      <td>0.255</td>\n",
       "      <td>0.255</td>\n",
       "      <td>0.255</td>\n",
       "      <td>0.230</td>\n",
       "      <td>1.000</td>\n",
       "      <td>0.615</td>\n",
       "    </tr>\n",
       "    <tr>\n",
       "      <th>1</th>\n",
       "      <td>0.848571</td>\n",
       "      <td>0.847857</td>\n",
       "      <td>0.847143</td>\n",
       "      <td>0.847857</td>\n",
       "      <td>0.848571</td>\n",
       "      <td>0.848571</td>\n",
       "      <td>0.848571</td>\n",
       "      <td>0.849286</td>\n",
       "      <td>0.852143</td>\n",
       "      <td>0.857857</td>\n",
       "      <td>...</td>\n",
       "      <td>0.255</td>\n",
       "      <td>0.255</td>\n",
       "      <td>0.255</td>\n",
       "      <td>0.255</td>\n",
       "      <td>0.255</td>\n",
       "      <td>0.255</td>\n",
       "      <td>0.255</td>\n",
       "      <td>0.255</td>\n",
       "      <td>0.320</td>\n",
       "      <td>0.320</td>\n",
       "    </tr>\n",
       "    <tr>\n",
       "      <th>2</th>\n",
       "      <td>0.843571</td>\n",
       "      <td>0.843571</td>\n",
       "      <td>0.845000</td>\n",
       "      <td>0.846429</td>\n",
       "      <td>0.846429</td>\n",
       "      <td>0.848571</td>\n",
       "      <td>0.849286</td>\n",
       "      <td>0.851429</td>\n",
       "      <td>0.856429</td>\n",
       "      <td>0.865714</td>\n",
       "      <td>...</td>\n",
       "      <td>0.325</td>\n",
       "      <td>0.325</td>\n",
       "      <td>0.325</td>\n",
       "      <td>0.325</td>\n",
       "      <td>0.325</td>\n",
       "      <td>0.325</td>\n",
       "      <td>0.325</td>\n",
       "      <td>0.325</td>\n",
       "      <td>0.430</td>\n",
       "      <td>0.425</td>\n",
       "    </tr>\n",
       "    <tr>\n",
       "      <th>3</th>\n",
       "      <td>0.832143</td>\n",
       "      <td>0.832143</td>\n",
       "      <td>0.832857</td>\n",
       "      <td>0.833571</td>\n",
       "      <td>0.837857</td>\n",
       "      <td>0.840714</td>\n",
       "      <td>0.849286</td>\n",
       "      <td>0.857857</td>\n",
       "      <td>0.865000</td>\n",
       "      <td>0.870000</td>\n",
       "      <td>...</td>\n",
       "      <td>0.325</td>\n",
       "      <td>0.325</td>\n",
       "      <td>0.325</td>\n",
       "      <td>0.325</td>\n",
       "      <td>0.325</td>\n",
       "      <td>0.325</td>\n",
       "      <td>0.325</td>\n",
       "      <td>0.320</td>\n",
       "      <td>0.385</td>\n",
       "      <td>0.355</td>\n",
       "    </tr>\n",
       "    <tr>\n",
       "      <th>4</th>\n",
       "      <td>0.830000</td>\n",
       "      <td>0.832143</td>\n",
       "      <td>0.833571</td>\n",
       "      <td>0.836429</td>\n",
       "      <td>0.838571</td>\n",
       "      <td>0.845000</td>\n",
       "      <td>0.848571</td>\n",
       "      <td>0.852143</td>\n",
       "      <td>0.857143</td>\n",
       "      <td>0.863571</td>\n",
       "      <td>...</td>\n",
       "      <td>0.350</td>\n",
       "      <td>0.350</td>\n",
       "      <td>0.350</td>\n",
       "      <td>0.345</td>\n",
       "      <td>0.330</td>\n",
       "      <td>0.330</td>\n",
       "      <td>0.320</td>\n",
       "      <td>0.310</td>\n",
       "      <td>0.475</td>\n",
       "      <td>0.455</td>\n",
       "    </tr>\n",
       "    <tr>\n",
       "      <th>5</th>\n",
       "      <td>0.839286</td>\n",
       "      <td>0.841429</td>\n",
       "      <td>0.843571</td>\n",
       "      <td>0.845000</td>\n",
       "      <td>0.847857</td>\n",
       "      <td>0.850714</td>\n",
       "      <td>0.850714</td>\n",
       "      <td>0.851429</td>\n",
       "      <td>0.853571</td>\n",
       "      <td>0.854286</td>\n",
       "      <td>...</td>\n",
       "      <td>0.345</td>\n",
       "      <td>0.335</td>\n",
       "      <td>0.330</td>\n",
       "      <td>0.330</td>\n",
       "      <td>0.325</td>\n",
       "      <td>0.325</td>\n",
       "      <td>0.325</td>\n",
       "      <td>0.300</td>\n",
       "      <td>0.420</td>\n",
       "      <td>0.380</td>\n",
       "    </tr>\n",
       "    <tr>\n",
       "      <th>6</th>\n",
       "      <td>0.838571</td>\n",
       "      <td>0.838571</td>\n",
       "      <td>0.840000</td>\n",
       "      <td>0.840000</td>\n",
       "      <td>0.839286</td>\n",
       "      <td>0.838571</td>\n",
       "      <td>0.837857</td>\n",
       "      <td>0.837857</td>\n",
       "      <td>0.840000</td>\n",
       "      <td>0.840000</td>\n",
       "      <td>...</td>\n",
       "      <td>0.275</td>\n",
       "      <td>0.270</td>\n",
       "      <td>0.265</td>\n",
       "      <td>0.260</td>\n",
       "      <td>0.255</td>\n",
       "      <td>0.240</td>\n",
       "      <td>0.225</td>\n",
       "      <td>0.205</td>\n",
       "      <td>0.310</td>\n",
       "      <td>0.295</td>\n",
       "    </tr>\n",
       "    <tr>\n",
       "      <th>7</th>\n",
       "      <td>0.822143</td>\n",
       "      <td>0.822143</td>\n",
       "      <td>0.822857</td>\n",
       "      <td>0.822143</td>\n",
       "      <td>0.822143</td>\n",
       "      <td>0.822857</td>\n",
       "      <td>0.823571</td>\n",
       "      <td>0.828571</td>\n",
       "      <td>0.832143</td>\n",
       "      <td>0.834286</td>\n",
       "      <td>...</td>\n",
       "      <td>0.205</td>\n",
       "      <td>0.200</td>\n",
       "      <td>0.200</td>\n",
       "      <td>0.190</td>\n",
       "      <td>0.190</td>\n",
       "      <td>0.190</td>\n",
       "      <td>0.190</td>\n",
       "      <td>0.185</td>\n",
       "      <td>0.255</td>\n",
       "      <td>0.240</td>\n",
       "    </tr>\n",
       "    <tr>\n",
       "      <th>8</th>\n",
       "      <td>0.822143</td>\n",
       "      <td>0.822143</td>\n",
       "      <td>0.822857</td>\n",
       "      <td>0.822143</td>\n",
       "      <td>0.822143</td>\n",
       "      <td>0.823571</td>\n",
       "      <td>0.823571</td>\n",
       "      <td>0.828571</td>\n",
       "      <td>0.832143</td>\n",
       "      <td>0.833571</td>\n",
       "      <td>...</td>\n",
       "      <td>0.205</td>\n",
       "      <td>0.200</td>\n",
       "      <td>0.200</td>\n",
       "      <td>0.195</td>\n",
       "      <td>0.190</td>\n",
       "      <td>0.190</td>\n",
       "      <td>0.190</td>\n",
       "      <td>0.185</td>\n",
       "      <td>0.260</td>\n",
       "      <td>0.240</td>\n",
       "    </tr>\n",
       "    <tr>\n",
       "      <th>9</th>\n",
       "      <td>0.822143</td>\n",
       "      <td>0.822857</td>\n",
       "      <td>0.822143</td>\n",
       "      <td>0.822143</td>\n",
       "      <td>0.822143</td>\n",
       "      <td>0.821429</td>\n",
       "      <td>0.823571</td>\n",
       "      <td>0.825714</td>\n",
       "      <td>0.831429</td>\n",
       "      <td>0.835000</td>\n",
       "      <td>...</td>\n",
       "      <td>0.200</td>\n",
       "      <td>0.200</td>\n",
       "      <td>0.200</td>\n",
       "      <td>0.190</td>\n",
       "      <td>0.190</td>\n",
       "      <td>0.190</td>\n",
       "      <td>0.190</td>\n",
       "      <td>0.190</td>\n",
       "      <td>0.250</td>\n",
       "      <td>0.230</td>\n",
       "    </tr>\n",
       "    <tr>\n",
       "      <th>10</th>\n",
       "      <td>0.822143</td>\n",
       "      <td>0.822857</td>\n",
       "      <td>0.822143</td>\n",
       "      <td>0.822857</td>\n",
       "      <td>0.822143</td>\n",
       "      <td>0.822143</td>\n",
       "      <td>0.824286</td>\n",
       "      <td>0.829286</td>\n",
       "      <td>0.830714</td>\n",
       "      <td>0.833571</td>\n",
       "      <td>...</td>\n",
       "      <td>0.200</td>\n",
       "      <td>0.200</td>\n",
       "      <td>0.195</td>\n",
       "      <td>0.190</td>\n",
       "      <td>0.190</td>\n",
       "      <td>0.190</td>\n",
       "      <td>0.190</td>\n",
       "      <td>0.185</td>\n",
       "      <td>0.245</td>\n",
       "      <td>0.225</td>\n",
       "    </tr>\n",
       "    <tr>\n",
       "      <th>11</th>\n",
       "      <td>0.817143</td>\n",
       "      <td>0.817857</td>\n",
       "      <td>0.820000</td>\n",
       "      <td>0.821429</td>\n",
       "      <td>0.821429</td>\n",
       "      <td>0.821429</td>\n",
       "      <td>0.823571</td>\n",
       "      <td>0.827143</td>\n",
       "      <td>0.828571</td>\n",
       "      <td>0.831429</td>\n",
       "      <td>...</td>\n",
       "      <td>0.205</td>\n",
       "      <td>0.195</td>\n",
       "      <td>0.195</td>\n",
       "      <td>0.190</td>\n",
       "      <td>0.190</td>\n",
       "      <td>0.190</td>\n",
       "      <td>0.190</td>\n",
       "      <td>0.190</td>\n",
       "      <td>0.225</td>\n",
       "      <td>0.210</td>\n",
       "    </tr>\n",
       "    <tr>\n",
       "      <th>12</th>\n",
       "      <td>0.816429</td>\n",
       "      <td>0.817857</td>\n",
       "      <td>0.819286</td>\n",
       "      <td>0.820000</td>\n",
       "      <td>0.822143</td>\n",
       "      <td>0.822857</td>\n",
       "      <td>0.822143</td>\n",
       "      <td>0.822143</td>\n",
       "      <td>0.825000</td>\n",
       "      <td>0.826429</td>\n",
       "      <td>...</td>\n",
       "      <td>0.205</td>\n",
       "      <td>0.205</td>\n",
       "      <td>0.205</td>\n",
       "      <td>0.205</td>\n",
       "      <td>0.195</td>\n",
       "      <td>0.190</td>\n",
       "      <td>0.190</td>\n",
       "      <td>0.190</td>\n",
       "      <td>0.240</td>\n",
       "      <td>0.235</td>\n",
       "    </tr>\n",
       "  </tbody>\n",
       "</table>\n",
       "<p>13 rows × 36 columns</p>\n",
       "</div>"
      ],
      "text/plain": [
       "       acc10     acc11     acc12     acc13     acc14     acc15     acc16  \\\n",
       "0   0.855714  0.856429  0.857857  0.857143  0.858571  0.859286  0.862143   \n",
       "1   0.848571  0.847857  0.847143  0.847857  0.848571  0.848571  0.848571   \n",
       "2   0.843571  0.843571  0.845000  0.846429  0.846429  0.848571  0.849286   \n",
       "3   0.832143  0.832143  0.832857  0.833571  0.837857  0.840714  0.849286   \n",
       "4   0.830000  0.832143  0.833571  0.836429  0.838571  0.845000  0.848571   \n",
       "5   0.839286  0.841429  0.843571  0.845000  0.847857  0.850714  0.850714   \n",
       "6   0.838571  0.838571  0.840000  0.840000  0.839286  0.838571  0.837857   \n",
       "7   0.822143  0.822143  0.822857  0.822143  0.822143  0.822857  0.823571   \n",
       "8   0.822143  0.822143  0.822857  0.822143  0.822143  0.823571  0.823571   \n",
       "9   0.822143  0.822857  0.822143  0.822143  0.822143  0.821429  0.823571   \n",
       "10  0.822143  0.822857  0.822143  0.822857  0.822143  0.822143  0.824286   \n",
       "11  0.817143  0.817857  0.820000  0.821429  0.821429  0.821429  0.823571   \n",
       "12  0.816429  0.817857  0.819286  0.820000  0.822143  0.822857  0.822143   \n",
       "\n",
       "       acc17     acc18     acc19  ...    reca12  reca13  reca14  reca15  \\\n",
       "0   0.862857  0.865714  0.866429  ...     0.265   0.260   0.255   0.255   \n",
       "1   0.849286  0.852143  0.857857  ...     0.255   0.255   0.255   0.255   \n",
       "2   0.851429  0.856429  0.865714  ...     0.325   0.325   0.325   0.325   \n",
       "3   0.857857  0.865000  0.870000  ...     0.325   0.325   0.325   0.325   \n",
       "4   0.852143  0.857143  0.863571  ...     0.350   0.350   0.350   0.345   \n",
       "5   0.851429  0.853571  0.854286  ...     0.345   0.335   0.330   0.330   \n",
       "6   0.837857  0.840000  0.840000  ...     0.275   0.270   0.265   0.260   \n",
       "7   0.828571  0.832143  0.834286  ...     0.205   0.200   0.200   0.190   \n",
       "8   0.828571  0.832143  0.833571  ...     0.205   0.200   0.200   0.195   \n",
       "9   0.825714  0.831429  0.835000  ...     0.200   0.200   0.200   0.190   \n",
       "10  0.829286  0.830714  0.833571  ...     0.200   0.200   0.195   0.190   \n",
       "11  0.827143  0.828571  0.831429  ...     0.205   0.195   0.195   0.190   \n",
       "12  0.822143  0.825000  0.826429  ...     0.205   0.205   0.205   0.205   \n",
       "\n",
       "    reca16  reca17  reca18  reca19  reca2  reca3  \n",
       "0    0.255   0.255   0.255   0.230  1.000  0.615  \n",
       "1    0.255   0.255   0.255   0.255  0.320  0.320  \n",
       "2    0.325   0.325   0.325   0.325  0.430  0.425  \n",
       "3    0.325   0.325   0.325   0.320  0.385  0.355  \n",
       "4    0.330   0.330   0.320   0.310  0.475  0.455  \n",
       "5    0.325   0.325   0.325   0.300  0.420  0.380  \n",
       "6    0.255   0.240   0.225   0.205  0.310  0.295  \n",
       "7    0.190   0.190   0.190   0.185  0.255  0.240  \n",
       "8    0.190   0.190   0.190   0.185  0.260  0.240  \n",
       "9    0.190   0.190   0.190   0.190  0.250  0.230  \n",
       "10   0.190   0.190   0.190   0.185  0.245  0.225  \n",
       "11   0.190   0.190   0.190   0.190  0.225  0.210  \n",
       "12   0.195   0.190   0.190   0.190  0.240  0.235  \n",
       "\n",
       "[13 rows x 36 columns]"
      ]
     },
     "execution_count": 22,
     "metadata": {},
     "output_type": "execute_result"
    }
   ],
   "source": [
    "test_df = pd.DataFrame(results_dict)\n",
    "\n",
    "drop_me = []\n",
    "for i in range(1,10):\n",
    "    if (pd.concat([(test_df['prec' + str(i)] > .38),\n",
    "       (test_df['reca' + str(i)] > .42),\n",
    "       (test_df['acc' + str(i)] > .82)], axis=1).sum(axis=1) == 3).sum() == 0:\n",
    "        drop_me.extend(['prec' + str(i), 'reca' + str(i), 'acc' + str(i)])\n",
    "test_df = test_df.drop(drop_me, axis=1)\n",
    "test_df"
   ]
  },
  {
   "cell_type": "code",
   "execution_count": 23,
   "metadata": {
    "collapsed": false
   },
   "outputs": [],
   "source": [
    "pipe = Pipeline([('impute', Imputer(strategy='median')),\n",
    "        ('classify', GaussianNB(priors=[.15, .85]))])"
   ]
  },
  {
   "cell_type": "markdown",
   "metadata": {},
   "source": [
    "### Question 5\n",
    "What is validation, and what’s a classic mistake you can make if you do it wrong? How did you validate your analysis?  [relevant rubric item: “validation strategy”]"
   ]
  },
  {
   "cell_type": "markdown",
   "metadata": {},
   "source": [
    "Validation is the process by which data is set aside or used so as to make sure a model performs well on data it hasn't seen yet. If this isn't handled well, we can end up overfitting the training data. This would leave us with a model that didn't generalize well or handle cases it had not yet seen. A mistake that can be made is letting too much knowledge of your test set leak into parameters used for the training set. In this case, we end up overfitting to the test set, even though it's not even part of our training data. \n",
    "\n",
    "My final method for validating my analysis was by using the provided test_classifier function, which uses Stratified Shuffle Split with a large number of folds. Some preliminary testing was also performed by a simple train/test set split."
   ]
  },
  {
   "cell_type": "markdown",
   "metadata": {},
   "source": [
    "### Question 6\n",
    "Give at least 2 evaluation metrics and your average performance for each of them.  Explain an interpretation of your metrics that says something human-understandable about your algorithm’s performance. [relevant rubric item: “usage of evaluation metrics”]"
   ]
  },
  {
   "cell_type": "code",
   "execution_count": 24,
   "metadata": {
    "collapsed": false
   },
   "outputs": [
    {
     "name": "stdout",
     "output_type": "stream",
     "text": [
      "Pipeline(steps=[('impute', Imputer(axis=0, copy=True, missing_values='NaN', strategy='median', verbose=0)), ('classify', GaussianNB(priors=[0.15, 0.85]))])\n",
      "\tAccuracy: 0.82393\tPrecision: 0.39503\tRecall: 0.43750\tF1: 0.41518\tF2: 0.42829\n",
      "\tTotal predictions: 14000\tTrue positives:  875\tFalse positives: 1340\tFalse negatives: 1125\tTrue negatives: 10660\n",
      "\n"
     ]
    }
   ],
   "source": [
    "total_predictions, accuracy, precision, recall, f1, f2 = \\\n",
    "    test_classifier(pipe, my_dataset, features_list, folds=1000)"
   ]
  },
  {
   "cell_type": "markdown",
   "metadata": {},
   "source": [
    "The algorithm's overall accuracy is 82.39%. This sounds respectable, but it does score lower than the accuracy of a naive algorithm which only assigned False to every row's POI. This would end up with an accuracy of about 88% in the current dataset. However, this would also end up with a 0 in two other measures that our used algorithms scores much better in: precision and recall.\n",
    "\n",
    "Precision is the number of correctly identified POIs divided by the sum of correct POIs and falsely identified POIs. This is a measure of how often the algorithm \"got it right\" when it thought someone was a POI. So about 39.5% of the time that the algorithm thinks a person is a POI, it's actually right that they are. A respectable performance given the few features needed to get there, but it's certainly not good enough to determine whether someone should be charged with a crime or not.\n",
    "\n",
    "On the other hand, recall is the number of correctly identified POIs divided by the sum of correct POIs and POIs that were missed. This is a measure of how often the algorithm missed identifying a POI it was looking at. At about 43.75% of the time when given a POI, the algorithm realized it was in fact a POI. Again, a respectable performance, but not one good enough to automatically assume someone is innocent if the algorithm said they were."
   ]
  }
 ],
 "metadata": {
  "kernelspec": {
   "display_name": "Python 2",
   "language": "python",
   "name": "python2"
  },
  "language_info": {
   "codemirror_mode": {
    "name": "ipython",
    "version": 2
   },
   "file_extension": ".py",
   "mimetype": "text/x-python",
   "name": "python",
   "nbconvert_exporter": "python",
   "pygments_lexer": "ipython2",
   "version": "2.7.11"
  }
 },
 "nbformat": 4,
 "nbformat_minor": 2
}

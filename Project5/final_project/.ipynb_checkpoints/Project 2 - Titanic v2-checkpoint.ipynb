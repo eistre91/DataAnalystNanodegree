{
 "cells": [
  {
   "cell_type": "markdown",
   "metadata": {
    "collapsed": true
   },
   "source": [
    "## Introduction\n",
    "\n",
    "The Titanic is now infamous as a shipwreck at the beginning of the 20th century. Many passengers lost their lives when the ship went down, cementing this as a tragic piece of history. We can attempt to understand what it was like in those final moments from the stories of those who survived, our exploration of the wreckage, and through our use of the records available to us. \n",
    "\n",
    "In this report, we will be focusing on an analysis of the passenger manifest to get a picture of who survived the wreck. The guiding question is \"Who had a better chance of surviving the wreck?\"\n",
    "\n",
    "While our focus will be on the numbers, we should be aware that what we're building is a big picture understanding of what happened. We'll be accessing a story of tragedy through modern data-driven means. "
   ]
  },
  {
   "cell_type": "markdown",
   "metadata": {},
   "source": [
    "### Tools\n",
    "\n",
    "Our tools will be the language Python and it's data analysis libraries. We'll make use of pandas, numpy, scipy and matplotlib (with seaborn)."
   ]
  },
  {
   "cell_type": "code",
   "execution_count": 1,
   "metadata": {
    "collapsed": false
   },
   "outputs": [
    {
     "name": "stdout",
     "output_type": "stream",
     "text": [
      "Populating the interactive namespace from numpy and matplotlib\n"
     ]
    }
   ],
   "source": [
    "import pandas as pd\n",
    "import numpy as np\n",
    "import matplotlib.pyplot as plt\n",
    "import seaborn as sns\n",
    "import scipy.stats as stats\n",
    "from itertools import combinations\n",
    "\n",
    "%pylab inline\n",
    "pylab.rcParams['figure.figsize'] = (8.0, 7.0)\n",
    "\n",
    "titanic = pd.read_csv('titanic_data.csv')\n",
    "\n",
    "alpha = 0.05"
   ]
  },
  {
   "cell_type": "markdown",
   "metadata": {},
   "source": [
    "Our alpha level for statistical tests will be set at 0.05 ."
   ]
  },
  {
   "cell_type": "markdown",
   "metadata": {},
   "source": [
    "### The Dataset\n",
    "\n",
    "The dataset originates from a learning competition on Kaggle, [*Titanic: Machine Learning from Disaster*](https://www.kaggle.com/c/titanic). Since this analysis is mainly exploratory, our focus is on the provided train.csv file and doesn't include test.csv. This dataset is already well-organized and formatted, and doesn't require much cleaning. "
   ]
  },
  {
   "cell_type": "markdown",
   "metadata": {},
   "source": [
    "Here's what the dataset looks like."
   ]
  },
  {
   "cell_type": "code",
   "execution_count": 2,
   "metadata": {
    "collapsed": false
   },
   "outputs": [
    {
     "data": {
      "text/html": [
       "<div>\n",
       "<table border=\"1\" class=\"dataframe\">\n",
       "  <thead>\n",
       "    <tr style=\"text-align: right;\">\n",
       "      <th></th>\n",
       "      <th>PassengerId</th>\n",
       "      <th>Survived</th>\n",
       "      <th>Pclass</th>\n",
       "      <th>Name</th>\n",
       "      <th>Sex</th>\n",
       "      <th>Age</th>\n",
       "      <th>SibSp</th>\n",
       "      <th>Parch</th>\n",
       "      <th>Ticket</th>\n",
       "      <th>Fare</th>\n",
       "      <th>Cabin</th>\n",
       "      <th>Embarked</th>\n",
       "    </tr>\n",
       "  </thead>\n",
       "  <tbody>\n",
       "    <tr>\n",
       "      <th>0</th>\n",
       "      <td>1</td>\n",
       "      <td>0</td>\n",
       "      <td>3</td>\n",
       "      <td>Braund, Mr. Owen Harris</td>\n",
       "      <td>male</td>\n",
       "      <td>22.0</td>\n",
       "      <td>1</td>\n",
       "      <td>0</td>\n",
       "      <td>A/5 21171</td>\n",
       "      <td>7.2500</td>\n",
       "      <td>NaN</td>\n",
       "      <td>S</td>\n",
       "    </tr>\n",
       "    <tr>\n",
       "      <th>1</th>\n",
       "      <td>2</td>\n",
       "      <td>1</td>\n",
       "      <td>1</td>\n",
       "      <td>Cumings, Mrs. John Bradley (Florence Briggs Th...</td>\n",
       "      <td>female</td>\n",
       "      <td>38.0</td>\n",
       "      <td>1</td>\n",
       "      <td>0</td>\n",
       "      <td>PC 17599</td>\n",
       "      <td>71.2833</td>\n",
       "      <td>C85</td>\n",
       "      <td>C</td>\n",
       "    </tr>\n",
       "    <tr>\n",
       "      <th>2</th>\n",
       "      <td>3</td>\n",
       "      <td>1</td>\n",
       "      <td>3</td>\n",
       "      <td>Heikkinen, Miss. Laina</td>\n",
       "      <td>female</td>\n",
       "      <td>26.0</td>\n",
       "      <td>0</td>\n",
       "      <td>0</td>\n",
       "      <td>STON/O2. 3101282</td>\n",
       "      <td>7.9250</td>\n",
       "      <td>NaN</td>\n",
       "      <td>S</td>\n",
       "    </tr>\n",
       "    <tr>\n",
       "      <th>3</th>\n",
       "      <td>4</td>\n",
       "      <td>1</td>\n",
       "      <td>1</td>\n",
       "      <td>Futrelle, Mrs. Jacques Heath (Lily May Peel)</td>\n",
       "      <td>female</td>\n",
       "      <td>35.0</td>\n",
       "      <td>1</td>\n",
       "      <td>0</td>\n",
       "      <td>113803</td>\n",
       "      <td>53.1000</td>\n",
       "      <td>C123</td>\n",
       "      <td>S</td>\n",
       "    </tr>\n",
       "    <tr>\n",
       "      <th>4</th>\n",
       "      <td>5</td>\n",
       "      <td>0</td>\n",
       "      <td>3</td>\n",
       "      <td>Allen, Mr. William Henry</td>\n",
       "      <td>male</td>\n",
       "      <td>35.0</td>\n",
       "      <td>0</td>\n",
       "      <td>0</td>\n",
       "      <td>373450</td>\n",
       "      <td>8.0500</td>\n",
       "      <td>NaN</td>\n",
       "      <td>S</td>\n",
       "    </tr>\n",
       "  </tbody>\n",
       "</table>\n",
       "</div>"
      ],
      "text/plain": [
       "   PassengerId  Survived  Pclass  \\\n",
       "0            1         0       3   \n",
       "1            2         1       1   \n",
       "2            3         1       3   \n",
       "3            4         1       1   \n",
       "4            5         0       3   \n",
       "\n",
       "                                                Name     Sex   Age  SibSp  \\\n",
       "0                            Braund, Mr. Owen Harris    male  22.0      1   \n",
       "1  Cumings, Mrs. John Bradley (Florence Briggs Th...  female  38.0      1   \n",
       "2                             Heikkinen, Miss. Laina  female  26.0      0   \n",
       "3       Futrelle, Mrs. Jacques Heath (Lily May Peel)  female  35.0      1   \n",
       "4                           Allen, Mr. William Henry    male  35.0      0   \n",
       "\n",
       "   Parch            Ticket     Fare Cabin Embarked  \n",
       "0      0         A/5 21171   7.2500   NaN        S  \n",
       "1      0          PC 17599  71.2833   C85        C  \n",
       "2      0  STON/O2. 3101282   7.9250   NaN        S  \n",
       "3      0            113803  53.1000  C123        S  \n",
       "4      0            373450   8.0500   NaN        S  "
      ]
     },
     "execution_count": 2,
     "metadata": {},
     "output_type": "execute_result"
    }
   ],
   "source": [
    "titanic.head()"
   ]
  },
  {
   "cell_type": "code",
   "execution_count": 3,
   "metadata": {
    "collapsed": false
   },
   "outputs": [
    {
     "name": "stdout",
     "output_type": "stream",
     "text": [
      "The number of rows in the dataset: 891 .\n"
     ]
    }
   ],
   "source": [
    "print(\"The number of rows in the dataset:\",len(titanic),\".\")"
   ]
  },
  {
   "cell_type": "markdown",
   "metadata": {},
   "source": [
    "The variables of interest will be Survived, Pclass, Sex, Age, Parch, Fare. The values of some of these variables aren't entirely obvious. Survived is a binary entry denoting whether the passenger survived the ship wreck with 1 denoting survival. Pclass is the passenger class with 1st as the highest and 3rd as the lowest. Fare and Pclass can be used as a proxy for the wealth of the passenger. Parch is the number of parents/children aboard. Of the variables of interest for analysis, only Age has missing values. "
   ]
  },
  {
   "cell_type": "code",
   "execution_count": 4,
   "metadata": {
    "collapsed": false,
    "scrolled": true
   },
   "outputs": [
    {
     "data": {
      "text/plain": [
       "Age         177\n",
       "Cabin       687\n",
       "Embarked      2\n",
       "dtype: int64"
      ]
     },
     "execution_count": 4,
     "metadata": {},
     "output_type": "execute_result"
    }
   ],
   "source": [
    "titanic.isnull().sum()[titanic.isnull().sum() > 0]"
   ]
  },
  {
   "cell_type": "markdown",
   "metadata": {},
   "source": [
    "Age is missing 177 values, which is a significant proportion of the 891 rows in the dataset. Given the other variables in the dataset, there doesn't seem to be any reliable way to estimate the age for passengers where it is missing. Thus we'll take the approach of omitting rows that contain a missing value for Age. This will either be handled explicitly prior to calculations by using the following filtered version of the dataframe, or implicitly in function calls which can be set to omit missing values (like in Pandas mean function). "
   ]
  },
  {
   "cell_type": "code",
   "execution_count": 5,
   "metadata": {
    "collapsed": false
   },
   "outputs": [],
   "source": [
    "# The safe version of the dataframe to use when calculating with Age\n",
    "titanic_safe = titanic[titanic['Age'].notnull()].copy()"
   ]
  },
  {
   "cell_type": "markdown",
   "metadata": {},
   "source": [
    "### Predefined Functions"
   ]
  },
  {
   "cell_type": "markdown",
   "metadata": {},
   "source": [
    "We'll be printing survival rates as proportions. To be able to properly put these in context, we'll also provide total counts along side those proportions. The following function cuts down on repetitious code."
   ]
  },
  {
   "cell_type": "code",
   "execution_count": 6,
   "metadata": {
    "collapsed": true
   },
   "outputs": [],
   "source": [
    "# Takes in the dataframe grouped by some variables, returns the survival proporition alongside total counts.\n",
    "def survival_rate_and_total(grouped_dataframe):\n",
    "    return pd.concat([grouped_dataframe.mean(), grouped_dataframe.count()], axis=1, keys=['% Survived of Total', 'Total'])"
   ]
  },
  {
   "cell_type": "markdown",
   "metadata": {},
   "source": [
    "We'll be using chi-squared tests to determine statistical significance. Also as post-hoc analysis, we'll make use of pairwise chi-squared tests for groups if the initial test determines significance. These pairwise tests' significance levels will use the Bonferroni correction, i.e. we'll divide our alpha of 0.05 by the number of pairwise comparisons. The following functions streamlines the chi-squared tests, pairwise comparisons and printing of the results."
   ]
  },
  {
   "cell_type": "code",
   "execution_count": 7,
   "metadata": {
    "collapsed": false
   },
   "outputs": [],
   "source": [
    "# Takes the name of the column and values of the column to perform the test on\n",
    "# Returns the result of scipy.stats.chisquare \n",
    "def chisquared(column, values, df = titanic):\n",
    "    observed_survival = []\n",
    "    expected_survival = []\n",
    "    for value in values:\n",
    "        observed_survival.append(df[df[column] == value]['Survived'].sum())\n",
    "        expected_survival.append(df[df[column] == value]['Survived'].count() * baseline_survival)\n",
    "    result = stats.chisquare(f_obs=observed_survival, f_exp=expected_survival)\n",
    "    return result\n",
    "\n",
    "# Takes the name of the column and the result of chisquared and prints the results\n",
    "def print_chisquared(column, result):\n",
    "    print(\"The P value for the chi-squared test comparing survival rates for\",column,\"is\",result.pvalue,\".\")\n",
    "    \n",
    "def calculate_and_print_chisquared(column, values, df = titanic):\n",
    "    result = chisquared(column, values,df=df)\n",
    "    print_chisquared(column, result)\n",
    "\n",
    "# Takes in list of values for the column of interest\n",
    "# Returns the results of pairwise chi-squared tests\n",
    "def pairwise_chisquared(column, values, df = titanic):\n",
    "    comparisons = []\n",
    "    for pair in combinations(values,2):\n",
    "        observed_survival = [df[df[column] == pair[0]]['Survived'].sum(), \\\n",
    "                             df[df[column] == pair[1]]['Survived'].sum()]\n",
    "        expected_survival = [df[df[column] == pair[0]]['Survived'].count() * baseline_survival, \\\n",
    "                             df[df[column] == pair[1]]['Survived'].count() * baseline_survival]\n",
    "        chisquare_result = stats.chisquare(f_obs=observed_survival, f_exp=expected_survival)\n",
    "        comparisons.append((pair, chisquare_result))\n",
    "    return comparisons\n",
    "\n",
    "# Takes in the column name and the result of pairwise_chisquared and prints the results\n",
    "def print_pairwise_chisquared(column, comparisons):\n",
    "    for comparison in comparisons:\n",
    "        print(\"The P value for the chi-squared test comparing survival rates for values\",comparison[0][0],\"and\",comparison[0][1],\"for\",column,\"is\",comparison[1].pvalue,\".\")\n",
    "    print(\"The alpha level for these tests is\",alpha/len(comparisons),\".\")\n",
    "    \n",
    "def calculate_and_print_pairwise_chisquared(column, values, df = titanic):\n",
    "    result = pairwise_chisquared(column, values,df=df)\n",
    "    print_pairwise_chisquared(column, result)"
   ]
  },
  {
   "cell_type": "markdown",
   "metadata": {},
   "source": [
    "## Analysis"
   ]
  },
  {
   "cell_type": "markdown",
   "metadata": {},
   "source": [
    "### Initial Exploration"
   ]
  },
  {
   "cell_type": "markdown",
   "metadata": {},
   "source": [
    "To start our calculations, we'll compute the baseline survival rate."
   ]
  },
  {
   "cell_type": "code",
   "execution_count": 8,
   "metadata": {
    "collapsed": false
   },
   "outputs": [
    {
     "name": "stdout",
     "output_type": "stream",
     "text": [
      "The overall rate of survival was: 0.3838383838383838 .\n"
     ]
    }
   ],
   "source": [
    "baseline_survival = titanic['Survived'].mean()\n",
    "print(\"The overall rate of survival was:\",baseline_survival,\".\")"
   ]
  },
  {
   "cell_type": "markdown",
   "metadata": {},
   "source": [
    "Our goal is to find factors that influenced survival. To give us some guidance, we can compute correlation coefficients between Survived and other numerical variables to see if anything stands out."
   ]
  },
  {
   "cell_type": "code",
   "execution_count": 9,
   "metadata": {
    "collapsed": false,
    "scrolled": false
   },
   "outputs": [
    {
     "data": {
      "text/plain": [
       "PassengerId   -0.005007\n",
       "Survived       1.000000\n",
       "Pclass        -0.338481\n",
       "Age           -0.077221\n",
       "SibSp         -0.035322\n",
       "Parch          0.081629\n",
       "Fare           0.257307\n",
       "Name: Survived, dtype: float64"
      ]
     },
     "execution_count": 9,
     "metadata": {},
     "output_type": "execute_result"
    }
   ],
   "source": [
    "titanic.corr()['Survived']"
   ]
  },
  {
   "cell_type": "markdown",
   "metadata": {},
   "source": [
    "Both Pclass and Fare are relatively large, given that overall the correlation sizes in this list are pretty low. This suggests it might be worth looking at Pclass or Fare."
   ]
  },
  {
   "cell_type": "markdown",
   "metadata": {},
   "source": [
    "We can also look at differences in means of various variables if we first group by Survived."
   ]
  },
  {
   "cell_type": "code",
   "execution_count": 10,
   "metadata": {
    "collapsed": false
   },
   "outputs": [
    {
     "data": {
      "text/html": [
       "<div>\n",
       "<table border=\"1\" class=\"dataframe\">\n",
       "  <thead>\n",
       "    <tr style=\"text-align: right;\">\n",
       "      <th></th>\n",
       "      <th>PassengerId</th>\n",
       "      <th>Pclass</th>\n",
       "      <th>Age</th>\n",
       "      <th>SibSp</th>\n",
       "      <th>Parch</th>\n",
       "      <th>Fare</th>\n",
       "    </tr>\n",
       "    <tr>\n",
       "      <th>Survived</th>\n",
       "      <th></th>\n",
       "      <th></th>\n",
       "      <th></th>\n",
       "      <th></th>\n",
       "      <th></th>\n",
       "      <th></th>\n",
       "    </tr>\n",
       "  </thead>\n",
       "  <tbody>\n",
       "    <tr>\n",
       "      <th>0</th>\n",
       "      <td>447.016393</td>\n",
       "      <td>2.531876</td>\n",
       "      <td>30.626179</td>\n",
       "      <td>0.553734</td>\n",
       "      <td>0.329690</td>\n",
       "      <td>22.117887</td>\n",
       "    </tr>\n",
       "    <tr>\n",
       "      <th>1</th>\n",
       "      <td>444.368421</td>\n",
       "      <td>1.950292</td>\n",
       "      <td>28.343690</td>\n",
       "      <td>0.473684</td>\n",
       "      <td>0.464912</td>\n",
       "      <td>48.395408</td>\n",
       "    </tr>\n",
       "  </tbody>\n",
       "</table>\n",
       "</div>"
      ],
      "text/plain": [
       "          PassengerId    Pclass        Age     SibSp     Parch       Fare\n",
       "Survived                                                                 \n",
       "0          447.016393  2.531876  30.626179  0.553734  0.329690  22.117887\n",
       "1          444.368421  1.950292  28.343690  0.473684  0.464912  48.395408"
      ]
     },
     "execution_count": 10,
     "metadata": {},
     "output_type": "execute_result"
    }
   ],
   "source": [
    "titanic.groupby('Survived').mean()"
   ]
  },
  {
   "cell_type": "markdown",
   "metadata": {},
   "source": [
    "We see again what looks like differences in survival for Pclass and Fare, and maybe Age and Parch. Since Pclass and Fare are both proxies for the wealth of the passenger, but Pclass is discrete, our analysis will focus on this variable rather than Fare. Also, the analysis will not look at Parch, assuming that it's possible relationship to survival is mostly due to being somewhat conflated with Age and possibly Sex. "
   ]
  },
  {
   "cell_type": "markdown",
   "metadata": {},
   "source": [
    "Finally as part of the initial analysis we would like to look at possible differences in survival between genders. We can get an idea of the difference by grouping by genders and looking at the mean survival rate."
   ]
  },
  {
   "cell_type": "code",
   "execution_count": 11,
   "metadata": {
    "collapsed": false,
    "scrolled": true
   },
   "outputs": [
    {
     "name": "stdout",
     "output_type": "stream",
     "text": [
      "        % Survived of Total  Total\n",
      "Sex                               \n",
      "female             0.742038    314\n",
      "male               0.188908    577\n"
     ]
    }
   ],
   "source": [
    "print(survival_rate_and_total(titanic.groupby('Sex')['Survived']))"
   ]
  },
  {
   "cell_type": "markdown",
   "metadata": {},
   "source": [
    "There looks to be a stark difference between male and female survival rates and so we'll also look at this closer."
   ]
  },
  {
   "cell_type": "markdown",
   "metadata": {},
   "source": [
    "### Passenger Class"
   ]
  },
  {
   "cell_type": "markdown",
   "metadata": {},
   "source": [
    "We'll first focus on Pclass. If we group by Pclass and plot the means:"
   ]
  },
  {
   "cell_type": "code",
   "execution_count": 12,
   "metadata": {
    "collapsed": false,
    "scrolled": false
   },
   "outputs": [
    {
     "name": "stdout",
     "output_type": "stream",
     "text": [
      "        % Survived of Total  Total\n",
      "Pclass                            \n",
      "1                  0.629630    216\n",
      "2                  0.472826    184\n",
      "3                  0.242363    491\n"
     ]
    },
    {
     "data": {
      "image/png": "[encoded data removed]",
      "text/plain": [
       "<matplotlib.figure.Figure at 0xa3a7f98>"
      ]
     },
     "metadata": {},
     "output_type": "display_data"
    }
   ],
   "source": [
    "pclass_groups = titanic.groupby('Pclass')['Survived']\n",
    "print(survival_rate_and_total(pclass_groups))\n",
    "\n",
    "# Append the baseline_survival rate to the means list for plotting\n",
    "means_by_pclass = pclass_groups.mean()\n",
    "means_by_pclass = means_by_pclass.append(pd.Series([baseline_survival]))\n",
    "\n",
    "# Prepare parameters for plotting\n",
    "N = len(means_by_pclass) \n",
    "fig, ax = plt.subplots()\n",
    "\n",
    "bar_width = 0.75\n",
    "left_locs = np.arange(N)\n",
    "\n",
    "ax.bar(left_locs, means_by_pclass, bar_width)\n",
    "\n",
    "ax.set_ylabel('Survival Proportion')\n",
    "ax.set_xlabel('Passenger Class')\n",
    "ax.set_title('Survival Proportion by Passenger Class')\n",
    "ax.set_xticks(left_locs + bar_width/2)\n",
    "ax.set_xticklabels(('1st', '2nd', '3rd', 'Baseline'))\n",
    "silent = plt.ylim([0,1])"
   ]
  },
  {
   "cell_type": "markdown",
   "metadata": {},
   "source": [
    "These means all seem to differ from the baseline survival rate. Are the differences statistically significant? We can use a Chi-Square test to find out."
   ]
  },
  {
   "cell_type": "code",
   "execution_count": 13,
   "metadata": {
    "collapsed": false
   },
   "outputs": [
    {
     "name": "stdout",
     "output_type": "stream",
     "text": [
      "The P value for the chi-squared test comparing survival rates for Pclass is 1.71269559905e-14 .\n"
     ]
    }
   ],
   "source": [
    "calculate_and_print_chisquared('Pclass', [1,2,3])"
   ]
  },
  {
   "cell_type": "markdown",
   "metadata": {},
   "source": [
    "Thus the mean survival rate in the groups is significantly different from the overall survival rate. We can do a post-hoc analysis to determine where the differences lie between each group."
   ]
  },
  {
   "cell_type": "code",
   "execution_count": 14,
   "metadata": {
    "collapsed": false
   },
   "outputs": [
    {
     "name": "stdout",
     "output_type": "stream",
     "text": [
      "The P value for the chi-squared test comparing survival rates for values 1 and 2 for Pclass is 7.86700532232e-10 .\n",
      "The P value for the chi-squared test comparing survival rates for values 1 and 3 for Pclass is 1.16222320434e-14 .\n",
      "The P value for the chi-squared test comparing survival rates for values 2 and 3 for Pclass is 5.8894798869e-08 .\n",
      "The alpha level for these tests is 0.016666666666666666 .\n"
     ]
    }
   ],
   "source": [
    "calculate_and_print_pairwise_chisquared('Pclass', [1,2,3])"
   ]
  },
  {
   "cell_type": "markdown",
   "metadata": {},
   "source": [
    "We can conclude that each group is significantly different from each other. This suggests that being in a higher class offered a better chance of survival. What story does this tell? Perhaps the better passenger classes were given priority on the limited lifeboats, or perhaps the way rooms were distributed around the boat put the more expensive rooms closer to lifeboats."
   ]
  },
  {
   "cell_type": "markdown",
   "metadata": {},
   "source": [
    "### Gender and Age"
   ]
  },
  {
   "cell_type": "markdown",
   "metadata": {},
   "source": [
    "Similar to what we did with passenger class, we'll first look at the differences in survival rate by gender. "
   ]
  },
  {
   "cell_type": "code",
   "execution_count": 15,
   "metadata": {
    "collapsed": false,
    "scrolled": true
   },
   "outputs": [
    {
     "name": "stdout",
     "output_type": "stream",
     "text": [
      "The P value for the chi-squared test comparing survival rates for Sex is 3.97051638966e-37 .\n"
     ]
    }
   ],
   "source": [
    "calculate_and_print_chisquared('Sex',['male', 'female'])"
   ]
  },
  {
   "cell_type": "markdown",
   "metadata": {},
   "source": [
    "We see a highly significant difference in the survival rate of males and females. As printed above, the female survival rate was much higher than the male survival rate."
   ]
  },
  {
   "cell_type": "markdown",
   "metadata": {},
   "source": [
    "Let's look closer at age. (Note that since we're looking at age, we'll shift to using the dataframe without missing values for age.) First, what does the distribution of ages look like in the dataset?"
   ]
  },
  {
   "cell_type": "code",
   "execution_count": 16,
   "metadata": {
    "collapsed": false
   },
   "outputs": [
    {
     "data": {
      "image/png": "[encoded data removed]",
      "text/plain": [
       "<matplotlib.figure.Figure at 0xa3a76d8>"
      ]
     },
     "metadata": {},
     "output_type": "display_data"
    }
   ],
   "source": [
    "silent = sns.distplot(titanic_safe['Age'], kde = False).set(ylabel = 'Frequency', title = 'Distribution of Age')"
   ]
  },
  {
   "cell_type": "markdown",
   "metadata": {},
   "source": [
    "This looks approximately normal, except with a higher proportion falling in the first ranges of ages from about 0-5 and with a long tail to the right. Let's get a picture of the difference in survival."
   ]
  },
  {
   "cell_type": "code",
   "execution_count": 17,
   "metadata": {
    "collapsed": false
   },
   "outputs": [
    {
     "data": {
      "image/png": "[encoded data removed]",
      "text/plain": [
       "<matplotlib.figure.Figure at 0xa53f0f0>"
      ]
     },
     "metadata": {},
     "output_type": "display_data"
    }
   ],
   "source": [
    "p = sns.boxplot(data = titanic_safe, x = 'Survived', y = 'Age')\n",
    "silent = p.set(title = 'Age Distribution by Survival', \n",
    "        xlabel = 'Survival', \n",
    "        ylabel = 'Age Distribution', \n",
    "        xticklabels = ['Died', 'Survived'])"
   ]
  },
  {
   "cell_type": "markdown",
   "metadata": {},
   "source": [
    "The survival rates don't actually look that different. However, our understanding of the shipwreck from popular culture is that children were given preference for survival. Perhaps the long right tail we saw in the distribution of the ages is skewing the results, there are way more adults in the dataset than children. Let's define \"child\" as anyone under 18 and group the data by the rule and then look at survival rate."
   ]
  },
  {
   "cell_type": "code",
   "execution_count": 18,
   "metadata": {
    "collapsed": false,
    "scrolled": true
   },
   "outputs": [
    {
     "name": "stdout",
     "output_type": "stream",
     "text": [
      "          % Survived of Total  Total\n",
      "Over_18              0.381032    601\n",
      "Under_18             0.539823    113\n"
     ]
    }
   ],
   "source": [
    "# Group in titanic by using a mapping function on age which assigns people to either the under 18 or over 18 group\n",
    "def assign_age_group(x):\n",
    "    return \"Under_18\" if titanic_safe['Age'].loc[x] < 18 else \"Over_18\"\n",
    "\n",
    "age_groups = titanic_safe.groupby(assign_age_group)['Survived']\n",
    "print(survival_rate_and_total(age_groups))"
   ]
  },
  {
   "cell_type": "markdown",
   "metadata": {},
   "source": [
    "This does look like a difference of survival rates. Let's add a column to denote whether a person is under 18 and test for significance. "
   ]
  },
  {
   "cell_type": "code",
   "execution_count": 19,
   "metadata": {
    "collapsed": false
   },
   "outputs": [
    {
     "name": "stdout",
     "output_type": "stream",
     "text": [
      "The P value for the chi-squared test comparing survival rates for Under_18 is 0.00739135434657 .\n"
     ]
    }
   ],
   "source": [
    "titanic_safe.loc[:,'Under_18'] = titanic_safe['Age'] < 18\n",
    "calculate_and_print_chisquared('Under_18', [True, False], df=titanic_safe)"
   ]
  },
  {
   "cell_type": "markdown",
   "metadata": {},
   "source": [
    "We have a significant difference of survival for those under 18 and those over 18. Since we know gender is significant, could some of this difference be explained by different counts of gender for those under or over 18?"
   ]
  },
  {
   "cell_type": "code",
   "execution_count": 20,
   "metadata": {
    "collapsed": false
   },
   "outputs": [
    {
     "data": {
      "text/html": [
       "<div>\n",
       "<table border=\"1\" class=\"dataframe\">\n",
       "  <thead>\n",
       "    <tr style=\"text-align: right;\">\n",
       "      <th>Under_18</th>\n",
       "      <th>False</th>\n",
       "      <th>True</th>\n",
       "    </tr>\n",
       "    <tr>\n",
       "      <th>Sex</th>\n",
       "      <th></th>\n",
       "      <th></th>\n",
       "    </tr>\n",
       "  </thead>\n",
       "  <tbody>\n",
       "    <tr>\n",
       "      <th>female</th>\n",
       "      <td>206</td>\n",
       "      <td>55</td>\n",
       "    </tr>\n",
       "    <tr>\n",
       "      <th>male</th>\n",
       "      <td>395</td>\n",
       "      <td>58</td>\n",
       "    </tr>\n",
       "  </tbody>\n",
       "</table>\n",
       "</div>"
      ],
      "text/plain": [
       "Under_18  False  True \n",
       "Sex                   \n",
       "female      206     55\n",
       "male        395     58"
      ]
     },
     "execution_count": 20,
     "metadata": {},
     "output_type": "execute_result"
    }
   ],
   "source": [
    "pd.crosstab(titanic_safe['Sex'], titanic_safe['Under_18'])"
   ]
  },
  {
   "cell_type": "markdown",
   "metadata": {},
   "source": [
    "While the under 18 counts are similar, there's almost double the amount of males in the over 18 group. This means that some of the variation in the survival rate could be due the different gender proportions of the groups."
   ]
  },
  {
   "cell_type": "markdown",
   "metadata": {},
   "source": [
    "We have a little bit more of the story taken from the individual analyses. The higher survival rate of females suggests that women and girls were given priority in boarding lifeboats. And similarly, the higher survival rates of the under 18 group suggests that children were given priority in boarding lifeboats."
   ]
  },
  {
   "cell_type": "markdown",
   "metadata": {},
   "source": [
    "What if we look a little bit closer at gender and age together? Were girls more likely to survive than boys and women more likely than men? This will go some way in determining whether the difference observed for children and adults above was simply due to the different proportions of the groups."
   ]
  },
  {
   "cell_type": "code",
   "execution_count": 21,
   "metadata": {
    "collapsed": false,
    "scrolled": true
   },
   "outputs": [
    {
     "name": "stdout",
     "output_type": "stream",
     "text": [
      "                 % Survived of Total  Total\n",
      "         Sex                               \n",
      "Over_18  female             0.771845    206\n",
      "         male               0.177215    395\n",
      "Under_18 female             0.690909     55\n",
      "         male               0.396552     58\n"
     ]
    },
    {
     "data": {
      "image/png": "[encoded data removed]",
      "text/plain": [
       "<matplotlib.figure.Figure at 0xa79c2b0>"
      ]
     },
     "metadata": {},
     "output_type": "display_data"
    }
   ],
   "source": [
    "# Group by the previous mapping function and also by the Sex column\n",
    "gender_age_groups = titanic_safe.groupby([assign_age_group, 'Sex'])['Survived']\n",
    "print(survival_rate_and_total(gender_age_groups))\n",
    "\n",
    "# Prepare plotting parameters\n",
    "means_by_gender_age = gender_age_groups.mean()\n",
    "\n",
    "N = len(means_by_gender_age) \n",
    "fig, ax = plt.subplots()\n",
    "\n",
    "bar_width = 0.75\n",
    "left_locs = np.arange(N)\n",
    "\n",
    "ax.bar(left_locs, means_by_gender_age, bar_width, label='Survived', color='blue')\n",
    "\n",
    "ax.set_ylabel('Survival Proportion')\n",
    "ax.set_xlabel('Gender and Age Group')\n",
    "ax.set_title('Survival Proportion by Gender and Age Group')\n",
    "ax.set_xticks(left_locs + bar_width/2)\n",
    "silent = ax.set_xticklabels(('Over 18 Female', 'Over 18 Male', 'Under 18 Female', 'Under 18 Male'))\n",
    "silent = plt.ylim([0,1])"
   ]
  },
  {
   "cell_type": "markdown",
   "metadata": {},
   "source": [
    "Tentatively it looks like women and girls had about the same survival rate, which were both better than boys and men, while boys had better survival rates than men. Let's put it to the test. We'll first add a new column which represents the gender and under 18 pair and then run the test using that new column."
   ]
  },
  {
   "cell_type": "code",
   "execution_count": 22,
   "metadata": {
    "collapsed": false
   },
   "outputs": [
    {
     "name": "stdout",
     "output_type": "stream",
     "text": [
      "The P value for the chi-squared test comparing survival rates for sex_age_pair is 8.93374432915e-30 .\n"
     ]
    }
   ],
   "source": [
    "# Takes a row from the data frame and returns a string representing it's sex and age group pair\n",
    "def sex_age_pair(row):\n",
    "    if row['Sex'] == 'male' and row['Age'] < 18:\n",
    "        return \"Male Child\"\n",
    "    elif row['Sex'] == 'male' and row['Age'] >= 18:\n",
    "        return \"Male Adult\"\n",
    "    elif row['Sex'] == 'female' and row['Age'] < 18:\n",
    "        return \"Female Child\"\n",
    "    else:\n",
    "        return \"Female Adult\"\n",
    "\n",
    "# Apply the function to each row and assign the result to a new column in titanic\n",
    "titanic_safe.loc[:,'sex_age_pair'] = titanic_safe.apply(lambda x: sex_age_pair(x), axis=1)\n",
    "\n",
    "calculate_and_print_chisquared('sex_age_pair',['Male Child', 'Male Adult', 'Female Child', 'Female Adult'],titanic_safe)"
   ]
  },
  {
   "cell_type": "markdown",
   "metadata": {},
   "source": [
    "We have a significant difference for the groups. Let's do a pairwise comparison."
   ]
  },
  {
   "cell_type": "code",
   "execution_count": 23,
   "metadata": {
    "collapsed": false
   },
   "outputs": [
    {
     "name": "stdout",
     "output_type": "stream",
     "text": [
      "The P value for the chi-squared test comparing survival rates for values Male Child and Male Adult for sex_age_pair is 3.35320225606e-11 .\n",
      "The P value for the chi-squared test comparing survival rates for values Male Child and Female Child for sex_age_pair is 0.000234088755064 .\n",
      "The P value for the chi-squared test comparing survival rates for values Male Child and Female Adult for sex_age_pair is 2.47039752325e-19 .\n",
      "The P value for the chi-squared test comparing survival rates for values Male Adult and Female Child for sex_age_pair is 3.47435162246e-14 .\n",
      "The P value for the chi-squared test comparing survival rates for values Male Adult and Female Adult for sex_age_pair is 5.82594947999e-29 .\n",
      "The P value for the chi-squared test comparing survival rates for values Female Child and Female Adult for sex_age_pair is 2.70013965825e-22 .\n",
      "The alpha level for these tests is 0.008333333333333333 .\n"
     ]
    }
   ],
   "source": [
    "calculate_and_print_pairwise_chisquared('sex_age_pair', ['Male Child', 'Male Adult', 'Female Child', 'Female Adult'],titanic_safe)"
   ]
  },
  {
   "cell_type": "markdown",
   "metadata": {},
   "source": [
    "These results suggest that indeed women, girls, and boys survived at different rates from men, and further that girls had better survival rates than boys. This suggests that women and girls were given the highest priority, followed by boys and then finally by men."
   ]
  },
  {
   "cell_type": "markdown",
   "metadata": {},
   "source": [
    "### Gender, Age, and Passenger Class"
   ]
  },
  {
   "cell_type": "markdown",
   "metadata": {},
   "source": [
    "Finally, let's see if we can find any significant differences if we group the data by all three variables. This will help get us a more nuanced picture. Perhaps we only saw the difference in survival for different passenger classes because of different demographics. However, since we're breaking the data apart so much, we'll have to be more careful about what conclusions we draw. Our sample sizes will be much smaller in some groups particularly in the under 18 group in the 1st passenger class."
   ]
  },
  {
   "cell_type": "markdown",
   "metadata": {},
   "source": [
    "We'll plot a bar graph of the different survival rates."
   ]
  },
  {
   "cell_type": "code",
   "execution_count": 24,
   "metadata": {
    "collapsed": false
   },
   "outputs": [
    {
     "name": "stdout",
     "output_type": "stream",
     "text": [
      "                        % Survived of Total  Total\n",
      "Pclass          Sex                               \n",
      "1      Over_18  female             0.974026     77\n",
      "                male               0.371134     97\n",
      "       Under_18 female             0.875000      8\n",
      "                male               1.000000      4\n",
      "2      Over_18  female             0.903226     62\n",
      "                male               0.068182     88\n",
      "       Under_18 female             1.000000     12\n",
      "                male               0.818182     11\n",
      "3      Over_18  female             0.417910     67\n",
      "                male               0.133333    210\n",
      "       Under_18 female             0.542857     35\n",
      "                male               0.232558     43\n"
     ]
    },
    {
     "data": {
      "image/png": "[encoded data removed]",
      "text/plain": [
       "<matplotlib.figure.Figure at 0xa892390>"
      ]
     },
     "metadata": {},
     "output_type": "display_data"
    }
   ],
   "source": [
    "# Group by apply the mapping function for age as before, along with Pclass and Sex\n",
    "gender_age_pclass_group = titanic_safe.groupby(['Pclass', assign_age_group, 'Sex'])['Survived']\n",
    "print(survival_rate_and_total(gender_age_pclass_group))\n",
    "\n",
    "titanic_safe = titanic_safe.rename(columns={'sex_age_pair':'Sex and Age'})\n",
    "titanic_safe.loc[:, \"Passenger Class\"] = titanic_safe['Pclass'].map({1:'First Class', 2:'Second Class', 3:'Third Class'})\n",
    "t = titanic_safe.groupby(['Passenger Class', 'Sex and Age'], as_index = False)['Survived'].mean()\n",
    "p = sns.factorplot(data = t, x = 'Sex and Age', y = 'Survived', col = 'Passenger Class', kind = 'bar')\n",
    "silent = (p.set_axis_labels('', 'Passenger Count').set_titles('{col_name}'))"
   ]
  },
  {
   "cell_type": "markdown",
   "metadata": {},
   "source": [
    "Both 1st and 2nd passenger class look very similar, but 3rd stands out as being lower across each sex and age pair, except possibly for over 18 males. The proportion of adult males who survived in first class looks to be a lot higher than in the other two classes as well.\n",
    "\n",
    "If we wanted to test for significance, we can't use the chi-square due to some groups having small sample sizes. We'll leave it at speculation for this section."
   ]
  },
  {
   "cell_type": "markdown",
   "metadata": {},
   "source": [
    "## Conclusion"
   ]
  },
  {
   "cell_type": "markdown",
   "metadata": {},
   "source": [
    "The data seems to corroborate the story of the Titanic shipwreck that we've heard in popular culture. Women and children seem like they were given preference over males. However, it has also revealed where that story is more nuanced. Even comparing young girls and boys, it looks like girls had a higher chance to survive. And being in 3rd class meant a worse chance for survival."
   ]
  }
 ],
 "metadata": {
  "kernelspec": {
   "display_name": "Python 2",
   "language": "python",
   "name": "python2"
  },
  "language_info": {
   "codemirror_mode": {
    "name": "ipython",
    "version": 2
   },
   "file_extension": ".py",
   "mimetype": "text/x-python",
   "name": "python",
   "nbconvert_exporter": "python",
   "pygments_lexer": "ipython2",
   "version": "2.7.11"
  }
 },
 "nbformat": 4,
 "nbformat_minor": 0
}
